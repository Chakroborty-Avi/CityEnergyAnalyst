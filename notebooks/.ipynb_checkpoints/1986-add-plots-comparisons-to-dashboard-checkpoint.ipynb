{
 "cells": [
  {
   "cell_type": "markdown",
   "metadata": {},
   "source": [
    "Some notes while converting the comparison plots from the `cea plots-comparisons` to the dashboard."
   ]
  },
  {
   "cell_type": "code",
   "execution_count": 13,
   "metadata": {},
   "outputs": [],
   "source": [
    "import cea.config\n",
    "import cea.inputlocator\n",
    "reload(cea.config)\n",
    "config = cea.config.Configuration()\n",
    "locator = cea.inputlocator.InputLocator(scenario=config.scenario)"
   ]
  },
  {
   "cell_type": "code",
   "execution_count": 14,
   "metadata": {},
   "outputs": [],
   "source": [
    "import pandas as pd\n",
    "import os"
   ]
  },
  {
   "cell_type": "code",
   "execution_count": 19,
   "metadata": {},
   "outputs": [
    {
     "data": {
      "text/plain": [
       "('baseline', None, None)"
      ]
     },
     "execution_count": 19,
     "metadata": {},
     "output_type": "execute_result"
    }
   ],
   "source": [
    "config.plots_scenario_comparisons.base_scenario"
   ]
  },
  {
   "cell_type": "code",
   "execution_count": 20,
   "metadata": {},
   "outputs": [
    {
     "ename": "AttributeError",
     "evalue": "'tuple' object has no attribute 'split'",
     "output_type": "error",
     "traceback": [
      "\u001b[1;31m---------------------------------------------------------------------------\u001b[0m",
      "\u001b[1;31mAttributeError\u001b[0m                            Traceback (most recent call last)",
      "\u001b[1;32m<ipython-input-20-1c02abb26dca>\u001b[0m in \u001b[0;36m<module>\u001b[1;34m()\u001b[0m\n\u001b[0;32m      5\u001b[0m \u001b[0mnetwork_type\u001b[0m \u001b[1;33m=\u001b[0m \u001b[0mconfig\u001b[0m\u001b[1;33m.\u001b[0m\u001b[0mplots_scenario_comparisons\u001b[0m\u001b[1;33m.\u001b[0m\u001b[0mnetwork_type\u001b[0m\u001b[1;33m\u001b[0m\u001b[0m\n\u001b[0;32m      6\u001b[0m \u001b[1;33m\u001b[0m\u001b[0m\n\u001b[1;32m----> 7\u001b[1;33m \u001b[0mgeneration_base\u001b[0m \u001b[1;33m=\u001b[0m \u001b[0mscenario_baseline\u001b[0m\u001b[1;33m.\u001b[0m\u001b[0msplit\u001b[0m\u001b[1;33m(\u001b[0m\u001b[1;34m'/'\u001b[0m\u001b[1;33m)\u001b[0m\u001b[1;33m[\u001b[0m\u001b[1;36m1\u001b[0m\u001b[1;33m]\u001b[0m \u001b[1;32mif\u001b[0m \u001b[0mlen\u001b[0m\u001b[1;33m(\u001b[0m\u001b[0mscenario_baseline\u001b[0m\u001b[1;33m.\u001b[0m\u001b[0msplit\u001b[0m\u001b[1;33m(\u001b[0m\u001b[1;34m'/'\u001b[0m\u001b[1;33m)\u001b[0m\u001b[1;33m)\u001b[0m \u001b[1;33m>\u001b[0m \u001b[1;36m1\u001b[0m \u001b[1;32melse\u001b[0m \u001b[1;34m\"none\"\u001b[0m\u001b[1;33m\u001b[0m\u001b[0m\n\u001b[0m\u001b[0;32m      8\u001b[0m \u001b[0mindividual_base\u001b[0m \u001b[1;33m=\u001b[0m \u001b[0mscenario_baseline\u001b[0m\u001b[1;33m.\u001b[0m\u001b[0msplit\u001b[0m\u001b[1;33m(\u001b[0m\u001b[1;34m'/'\u001b[0m\u001b[1;33m)\u001b[0m\u001b[1;33m[\u001b[0m\u001b[1;36m2\u001b[0m\u001b[1;33m]\u001b[0m \u001b[1;32mif\u001b[0m \u001b[0mlen\u001b[0m\u001b[1;33m(\u001b[0m\u001b[0mscenario_baseline\u001b[0m\u001b[1;33m.\u001b[0m\u001b[0msplit\u001b[0m\u001b[1;33m(\u001b[0m\u001b[1;34m'/'\u001b[0m\u001b[1;33m)\u001b[0m\u001b[1;33m)\u001b[0m \u001b[1;33m>\u001b[0m \u001b[1;36m1\u001b[0m \u001b[1;32melse\u001b[0m \u001b[1;34m\"none\"\u001b[0m\u001b[1;33m\u001b[0m\u001b[0m\n\u001b[0;32m      9\u001b[0m \u001b[1;33m\u001b[0m\u001b[0m\n",
      "\u001b[1;31mAttributeError\u001b[0m: 'tuple' object has no attribute 'split'"
     ]
    }
   ],
   "source": [
    "project = config.plots_scenario_comparisons.project\n",
    "scenario_baseline = config.plots_scenario_comparisons.base_scenario\n",
    "\n",
    "scenarios_names = [scenario_baseline] + config.plots_scenario_comparisons.scenarios\n",
    "network_type = config.plots_scenario_comparisons.network_type\n",
    "\n",
    "generation_base = scenario_baseline[1]\n",
    "individual_base = scenario_baseline[2]\n",
    "\n",
    "scenario_base_path = os.path.join(project, scenario_baseline[0])\n",
    "scenarios_path = [os.path.join(project, scenario[0]) for scenario in\n",
    "                  config.plots_scenario_comparisons.scenarios]\n",
    "# scenarios = [[scenario_baseline]+ config.plots_scenario_comparisons.scenarios]\n",
    "generations = [generation_base] + [scenario[1] if len(scenario.split('/')) > 1 else \"none\"\n",
    "                                   for scenario in config.plots_scenario_comparisons.scenarios]\n",
    "individuals = [individual_base] + [scenario.split('/')[2] if len(scenario.split('/')) > 1 else \"none\"\n",
    "                                   for scenario in config.plots_scenario_comparisons.scenarios]\n",
    "categories = config.plots_scenario_comparisons.categories\n",
    "\n",
    "generation_pointers, individual_pointers = pointers_all_scenarios(generations, individuals, [\n",
    "    scenario_base_path] + scenarios_path)  # initialize class\n",
    "category = \"comparisons\""
   ]
  },
  {
   "cell_type": "code",
   "execution_count": null,
   "metadata": {},
   "outputs": [],
   "source": [
    "# adaptation of the function `cea.plots.comparisons.main.Plots#preprocessing_demand_scenarios`\n",
    "def preprocessing_demand_scenarios(self):\n",
    "    data_processed = pd.DataFrame()\n",
    "    scenarios_clean = []\n",
    "    for i, scenario_name in enumerate(self.scenarios_names):\n",
    "        if scenario_name in scenarios_clean:\n",
    "            scenario_name = scenario_name + \"_duplicated_\" + str(i)\n",
    "        scenarios_clean.append(scenario_name)\n",
    "\n",
    "    for scenario, scenario_name in zip(self.scenarios, scenarios_clean):\n",
    "        locator = cea.inputlocator.InputLocator(scenario)\n",
    "        data_raw = (pd.read_csv(locator.get_total_demand())[self.analysis_fields_demand + [\"GFA_m2\"]]).sum(axis=0)\n",
    "        data_raw_df = pd.DataFrame({scenario_name: data_raw}, index=data_raw.index).T\n",
    "        data_processed = data_processed.append(data_raw_df)\n",
    "    return data_processed"
   ]
  },
  {
   "cell_type": "code",
   "execution_count": 6,
   "metadata": {},
   "outputs": [
    {
     "ename": "AttributeError",
     "evalue": "'NoneType' object has no attribute 'scenarios_names'",
     "output_type": "error",
     "traceback": [
      "\u001b[1;31m---------------------------------------------------------------------------\u001b[0m",
      "\u001b[1;31mAttributeError\u001b[0m                            Traceback (most recent call last)",
      "\u001b[1;32m<ipython-input-6-f7992403b384>\u001b[0m in \u001b[0;36m<module>\u001b[1;34m()\u001b[0m\n\u001b[1;32m----> 1\u001b[1;33m \u001b[0mpreprocessing_demand_scenarios\u001b[0m\u001b[1;33m(\u001b[0m\u001b[0mNone\u001b[0m\u001b[1;33m)\u001b[0m\u001b[1;33m\u001b[0m\u001b[0m\n\u001b[0m",
      "\u001b[1;32m<ipython-input-5-bf1859ed559c>\u001b[0m in \u001b[0;36mpreprocessing_demand_scenarios\u001b[1;34m(self)\u001b[0m\n\u001b[0;32m      3\u001b[0m     \u001b[0mdata_processed\u001b[0m \u001b[1;33m=\u001b[0m \u001b[0mpd\u001b[0m\u001b[1;33m.\u001b[0m\u001b[0mDataFrame\u001b[0m\u001b[1;33m(\u001b[0m\u001b[1;33m)\u001b[0m\u001b[1;33m\u001b[0m\u001b[0m\n\u001b[0;32m      4\u001b[0m     \u001b[0mscenarios_clean\u001b[0m \u001b[1;33m=\u001b[0m \u001b[1;33m[\u001b[0m\u001b[1;33m]\u001b[0m\u001b[1;33m\u001b[0m\u001b[0m\n\u001b[1;32m----> 5\u001b[1;33m     \u001b[1;32mfor\u001b[0m \u001b[0mi\u001b[0m\u001b[1;33m,\u001b[0m \u001b[0mscenario_name\u001b[0m \u001b[1;32min\u001b[0m \u001b[0menumerate\u001b[0m\u001b[1;33m(\u001b[0m\u001b[0mself\u001b[0m\u001b[1;33m.\u001b[0m\u001b[0mscenarios_names\u001b[0m\u001b[1;33m)\u001b[0m\u001b[1;33m:\u001b[0m\u001b[1;33m\u001b[0m\u001b[0m\n\u001b[0m\u001b[0;32m      6\u001b[0m         \u001b[1;32mif\u001b[0m \u001b[0mscenario_name\u001b[0m \u001b[1;32min\u001b[0m \u001b[0mscenarios_clean\u001b[0m\u001b[1;33m:\u001b[0m\u001b[1;33m\u001b[0m\u001b[0m\n\u001b[0;32m      7\u001b[0m             \u001b[0mscenario_name\u001b[0m \u001b[1;33m=\u001b[0m \u001b[0mscenario_name\u001b[0m \u001b[1;33m+\u001b[0m \u001b[1;34m\"_duplicated_\"\u001b[0m \u001b[1;33m+\u001b[0m \u001b[0mstr\u001b[0m\u001b[1;33m(\u001b[0m\u001b[0mi\u001b[0m\u001b[1;33m)\u001b[0m\u001b[1;33m\u001b[0m\u001b[0m\n",
      "\u001b[1;31mAttributeError\u001b[0m: 'NoneType' object has no attribute 'scenarios_names'"
     ]
    }
   ],
   "source": [
    "preprocessing_demand_scenarios(None)"
   ]
  },
  {
   "cell_type": "code",
   "execution_count": 12,
   "metadata": {},
   "outputs": [
    {
     "data": {
      "text/plain": [
       "['C:\\\\reference-case-cooling\\\\baseline/1/ind1',\n",
       " 'C:\\\\reference-case-cooling\\\\baseline/1/ind2']"
      ]
     },
     "execution_count": 12,
     "metadata": {},
     "output_type": "execute_result"
    }
   ],
   "source": [
    "config.plots_scenario_comparisons.scenarios"
   ]
  },
  {
   "cell_type": "code",
   "execution_count": 9,
   "metadata": {},
   "outputs": [
    {
     "data": {
      "text/plain": [
       "'C:\\\\reference-case-cooling\\\\baseline'"
      ]
     },
     "execution_count": 9,
     "metadata": {},
     "output_type": "execute_result"
    }
   ],
   "source": [
    "config.plots_scenario_comparisons.base_scenario"
   ]
  },
  {
   "cell_type": "code",
   "execution_count": null,
   "metadata": {},
   "outputs": [],
   "source": []
  }
 ],
 "metadata": {
  "kernelspec": {
   "display_name": "Python 2",
   "language": "python",
   "name": "python2"
  },
  "language_info": {
   "codemirror_mode": {
    "name": "ipython",
    "version": 2
   },
   "file_extension": ".py",
   "mimetype": "text/x-python",
   "name": "python",
   "nbconvert_exporter": "python",
   "pygments_lexer": "ipython2",
   "version": "2.7.15"
  }
 },
 "nbformat": 4,
 "nbformat_minor": 2
}
