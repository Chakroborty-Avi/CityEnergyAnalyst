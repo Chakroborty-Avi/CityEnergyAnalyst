{
 "cells": [
  {
   "cell_type": "markdown",
   "metadata": {},
   "source": "### Update glossary.csv file using data from schemas.yml\n\nThis script assumes you have a \"new\" schema obtained from running the `cea trace-inputlocator` script."
  },
  {
   "cell_type": "code",
   "execution_count": 421,
   "metadata": {},
   "outputs": [],
   "source": "import cea.scripts\nimport cea.inputlocator\nimport cea.config\nimport cea.glossary\nfrom cea.tests.trace_inputlocator import get_csv_schema\nimport os\nimport yaml\nimport json\nfrom itertools import repeat"
  },
  {
   "cell_type": "code",
   "execution_count": 422,
   "metadata": {},
   "outputs": [
    {
     "name": "stdout",
     "output_type": "stream",
     "text": "saved new glossary.csv - reloading\n"
    }
   ],
   "source": "schemas = cea.scripts.schemas()\nglossary_df = cea.glossary.read_glossary_df()\nlocators = schemas.keys()\n\ndef save_glossary(glossary_df):\n    glossary_df = glossary_df.sort_values([\"SCRIPT\", \"LOCATOR_METHOD\", \"FILE_NAME\", \"VARIABLE\"])\n    glossary_df.to_csv(os.path.join(os.path.dirname(cea.glossary.__file__), 'glossary.csv'),\n                  columns=[\"SCRIPT\", \"LOCATOR_METHOD\", \"FILE_NAME\", \"VARIABLE\", \"DESCRIPTION\", \"UNIT\", \"VALUES\", \"TYPE\", \"COLOR\"],\n                  index=False)\n    print(\"saved new glossary.csv - reloading\")\n    glossary_df = cea.glossary.read_glossary_df()\n    return glossary_df\nglossary_df = save_glossary(glossary_df)"
  },
  {
   "cell_type": "markdown",
   "metadata": {},
   "source": "### start by finding all entries in schemas.yml without a schema"
  },
  {
   "cell_type": "markdown",
   "metadata": {},
   "source": "the following three locator methods need \"special\" treatment:\n- get_optimization_checkpoint\n  - \"special\" schema\n- get_optimization_disconnected_cooling_capacity\n  - only present in projects with cooling network\n- get_optimization_connected_cooling_capacity\n  - only present in projects with cooling network\n  \nthis code assumes you have a \"reference-case-cooling/baseline\" in your projectroot and have run the optimization on that (e.g. run `cea workflow --workflow district-cooling-system`)"
  },
  {
   "cell_type": "code",
   "execution_count": 423,
   "metadata": {},
   "outputs": [],
   "source": "config = cea.config.Configuration()\nconfig.scenario = os.path.join(config.project, \"..\", \"reference-case-cooling\", \"baseline\")\nlocator = cea.inputlocator.InputLocator(scenario=config.scenario)\n\n# load get_optimization_checkpoint schema\nif not schemas[\"get_optimization_checkpoint\"][\"schema\"]:\n    with open(locator.get_optimization_checkpoint(1), 'r') as fp:\n        get_optimization_checkpoint = json.load(fp)\n    schemas[\"get_optimization_checkpoint\"][\"schema\"] = {\n        str(key): {\"sample_data\": get_optimization_checkpoint[key],\n                   \"types_found\": None}\n        for key in get_optimization_checkpoint.keys()\n    }\n\n# load get_optimization_disconnected_cooling_capacity schema\nif not schemas[\"get_optimization_disconnected_cooling_capacity\"][\"schema\"]:\n    schemas[\"get_optimization_disconnected_cooling_capacity\"][\"schema\"] = get_csv_schema(\n        locator.get_optimization_disconnected_cooling_capacity(1, 1))\n    \n# load get_optimization_connected_cooling_capacity schema\nif not schemas[\"get_optimization_connected_cooling_capacity\"][\"schema\"]:\n    schemas[\"get_optimization_connected_cooling_capacity\"][\"schema\"] = get_csv_schema(\n        locator.get_optimization_disconnected_cooling_capacity(1, 1))"
  },
  {
   "cell_type": "code",
   "execution_count": 424,
   "metadata": {},
   "outputs": [],
   "source": "# each locator method needs a \"schema\" entry (this should not output anything)\nfor lm in locators:\n    if not \"schema\" in schemas[lm]:\n        print lm"
  },
  {
   "cell_type": "code",
   "execution_count": 425,
   "metadata": {},
   "outputs": [],
   "source": "# the \"schema\" entry should not be `None` (this should not output anything)\nfor lm in locators:\n    if not schemas[lm][\"schema\"]:\n        print lm"
  },
  {
   "cell_type": "markdown",
   "metadata": {},
   "source": "if any of the above produce printed output, update schemas.yml and re-run the notebook"
  },
  {
   "cell_type": "markdown",
   "metadata": {},
   "source": "### make sure the \"used-by\" and \"created-by\" lists don't contain duplicates"
  },
  {
   "cell_type": "code",
   "execution_count": 426,
   "metadata": {},
   "outputs": [],
   "source": "for lm in locators:\n    if not \"used_by\" in schemas[lm]:\n        print lm"
  },
  {
   "cell_type": "code",
   "execution_count": 427,
   "metadata": {},
   "outputs": [],
   "source": "for lm in locators:\n    if not \"created_by\" in schemas[lm]:\n        print lm"
  },
  {
   "cell_type": "markdown",
   "metadata": {},
   "source": "each locator should have a \"used_by\" and a \"created_by\" - let's assume they're all lists"
  },
  {
   "cell_type": "code",
   "execution_count": 428,
   "metadata": {},
   "outputs": [],
   "source": "for lm in locators:\n    schemas[lm][\"used_by\"] = sorted(set(schemas[lm][\"used_by\"]))\n    schemas[lm][\"created_by\"] = sorted(set(schemas[lm][\"created_by\"]))"
  },
  {
   "cell_type": "code",
   "execution_count": 429,
   "metadata": {},
   "outputs": [
    {
     "name": "stdout",
     "output_type": "stream",
     "text": "saving to: c:\\users\\darthoma\\documents\\github\\cityenergyanalyst\\cea\\schemas.yml\n"
    }
   ],
   "source": "# save it back\nschemas_yml = os.path.join(os.path.dirname(cea.scripts.__file__), 'schemas.yml')\nprint \"saving to:\", schemas_yml\nwith open(schemas_yml, 'w') as fp:\n    yaml.dump(schemas, fp)\nschemas = cea.scripts.schemas()"
  },
  {
   "cell_type": "markdown",
   "metadata": {},
   "source": "### find all schema entries that are not in glossary.csv"
  },
  {
   "cell_type": "code",
   "execution_count": 430,
   "metadata": {},
   "outputs": [
    {
     "name": "stdout",
     "output_type": "stream",
     "text": "\n"
    }
   ],
   "source": "# first: what are the missing locator methods?\nglossary_lms = set(glossary_df.LOCATOR_METHOD.values)\nschemas_lms = set(schemas.keys())\nmissing_lms = sorted(schemas_lms - glossary_lms)\nprint '\\n'.join(missing_lms)"
  },
  {
   "cell_type": "markdown",
   "metadata": {},
   "source": "for each of those missing locator methods in glossary.csv, we need to append entries for each of the fields of that file. some of those files are special (the optimization checkpoints comes to mind). each glossary.csv entry has the following fields:\n\n- SCRIPT (use first \"created_by\" or \"-\", if input file)\n- LOCATOR_METHOD\n- FILE_NAME (get from schemas.yml file_path)\n- VARIABLE (this is the field name)\n- DESCRIPTION (use \"TODO\")\n- UNIT (use \"TODO\")\n- VALUES (use \"TODO\")\n- TYPE (use the first from schemas.types_found)\n- COLOR (use \"black\") - I'm not really sure we need this at all in glossary.csv?"
  },
  {
   "cell_type": "code",
   "execution_count": 431,
   "metadata": {},
   "outputs": [
    {
     "name": "stdout",
     "output_type": "stream",
     "text": "saved new glossary.csv - reloading\n"
    }
   ],
   "source": "def extract_glossary_row(script, lm, file_name, variable, variable_entry):\n    if \"types_found\" in variable_entry:\n        var_type = variable_entry[\"types_found\"][0] if variable_entry[\"types_found\"] else \"TODO\"\n    else:\n        var_type = \"TODO\"\n    return {\n        \"key\": \"{lm}!!!{variable}\".format(**locals()),\n        \"SCRIPT\": script,\n        \"LOCATOR_METHOD\": lm,\n        \"FILE_NAME\": file_name,\n        \"VARIABLE\": variable,\n        \"DESCRIPTION\": \"TODO\",\n        \"UNIT\": \"TODO\",\n        \"VALUES\": \"TODO\",\n        \"TYPE\": var_type,\n        \"COLOR\": \"black\"}\n\nfor lm in missing_lms:\n    print(\"processing lm:\", lm)\n    script = schemas[lm][\"created_by\"][0] if len(schemas[lm][\"created_by\"]) else \"-\"\n    file_name = schemas[lm][\"file_path\"]\n    file_type = schemas[lm][\"file_type\"]\n    if file_type in {\"xls\", \"xlsx\"}:\n        for worksheet in schemas[lm][\"schema\"].keys():\n            for variable in schemas[lm][\"schema\"][worksheet].keys():\n                variable_entry = schemas[lm][\"schema\"][worksheet][variable]\n                ws_file_name = \"{file_name}:{worksheet}\".format(**locals())\n                row = extract_glossary_row(script, lm, ws_file_name, variable, variable_entry)\n                glossary_df = glossary_df.append(row, ignore_index=True)\n    else:\n        for variable in schemas[lm][\"schema\"].keys():\n            row = extract_glossary_row(script, lm, file_name, variable, schemas[lm][\"schema\"][variable])\n            glossary_df = glossary_df.append(row, ignore_index=True)\n        \nglossary_df = save_glossary(glossary_df)"
  },
  {
   "cell_type": "markdown",
   "metadata": {},
   "source": "### find all glossary entries that are not in schemas.yml"
  },
  {
   "cell_type": "code",
   "execution_count": 432,
   "metadata": {},
   "outputs": [],
   "source": "# find all filenames for excel files that don't fit the convention (file_name, \":\", worksheet)\n# (clean glossary_df until this doesn't output anything)\nfor _, row in glossary_df.iterrows():\n    # we know the locator method is in here from the previous cell ;)\n    lm = row[\"LOCATOR_METHOD\"]\n    file_type = schemas[lm][\"file_type\"]\n    if file_type in {\"xls\", \"xlsx\"}:\n        if not \":\" in row[\"FILE_NAME\"]:\n            print \"BAD FILE_NAME:\", row[\"FILE_NAME\"]"
  },
  {
   "cell_type": "code",
   "execution_count": 433,
   "metadata": {},
   "outputs": [
    {
     "name": "stdout",
     "output_type": "stream",
     "text": "saved new glossary.csv - reloading\n"
    }
   ],
   "source": "# find all locator methods not present in schemas.yml\ninvalid_lms = []  # stuff left over from previous versions of cea\nfor _, row in glossary_df.iterrows():\n    lm = row[\"LOCATOR_METHOD\"]\n    if lm not in schemas:\n        invalid_lms.append(lm)\n\nfor lm in invalid_lms:\n    print \"invalid:\", lm\n    glossary_df = glossary_df[glossary_df[\"LOCATOR_METHOD\"] != lm]\n\nglossary_df = save_glossary(glossary_df)"
  },
  {
   "cell_type": "code",
   "execution_count": 434,
   "metadata": {},
   "outputs": [
    {
     "name": "stdout",
     "output_type": "stream",
     "text": "invalid VARIABLE: SC_results/SC_roofs_top_Q_kWh\ninvalid VARIABLE: SC_results/SC_roofs_top_m2\ninvalid VARIABLE: SC_results/SC_walls_east_Q_kWh\ninvalid VARIABLE: SC_results/SC_walls_east_m2\ninvalid VARIABLE: SC_results/SC_walls_north_Q_kWh\ninvalid VARIABLE: SC_results/SC_walls_north_m2\ninvalid VARIABLE: SC_results/SC_walls_south_Q_kWh\ninvalid VARIABLE: SC_results/SC_walls_south_m2\ninvalid VARIABLE: SC_results/SC_walls_west_Q_kWh\ninvalid VARIABLE: SC_results/SC_walls_west_m2\ninvalid VARIABLE: SC_total_buildings/SC_roofs_top_Q_kWh\ninvalid VARIABLE: SC_total_buildings/SC_roofs_top_m2\ninvalid VARIABLE: SC_total_buildings/SC_walls_east_Q_kWh\ninvalid VARIABLE: SC_total_buildings/SC_walls_east_m2\ninvalid VARIABLE: SC_total_buildings/SC_walls_north_Q_kWh\ninvalid VARIABLE: SC_total_buildings/SC_walls_north_m2\ninvalid VARIABLE: SC_total_buildings/SC_walls_south_Q_kWh\ninvalid VARIABLE: SC_total_buildings/SC_walls_south_m2\ninvalid VARIABLE: SC_total_buildings/SC_walls_west_Q_kWh\ninvalid VARIABLE: SC_total_buildings/SC_walls_west_m2\ninvalid VARIABLE: SC_totals/SC_roofs_top_Q_kWh\ninvalid VARIABLE: SC_totals/SC_roofs_top_m2\ninvalid VARIABLE: SC_totals/SC_walls_east_Q_kWh\ninvalid VARIABLE: SC_totals/SC_walls_east_m2\ninvalid VARIABLE: SC_totals/SC_walls_north_Q_kWh\ninvalid VARIABLE: SC_totals/SC_walls_north_m2\ninvalid VARIABLE: SC_totals/SC_walls_south_Q_kWh\ninvalid VARIABLE: SC_totals/SC_walls_south_m2\ninvalid VARIABLE: SC_totals/SC_walls_west_Q_kWh\ninvalid VARIABLE: SC_totals/SC_walls_west_m2\ninvalid VARIABLE: get_thermal_demand_csv_file/B001\ninvalid VARIABLE: get_thermal_demand_csv_file/Unnamed: 0\ninvalid VARIABLE: get_weather/EPW file variables\nsaved new glossary.csv - reloading\n"
    }
   ],
   "source": "# find all variables not present in schemas.yml\n# NOTE: treat xls & xlsx files differently\nglossary_df = cea.glossary.read_glossary_df()\ninvlaid_vars = [] # list of rows that are not valid anymore\nfor _, row in glossary_df.iterrows():\n    # we know the locator method is in here from the previous cell ;)\n    lm = row[\"LOCATOR_METHOD\"]\n    var = row[\"VARIABLE\"]\n    file_type = schemas[lm][\"file_type\"]\n    if file_type in {\"xls\", \"xlsx\"}:\n        worksheet = row[\"FILE_NAME\"].split(\":\")[1]\n        if not var in schemas[lm][\"schema\"][worksheet]:\n            print \"invalid VARIABLE: {lm}/{worksheet}/{var}\".format(**locals())\n    else:\n        if not var in schemas[lm][\"schema\"]:\n            print \"invalid VARIABLE: {lm}/{var}\".format(**locals())\n            \nglossary_df = save_glossary(glossary_df)"
  },
  {
   "cell_type": "markdown",
   "metadata": {},
   "source": "**NOTE:** for now,there are still some invalid variables in `SC_results` and `SC_total_buildings` that we'll just gloss over (pun intended). "
  },
  {
   "cell_type": "markdown",
   "metadata": {},
   "source": "### check to make sure all variables in schemas.yml are present in glossary.csv"
  },
  {
   "cell_type": "code",
   "execution_count": 439,
   "metadata": {},
   "outputs": [
    {
     "name": "stdout",
     "output_type": "stream",
     "text": "ADDED: get_archetypes_properties/INDOOR_COMFORT/RH_max_pc ([])\nADDED: get_archetypes_properties/INDOOR_COMFORT/Code ([])\nADDED: get_archetypes_properties/INDOOR_COMFORT/Tcs_set_C ([])\nADDED: get_archetypes_properties/INDOOR_COMFORT/Ths_setb_C ([])\nADDED: get_archetypes_properties/INDOOR_COMFORT/Ths_set_C ([])\nADDED: get_archetypes_properties/INDOOR_COMFORT/Tcs_setb_C ([])\nADDED: get_archetypes_properties/INDOOR_COMFORT/Ve_lpspax ([])\nADDED: get_archetypes_properties/INDOOR_COMFORT/RH_min_pc ([])\nADDED: get_archetypes_properties/INTERNAL_LOADS/El_Wm2 ([])\nADDED: get_archetypes_properties/INTERNAL_LOADS/Code ([])\nADDED: get_archetypes_properties/INTERNAL_LOADS/Qhpro_Wm2 ([])\nADDED: get_archetypes_properties/INTERNAL_LOADS/Occ_m2pax ([])\nADDED: get_archetypes_properties/INTERNAL_LOADS/Ed_Wm2 ([])\nADDED: get_archetypes_properties/INTERNAL_LOADS/Ea_Wm2 ([])\nADDED: get_archetypes_properties/INTERNAL_LOADS/Qcre_Wm2 ([])\nADDED: get_archetypes_properties/INTERNAL_LOADS/Epro_Wm2 ([])\nADDED: get_archetypes_properties/INTERNAL_LOADS/X_ghpax ([])\nADDED: get_archetypes_properties/INTERNAL_LOADS/Vww_lpdpax ([])\nADDED: get_archetypes_properties/INTERNAL_LOADS/Vw_lpdpax ([])\nADDED: get_archetypes_properties/INTERNAL_LOADS/Qs_Wpax ([])\nADDED: get_archetypes_properties/INTERNAL_LOADS/Qcpro_Wm2 ([])\nADDED: get_archetypes_properties/ARCHITECTURE/type_shade ([])\nADDED: get_archetypes_properties/ARCHITECTURE/Hs_bg ([])\nADDED: get_archetypes_properties/ARCHITECTURE/standard ([])\nADDED: get_archetypes_properties/ARCHITECTURE/wwr_north ([])\nADDED: get_archetypes_properties/ARCHITECTURE/Hs_ag ([])\nADDED: get_archetypes_properties/ARCHITECTURE/year_start ([])\nADDED: get_archetypes_properties/ARCHITECTURE/Ns ([])\nADDED: get_archetypes_properties/ARCHITECTURE/type_roof ([])\nADDED: get_archetypes_properties/ARCHITECTURE/type_wall ([])\nADDED: get_archetypes_properties/ARCHITECTURE/wwr_west ([])\nADDED: get_archetypes_properties/ARCHITECTURE/year_end ([])\nADDED: get_archetypes_properties/ARCHITECTURE/building_use ([])\nADDED: get_archetypes_properties/ARCHITECTURE/type_cons ([])\nADDED: get_archetypes_properties/ARCHITECTURE/type_leak ([])\nADDED: get_archetypes_properties/ARCHITECTURE/wwr_south ([])\nADDED: get_archetypes_properties/ARCHITECTURE/wwr_east ([])\nADDED: get_archetypes_properties/ARCHITECTURE/type_win ([])\nADDED: get_archetypes_properties/ARCHITECTURE/Es ([])\nADDED: get_archetypes_properties/ARCHITECTURE/void_deck ([])\nADDED: get_archetypes_properties/HVAC/heat_ends ([])\nADDED: get_archetypes_properties/HVAC/year_start ([])\nADDED: get_archetypes_properties/HVAC/type_ctrl ([])\nADDED: get_archetypes_properties/HVAC/type_cs ([])\nADDED: get_archetypes_properties/HVAC/cool_starts ([])\nADDED: get_archetypes_properties/HVAC/year_end ([])\nADDED: get_archetypes_properties/HVAC/standard ([])\nADDED: get_archetypes_properties/HVAC/building_use ([])\nADDED: get_archetypes_properties/HVAC/type_hs ([])\nADDED: get_archetypes_properties/HVAC/heat_starts ([])\nADDED: get_archetypes_properties/HVAC/type_vent ([])\nADDED: get_archetypes_properties/HVAC/cool_ends ([])\nADDED: get_archetypes_properties/HVAC/type_dhw ([])\nADDED: get_archetypes_properties/SUPPLY/year_start ([])\nADDED: get_archetypes_properties/SUPPLY/type_cs ([])\nADDED: get_archetypes_properties/SUPPLY/type_el ([])\nADDED: get_archetypes_properties/SUPPLY/year_end ([])\nADDED: get_archetypes_properties/SUPPLY/standard ([])\nADDED: get_archetypes_properties/SUPPLY/building_use ([])\nADDED: get_archetypes_properties/SUPPLY/type_hs ([])\nADDED: get_archetypes_properties/SUPPLY/type_dhw ([])\nADDED: get_database_lca_mobility/MOBILITY/NRE_today ([])\nADDED: get_database_lca_mobility/MOBILITY/code ([])\nADDED: get_database_lca_mobility/MOBILITY/Description ([])\nADDED: get_database_lca_mobility/MOBILITY/PEN_today ([])\nADDED: get_database_lca_mobility/MOBILITY/CO2_today ([])\nADDED: get_database_envelope_systems/WINDOW/F_F ([])\nADDED: get_database_envelope_systems/WINDOW/code ([])\nADDED: get_database_envelope_systems/WINDOW/Description ([])\nADDED: get_database_envelope_systems/WINDOW/e_win ([])\nADDED: get_database_envelope_systems/WINDOW/G_win ([])\nADDED: get_database_envelope_systems/WINDOW/U_win ([])\nADDED: get_database_envelope_systems/CONSTRUCTION/code ([])\nADDED: get_database_envelope_systems/CONSTRUCTION/Description ([])\nADDED: get_database_envelope_systems/CONSTRUCTION/Cm_Af ([])\nADDED: get_database_envelope_systems/WALL/r_wall ([])\nADDED: get_database_envelope_systems/WALL/U_base ([])\nADDED: get_database_envelope_systems/WALL/code ([])\nADDED: get_database_envelope_systems/WALL/Description ([])\nADDED: get_database_envelope_systems/WALL/a_wall ([])\nADDED: get_database_envelope_systems/WALL/U_wall ([])\nADDED: get_database_envelope_systems/WALL/e_wall ([])\nADDED: get_database_envelope_systems/SHADING/code ([])\nADDED: get_database_envelope_systems/SHADING/Description ([])\nADDED: get_database_envelope_systems/SHADING/rf_sh ([])\nADDED: get_database_envelope_systems/LEAKAGE/code ([])\nADDED: get_database_envelope_systems/LEAKAGE/Description ([])\nADDED: get_database_envelope_systems/LEAKAGE/n50 ([])\nADDED: get_database_envelope_systems/ROOF/e_roof ([])\nADDED: get_database_envelope_systems/ROOF/code ([])\nADDED: get_database_envelope_systems/ROOF/Description ([])\nADDED: get_database_envelope_systems/ROOF/a_roof ([])\nADDED: get_database_envelope_systems/ROOF/r_roof ([])\nADDED: get_database_envelope_systems/ROOF/U_roof ([])\nADDED: get_database_air_conditioning_systems/dhw/Qwwmax_Wm2 ([])\nADDED: get_database_air_conditioning_systems/dhw/code ([])\nADDED: get_database_air_conditioning_systems/dhw/Description ([])\nADDED: get_database_air_conditioning_systems/dhw/Tsww0_C ([])\nADDED: get_database_air_conditioning_systems/controller/dT_Qcs ([])\nADDED: get_database_air_conditioning_systems/controller/dT_Qhs ([])\nADDED: get_database_air_conditioning_systems/controller/code ([])\nADDED: get_database_air_conditioning_systems/controller/Description ([])\nADDED: get_database_air_conditioning_systems/cooling/Tscs0_scu_C ([])\nADDED: get_database_air_conditioning_systems/cooling/Qcsmax_Wm2 ([])\nADDED: get_database_air_conditioning_systems/cooling/code ([])\nADDED: get_database_air_conditioning_systems/cooling/Description ([])\nADDED: get_database_air_conditioning_systems/cooling/dTcs0_aru_C ([])\nADDED: get_database_air_conditioning_systems/cooling/dTcs0_ahu_C ([])\nADDED: get_database_air_conditioning_systems/cooling/Tc_sup_air_aru_C ([])\nADDED: get_database_air_conditioning_systems/cooling/Tscs0_ahu_C ([])\nADDED: get_database_air_conditioning_systems/cooling/Tscs0_aru_C ([])\nADDED: get_database_air_conditioning_systems/cooling/Tc_sup_air_ahu_C ([])\nADDED: get_database_air_conditioning_systems/cooling/dTcs0_scu_C ([])\nADDED: get_database_air_conditioning_systems/cooling/dTcs_C ([])\nADDED: get_database_air_conditioning_systems/ventilation/ECONOMIZER ([])\nADDED: get_database_air_conditioning_systems/ventilation/code ([])\nADDED: get_database_air_conditioning_systems/ventilation/NIGHT_FLSH ([])\nADDED: get_database_air_conditioning_systems/ventilation/Description ([])\nADDED: get_database_air_conditioning_systems/ventilation/MECH_VENT ([])\nADDED: get_database_air_conditioning_systems/ventilation/WIN_VENT ([])\nADDED: get_database_air_conditioning_systems/ventilation/HEAT_REC ([])\nADDED: get_database_air_conditioning_systems/heating/Tshs0_aru_C ([])\nADDED: get_database_air_conditioning_systems/heating/code ([])\nADDED: get_database_air_conditioning_systems/heating/Description ([])\nADDED: get_database_air_conditioning_systems/heating/Tshs0_shu_C ([])\nADDED: get_database_air_conditioning_systems/heating/Tshs0_ahu_C ([])\nADDED: get_database_air_conditioning_systems/heating/Qhsmax_Wm2 ([])\nADDED: get_database_air_conditioning_systems/heating/dThs0_aru_C ([])\nADDED: get_database_air_conditioning_systems/heating/dThs0_ahu_C ([])\nADDED: get_database_air_conditioning_systems/heating/dThs0_shu_C ([])\nADDED: get_database_air_conditioning_systems/heating/dThs_C ([])\nADDED: get_database_air_conditioning_systems/heating/Th_sup_air_aru_C ([])\nADDED: get_database_air_conditioning_systems/heating/Th_sup_air_ahu_C ([])\nADDED: get_database_supply_systems/HEX/code ([])\nADDED: get_database_supply_systems/HEX/cap_max ([])\nADDED: get_database_supply_systems/HEX/a_p ([])\nADDED: get_database_supply_systems/HEX/cap_min ([])\nADDED: get_database_supply_systems/HEX/LT_yr ([])\nADDED: get_database_supply_systems/HEX/c_p ([])\nADDED: get_database_supply_systems/HEX/e_p ([])\nADDED: get_database_supply_systems/HEX/b_p ([])\nADDED: get_database_supply_systems/HEX/unit ([])\nADDED: get_database_supply_systems/HEX/d ([])\nADDED: get_database_supply_systems/HEX/a ([])\nADDED: get_database_supply_systems/HEX/c ([])\nADDED: get_database_supply_systems/HEX/b ([])\nADDED: get_database_supply_systems/HEX/e ([])\nADDED: get_database_supply_systems/HEX/Description ([])\nADDED: get_database_supply_systems/HEX/Currency ([])\nADDED: get_database_supply_systems/HEX/d_p ([])\nADDED: get_database_supply_systems/HEX/IR_% ([])\nADDED: get_database_supply_systems/HEX/O&M_% ([])\nADDED: get_database_supply_systems/HEX/assumption ([])\nADDED: get_database_supply_systems/HP/a ([])\nADDED: get_database_supply_systems/HP/c ([])\nADDED: get_database_supply_systems/HP/b ([])\nADDED: get_database_supply_systems/HP/cap_max ([])\nADDED: get_database_supply_systems/HP/Description ([])\nADDED: get_database_supply_systems/HP/O&M_% ([])\nADDED: get_database_supply_systems/HP/cap_min ([])\nADDED: get_database_supply_systems/HP/LT_yr ([])\nADDED: get_database_supply_systems/HP/IR_% ([])\nADDED: get_database_supply_systems/HP/currency ([])\nADDED: get_database_supply_systems/HP/code ([])\nADDED: get_database_supply_systems/HP/assumption ([])\nADDED: get_database_supply_systems/HP/e ([])\nADDED: get_database_supply_systems/HP/unit ([])\nADDED: get_database_supply_systems/HP/d ([])\nADDED: get_database_supply_systems/BH/a ([])\nADDED: get_database_supply_systems/BH/c ([])\nADDED: get_database_supply_systems/BH/b ([])\nADDED: get_database_supply_systems/BH/cap_max ([])\nADDED: get_database_supply_systems/BH/Description ([])\nADDED: get_database_supply_systems/BH/O&M_% ([])\n"
    },
    {
     "name": "stdout",
     "output_type": "stream",
     "text": "ADDED: get_database_supply_systems/BH/cap_min ([])\nADDED: get_database_supply_systems/BH/LT_yr ([])\nADDED: get_database_supply_systems/BH/IR_% ([])\nADDED: get_database_supply_systems/BH/currency ([])\nADDED: get_database_supply_systems/BH/code ([])\nADDED: get_database_supply_systems/BH/assumption ([])\nADDED: get_database_supply_systems/BH/e ([])\nADDED: get_database_supply_systems/BH/unit ([])\nADDED: get_database_supply_systems/BH/d ([])\nADDED: get_database_supply_systems/ALL_IN_ONE_SYSTEMS/efficiency ([])\nADDED: get_database_supply_systems/ALL_IN_ONE_SYSTEMS/code ([])\nADDED: get_database_supply_systems/ALL_IN_ONE_SYSTEMS/Description ([])\nADDED: get_database_supply_systems/ALL_IN_ONE_SYSTEMS/reference ([])\nADDED: get_database_supply_systems/ALL_IN_ONE_SYSTEMS/feedstock ([])\nADDED: get_database_supply_systems/ALL_IN_ONE_SYSTEMS/system ([])\nADDED: get_database_supply_systems/ALL_IN_ONE_SYSTEMS/scale ([])\nADDED: get_database_supply_systems/Pump/a ([])\nADDED: get_database_supply_systems/Pump/c ([])\nADDED: get_database_supply_systems/Pump/b ([])\nADDED: get_database_supply_systems/Pump/cap_max ([])\nADDED: get_database_supply_systems/Pump/Description ([])\nADDED: get_database_supply_systems/Pump/O&M_% ([])\nADDED: get_database_supply_systems/Pump/cap_min ([])\nADDED: get_database_supply_systems/Pump/LT_yr ([])\nADDED: get_database_supply_systems/Pump/IR_% ([])\nADDED: get_database_supply_systems/Pump/currency ([])\nADDED: get_database_supply_systems/Pump/code ([])\nADDED: get_database_supply_systems/Pump/assumption ([])\nADDED: get_database_supply_systems/Pump/e ([])\nADDED: get_database_supply_systems/Pump/unit ([])\nADDED: get_database_supply_systems/Pump/d ([])\nADDED: get_database_supply_systems/FC/a ([])\nADDED: get_database_supply_systems/FC/c ([])\nADDED: get_database_supply_systems/FC/b ([])\nADDED: get_database_supply_systems/FC/cap_max ([])\nADDED: get_database_supply_systems/FC/Description ([])\nADDED: get_database_supply_systems/FC/O&M_% ([])\nADDED: get_database_supply_systems/FC/cap_min ([])\nADDED: get_database_supply_systems/FC/LT_yr ([])\nADDED: get_database_supply_systems/FC/IR_% ([])\nADDED: get_database_supply_systems/FC/currency ([])\nADDED: get_database_supply_systems/FC/code ([])\nADDED: get_database_supply_systems/FC/ Assumptions ([])\nADDED: get_database_supply_systems/FC/e ([])\nADDED: get_database_supply_systems/FC/unit ([])\nADDED: get_database_supply_systems/FC/d ([])\nADDED: get_database_supply_systems/Chiller/a ([])\nADDED: get_database_supply_systems/Chiller/c ([])\nADDED: get_database_supply_systems/Chiller/b ([])\nADDED: get_database_supply_systems/Chiller/cap_max ([])\nADDED: get_database_supply_systems/Chiller/Description ([])\nADDED: get_database_supply_systems/Chiller/O&M_% ([])\nADDED: get_database_supply_systems/Chiller/cap_min ([])\nADDED: get_database_supply_systems/Chiller/LT_yr ([])\nADDED: get_database_supply_systems/Chiller/IR_% ([])\nADDED: get_database_supply_systems/Chiller/currency ([])\nADDED: get_database_supply_systems/Chiller/code ([])\nADDED: get_database_supply_systems/Chiller/assumption ([])\nADDED: get_database_supply_systems/Chiller/e ([])\nADDED: get_database_supply_systems/Chiller/unit ([])\nADDED: get_database_supply_systems/Chiller/d ([])\nADDED: get_database_supply_systems/Furnace/a ([])\nADDED: get_database_supply_systems/Furnace/c ([])\nADDED: get_database_supply_systems/Furnace/b ([])\nADDED: get_database_supply_systems/Furnace/cap_max ([])\nADDED: get_database_supply_systems/Furnace/Description ([])\nADDED: get_database_supply_systems/Furnace/O&M_% ([])\nADDED: get_database_supply_systems/Furnace/cap_min ([])\nADDED: get_database_supply_systems/Furnace/LT_yr ([])\nADDED: get_database_supply_systems/Furnace/IR_% ([])\nADDED: get_database_supply_systems/Furnace/currency ([])\nADDED: get_database_supply_systems/Furnace/code ([])\nADDED: get_database_supply_systems/Furnace/assumption ([])\nADDED: get_database_supply_systems/Furnace/e ([])\nADDED: get_database_supply_systems/Furnace/unit ([])\nADDED: get_database_supply_systems/Furnace/d ([])\nADDED: get_database_supply_systems/PVT/a ([])\nADDED: get_database_supply_systems/PVT/c ([])\nADDED: get_database_supply_systems/PVT/b ([])\nADDED: get_database_supply_systems/PVT/cap_max ([])\nADDED: get_database_supply_systems/PVT/Description ([])\nADDED: get_database_supply_systems/PVT/O&M_% ([])\nADDED: get_database_supply_systems/PVT/cap_min ([])\nADDED: get_database_supply_systems/PVT/LT_yr ([])\nADDED: get_database_supply_systems/PVT/IR_% ([])\nADDED: get_database_supply_systems/PVT/currency ([])\nADDED: get_database_supply_systems/PVT/code ([])\nADDED: get_database_supply_systems/PVT/assumption ([])\nADDED: get_database_supply_systems/PVT/e ([])\nADDED: get_database_supply_systems/PVT/unit ([])\nADDED: get_database_supply_systems/PVT/d ([])\nADDED: get_database_supply_systems/CCGT/a ([])\nADDED: get_database_supply_systems/CCGT/c ([])\nADDED: get_database_supply_systems/CCGT/b ([])\nADDED: get_database_supply_systems/CCGT/cap_max ([])\nADDED: get_database_supply_systems/CCGT/Description ([])\nADDED: get_database_supply_systems/CCGT/O&M_% ([])\nADDED: get_database_supply_systems/CCGT/cap_min ([])\nADDED: get_database_supply_systems/CCGT/LT_yr ([])\nADDED: get_database_supply_systems/CCGT/IR_% ([])\nADDED: get_database_supply_systems/CCGT/currency ([])\nADDED: get_database_supply_systems/CCGT/code ([])\nADDED: get_database_supply_systems/CCGT/assumption ([])\nADDED: get_database_supply_systems/CCGT/e ([])\nADDED: get_database_supply_systems/CCGT/unit ([])\nADDED: get_database_supply_systems/CCGT/d ([])\nADDED: get_database_supply_systems/PV/code ([])\nADDED: get_database_supply_systems/PV/cap_max ([])\nADDED: get_database_supply_systems/PV/PV_a2 ([])\nADDED: get_database_supply_systems/PV/PV_a1 ([])\nADDED: get_database_supply_systems/PV/PV_a0 ([])\nADDED: get_database_supply_systems/PV/cap_min ([])\nADDED: get_database_supply_systems/PV/LT_yr ([])\nADDED: get_database_supply_systems/PV/module_length_m ([])\nADDED: get_database_supply_systems/PV/IR_% ([])\nADDED: get_database_supply_systems/PV/currency ([])\nADDED: get_database_supply_systems/PV/PV_a4 ([])\nADDED: get_database_supply_systems/PV/misc_losses ([])\nADDED: get_database_supply_systems/PV/PV_Bref ([])\nADDED: get_database_supply_systems/PV/PV_a3 ([])\nADDED: get_database_supply_systems/PV/unit ([])\nADDED: get_database_supply_systems/PV/d ([])\nADDED: get_database_supply_systems/PV/a ([])\nADDED: get_database_supply_systems/PV/c ([])\nADDED: get_database_supply_systems/PV/b ([])\nADDED: get_database_supply_systems/PV/e ([])\nADDED: get_database_supply_systems/PV/Description ([])\nADDED: get_database_supply_systems/PV/PV_n ([])\nADDED: get_database_supply_systems/PV/PV_noct ([])\nADDED: get_database_supply_systems/PV/O&M_% ([])\nADDED: get_database_supply_systems/PV/assumption ([])\nADDED: get_database_supply_systems/PV/PV_th ([])\nADDED: get_database_supply_systems/PV/type ([])\nADDED: get_database_supply_systems/DETAILED_ELEC_PRICES/Opex_var_sell_USD2015perkWh ([])\nADDED: get_database_supply_systems/DETAILED_ELEC_PRICES/Opex_var_buy_USD2015perkWh ([])\nADDED: get_database_supply_systems/DETAILED_ELEC_PRICES/hour ([])\nADDED: get_database_supply_systems/DETAILED_ELEC_PRICES/year ([])\nADDED: get_database_supply_systems/TES/a ([])\nADDED: get_database_supply_systems/TES/c ([])\nADDED: get_database_supply_systems/TES/b ([])\nADDED: get_database_supply_systems/TES/cap_max ([])\nADDED: get_database_supply_systems/TES/Description ([])\nADDED: get_database_supply_systems/TES/O&M_% ([])\nADDED: get_database_supply_systems/TES/cap_min ([])\nADDED: get_database_supply_systems/TES/LT_yr ([])\nADDED: get_database_supply_systems/TES/IR_% ([])\nADDED: get_database_supply_systems/TES/d ([])\nADDED: get_database_supply_systems/TES/currency ([])\nADDED: get_database_supply_systems/TES/code ([])\nADDED: get_database_supply_systems/TES/assumption ([])\nADDED: get_database_supply_systems/TES/e ([])\nADDED: get_database_supply_systems/TES/unit  ([])\nADDED: get_database_supply_systems/PIPING/Code ([])\nADDED: get_database_supply_systems/PIPING/Inv_USD2015perm ([])\nADDED: get_database_supply_systems/PIPING/D_ins_m ([])\nADDED: get_database_supply_systems/PIPING/D_ext_m ([])\nADDED: get_database_supply_systems/PIPING/Pipe_DN ([])\nADDED: get_database_supply_systems/PIPING/D_int_m ([])\nADDED: get_database_supply_systems/PIPING/Vdot_max_m3s ([])\nADDED: get_database_supply_systems/PIPING/Vdot_min_m3s ([])\nADDED: get_database_supply_systems/CT/a ([])\nADDED: get_database_supply_systems/CT/c ([])\nADDED: get_database_supply_systems/CT/b ([])\nADDED: get_database_supply_systems/CT/cap_max ([])\nADDED: get_database_supply_systems/CT/Description ([])\nADDED: get_database_supply_systems/CT/O&M_% ([])\nADDED: get_database_supply_systems/CT/cap_min ([])\nADDED: get_database_supply_systems/CT/LT_yr ([])\nADDED: get_database_supply_systems/CT/IR_% ([])\nADDED: get_database_supply_systems/CT/currency ([])\nADDED: get_database_supply_systems/CT/code ([])\nADDED: get_database_supply_systems/CT/assumption ([])\nADDED: get_database_supply_systems/CT/e ([])\nADDED: get_database_supply_systems/CT/unit ([])\nADDED: get_database_supply_systems/CT/d ([])\nADDED: get_database_supply_systems/Boiler/a ([])\nADDED: get_database_supply_systems/Boiler/c ([])\nADDED: get_database_supply_systems/Boiler/b ([])\nADDED: get_database_supply_systems/Boiler/cap_max ([])\nADDED: get_database_supply_systems/Boiler/Description ([])\nADDED: get_database_supply_systems/Boiler/O&M_% ([])\nADDED: get_database_supply_systems/Boiler/cap_min ([])\nADDED: get_database_supply_systems/Boiler/LT_yr ([])\nADDED: get_database_supply_systems/Boiler/IR_% ([])\nADDED: get_database_supply_systems/Boiler/currency ([])\nADDED: get_database_supply_systems/Boiler/code ([])\nADDED: get_database_supply_systems/Boiler/assumption ([])\nADDED: get_database_supply_systems/Boiler/e ([])\nADDED: get_database_supply_systems/Boiler/unit ([])\nADDED: get_database_supply_systems/Boiler/d ([])\nADDED: get_database_supply_systems/SC/code ([])\nADDED: get_database_supply_systems/SC/mB_max_r ([])\nADDED: get_database_supply_systems/SC/LT_yr ([])\nADDED: get_database_supply_systems/SC/module_length_m ([])\nADDED: get_database_supply_systems/SC/currency ([])\n"
    },
    {
     "name": "stdout",
     "output_type": "stream",
     "text": "ADDED: get_database_supply_systems/SC/mB_min_r ([])\nADDED: get_database_supply_systems/SC/cap_max ([])\nADDED: get_database_supply_systems/SC/C_eff ([])\nADDED: get_database_supply_systems/SC/t_max ([])\nADDED: get_database_supply_systems/SC/unit ([])\nADDED: get_database_supply_systems/SC/Description ([])\nADDED: get_database_supply_systems/SC/assumption ([])\nADDED: get_database_supply_systems/SC/type ([])\nADDED: get_database_supply_systems/SC/dP4 ([])\nADDED: get_database_supply_systems/SC/dP3 ([])\nADDED: get_database_supply_systems/SC/dP2 ([])\nADDED: get_database_supply_systems/SC/dP1 ([])\nADDED: get_database_supply_systems/SC/module_area_m2 ([])\nADDED: get_database_supply_systems/SC/cap_min ([])\nADDED: get_database_supply_systems/SC/IAM_d ([])\nADDED: get_database_supply_systems/SC/c2 ([])\nADDED: get_database_supply_systems/SC/c1 ([])\nADDED: get_database_supply_systems/SC/a ([])\nADDED: get_database_supply_systems/SC/c ([])\nADDED: get_database_supply_systems/SC/b ([])\nADDED: get_database_supply_systems/SC/e ([])\nADDED: get_database_supply_systems/SC/d ([])\nADDED: get_database_supply_systems/SC/mB0_r ([])\nADDED: get_database_supply_systems/SC/IR_% ([])\nADDED: get_database_supply_systems/SC/O&M_% ([])\nADDED: get_database_supply_systems/SC/aperture_area_ratio ([])\nADDED: get_database_supply_systems/SC/n0 ([])\nADDED: get_database_supply_systems/SC/Cp_fluid ([])\nADDED: get_database_supply_systems/FEEDSTOCKS/PEN ([])\nADDED: get_database_supply_systems/FEEDSTOCKS/code ([])\nADDED: get_database_supply_systems/FEEDSTOCKS/reference ([])\nADDED: get_database_supply_systems/FEEDSTOCKS/Opex_var_sell_USD2015perkWh ([])\nADDED: get_database_supply_systems/FEEDSTOCKS/CO2 ([])\nADDED: get_database_supply_systems/FEEDSTOCKS/Opex_var_buy_USD2015perkWh ([])\nADDED: get_database_supply_systems/Absorption_chiller/code ([])\nADDED: get_database_supply_systems/Absorption_chiller/cap_max ([])\nADDED: get_database_supply_systems/Absorption_chiller/e_e ([])\nADDED: get_database_supply_systems/Absorption_chiller/cap_min ([])\nADDED: get_database_supply_systems/Absorption_chiller/LT_yr ([])\nADDED: get_database_supply_systems/Absorption_chiller/a_g ([])\nADDED: get_database_supply_systems/Absorption_chiller/currency ([])\nADDED: get_database_supply_systems/Absorption_chiller/a_e ([])\nADDED: get_database_supply_systems/Absorption_chiller/m_hw ([])\nADDED: get_database_supply_systems/Absorption_chiller/unit ([])\nADDED: get_database_supply_systems/Absorption_chiller/d ([])\nADDED: get_database_supply_systems/Absorption_chiller/a ([])\nADDED: get_database_supply_systems/Absorption_chiller/c ([])\nADDED: get_database_supply_systems/Absorption_chiller/b ([])\nADDED: get_database_supply_systems/Absorption_chiller/e ([])\nADDED: get_database_supply_systems/Absorption_chiller/Description ([])\nADDED: get_database_supply_systems/Absorption_chiller/IR_% ([])\nADDED: get_database_supply_systems/Absorption_chiller/O&M_% ([])\nADDED: get_database_supply_systems/Absorption_chiller/m_cw ([])\nADDED: get_database_supply_systems/Absorption_chiller/assumption ([])\nADDED: get_database_supply_systems/Absorption_chiller/s_e ([])\nADDED: get_database_supply_systems/Absorption_chiller/s_g ([])\nADDED: get_database_supply_systems/Absorption_chiller/e_g ([])\nADDED: get_database_supply_systems/Absorption_chiller/type ([])\nADDED: get_database_supply_systems/Absorption_chiller/r_e ([])\nADDED: get_database_supply_systems/Absorption_chiller/r_g ([])\nADDED: get_database_lca_buildings/EMBODIED_EMISSIONS/Wall_ext_ag ([])\nADDED: get_database_lca_buildings/EMBODIED_EMISSIONS/year_start ([])\nADDED: get_database_lca_buildings/EMBODIED_EMISSIONS/Floor_int ([])\nADDED: get_database_lca_buildings/EMBODIED_EMISSIONS/Wall_int_sup ([])\nADDED: get_database_lca_buildings/EMBODIED_EMISSIONS/Excavation ([])\nADDED: get_database_lca_buildings/EMBODIED_EMISSIONS/Floor_g ([])\nADDED: get_database_lca_buildings/EMBODIED_EMISSIONS/Win_ext ([])\nADDED: get_database_lca_buildings/EMBODIED_EMISSIONS/Roof ([])\nADDED: get_database_lca_buildings/EMBODIED_EMISSIONS/standard ([])\nADDED: get_database_lca_buildings/EMBODIED_EMISSIONS/building_use ([])\nADDED: get_database_lca_buildings/EMBODIED_EMISSIONS/Wall_int_nosup ([])\nADDED: get_database_lca_buildings/EMBODIED_EMISSIONS/Services ([])\nADDED: get_database_lca_buildings/EMBODIED_EMISSIONS/Wall_ext_bg ([])\nADDED: get_database_lca_buildings/EMBODIED_EMISSIONS/year_end ([])\nADDED: get_database_lca_buildings/EMBODIED_ENERGY/Wall_ext_ag ([])\nADDED: get_database_lca_buildings/EMBODIED_ENERGY/year_start ([])\nADDED: get_database_lca_buildings/EMBODIED_ENERGY/Floor_int ([])\nADDED: get_database_lca_buildings/EMBODIED_ENERGY/Wall_int_sup ([])\nADDED: get_database_lca_buildings/EMBODIED_ENERGY/Excavation ([])\nADDED: get_database_lca_buildings/EMBODIED_ENERGY/Floor_g ([])\nADDED: get_database_lca_buildings/EMBODIED_ENERGY/Win_ext ([])\nADDED: get_database_lca_buildings/EMBODIED_ENERGY/Roof ([])\nADDED: get_database_lca_buildings/EMBODIED_ENERGY/standard ([])\nADDED: get_database_lca_buildings/EMBODIED_ENERGY/building_use ([])\nADDED: get_database_lca_buildings/EMBODIED_ENERGY/Wall_int_nosup ([])\nADDED: get_database_lca_buildings/EMBODIED_ENERGY/Services ([])\nADDED: get_database_lca_buildings/EMBODIED_ENERGY/Wall_ext_bg ([])\nADDED: get_database_lca_buildings/EMBODIED_ENERGY/year_end ([])\nsaved new glossary.csv - reloading\n"
    }
   ],
   "source": "glossary_df = cea.glossary.read_glossary_df()\n\n# TODO: come up with a solution for these...\nEXCLUDE_LOCATOR_METHODS = {\"SC_totals\", \"SC_results\", \"SC_total_buildings\"}\n\nfor lm in schemas.keys():\n    if lm in EXCLUDE_LOCATOR_METHODS:\n        continue\n    schema = schemas[lm][\"schema\"]\n    file_type = schemas[lm][\"file_type\"]\n    file_name = schemas[lm][\"file_path\"]\n    script = schemas[lm][\"created_by\"][0] if schemas[lm][\"created_by\"] else \"-\"\n    if file_type in {\"xls\", \"xlsx\"}:\n        for worksheet, schema in schemas[lm][\"schema\"].items():\n            for var in schema.keys():\n                matches = glossary_df[(glossary_df[\"LOCATOR_METHOD\"] == lm)\n                                       & (glossary_df[\"VARIABLE\"] == var)\n                                       & (glossary_df[\"FILE_NAME\"] == glossary_df[\"FILE_NAME\"] + \":\" + worksheet)].values\n                if len(matches) != 1:\n                    glossary_df = glossary_df.append({\n                        \"SCRIPT\": script,\n                        \"LOCATOR_METHOD\": lm,\n                        \"FILE_NAME\": \"{file_name}:{worksheet}\".format(**locals()),\n                        \"VARIABLE\": var,\n                        \"DESCRIPTION\": \"TODO\",\n                        \"UNIT\": \"TODO\",\n                        \"VALUES\": \"TODO\",\n                        \"TYPE\": \"TYPE\",\n                        \"COLOR\": \"black\",\n                    }, ignore_index=True)\n                    print(\"ADDED: {lm}/{worksheet}/{var} ({matches})\".format(**locals()))\n    else:\n        for var in schema.keys():\n            # check if it exists in `glossary.csv`\n            matches = glossary_df[(glossary_df[\"LOCATOR_METHOD\"] == lm) & (glossary_df[\"VARIABLE\"] == var)][\"VARIABLE\"].values\n            if len(matches) != 1:\n                glossary_df = glossary_df.append({\n                    \"SCRIPT\": script,\n                    \"LOCATOR_METHOD\": lm,\n                    \"FILE_NAME\": file_name,\n                    \"VARIABLE\": var,\n                    \"DESCRIPTION\": \"TODO\",\n                    \"UNIT\": \"TODO\",\n                    \"VALUES\": \"TODO\",\n                    \"TYPE\": \"TYPE\",\n                    \"COLOR\": \"black\",\n                }, ignore_index=True)\n                print(\"ADDED: {lm}/{var} ({matches})\".format(**locals()))\n                \nglossary_df = save_glossary(glossary_df)"
  },
  {
   "cell_type": "markdown",
   "metadata": {},
   "source": "### make sure glossary.csv (locator_method, variable) is unique"
  },
  {
   "cell_type": "markdown",
   "metadata": {},
   "source": "### clean the sample_data (make longs into ints) "
  },
  {
   "cell_type": "code",
   "execution_count": null,
   "metadata": {},
   "outputs": [],
   "source": ""
  }
 ],
 "metadata": {
  "kernelspec": {
   "display_name": "Python 2",
   "language": "python",
   "name": "python2"
  },
  "language_info": {
   "codemirror_mode": {
    "name": "ipython",
    "version": 2
   },
   "file_extension": ".py",
   "mimetype": "text/x-python",
   "name": "python",
   "nbconvert_exporter": "python",
   "pygments_lexer": "ipython2",
   "version": "2.7.15"
  }
 },
 "nbformat": 4,
 "nbformat_minor": 4
}
