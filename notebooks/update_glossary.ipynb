{
 "cells": [
  {
   "cell_type": "markdown",
   "metadata": {},
   "source": "### Update glossary.csv file using data from schemas.yml\n\nThis script assumes you have a \"new\" schema obtained from running the `cea trace-inputlocator` script."
  },
  {
   "cell_type": "code",
   "execution_count": 1,
   "metadata": {},
   "outputs": [],
   "source": "import cea.scripts\nimport cea.inputlocator\nimport cea.config\nimport cea.glossary\nfrom cea.tests.trace_inputlocator import get_csv_schema\nimport os\nimport yaml\nimport json\nfrom itertools import repeat"
  },
  {
   "cell_type": "code",
   "execution_count": 2,
   "metadata": {},
   "outputs": [
    {
     "name": "stdout",
     "output_type": "stream",
     "text": "saved new glossary.csv - reloading\n"
    }
   ],
   "source": "schemas = cea.scripts.schemas()\nglossary_df = cea.glossary.read_glossary_df()\nlocators = schemas.keys()\n\ndef save_glossary(glossary_df):\n    glossary_df = glossary_df.sort_values([\"SCRIPT\", \"LOCATOR_METHOD\", \"FILE_NAME\", \"VARIABLE\"])\n    glossary_df.to_csv(os.path.join(os.path.dirname(cea.glossary.__file__), 'glossary.csv'),\n                  columns=[\"SCRIPT\", \"LOCATOR_METHOD\", \"FILE_NAME\", \"VARIABLE\", \"DESCRIPTION\", \"UNIT\", \"VALUES\", \"TYPE\", \"COLOR\"],\n                  index=False)\n    print(\"saved new glossary.csv - reloading\")\n    glossary_df = cea.glossary.read_glossary_df()\n    return glossary_df\nglossary_df = save_glossary(glossary_df)"
  },
  {
   "cell_type": "markdown",
   "metadata": {},
   "source": "### start by finding all entries in schemas.yml without a schema"
  },
  {
   "cell_type": "markdown",
   "metadata": {},
   "source": "the following three locator methods need \"special\" treatment:\n- get_optimization_checkpoint\n  - \"special\" schema\n- get_optimization_disconnected_cooling_capacity\n  - only present in projects with cooling network\n- get_optimization_connected_cooling_capacity\n  - only present in projects with cooling network\n  \nthis code assumes you have a \"reference-case-cooling/baseline\" in your projectroot and have run the optimization on that (e.g. run `cea workflow --workflow district-cooling-system`)"
  },
  {
   "cell_type": "code",
   "execution_count": 3,
   "metadata": {},
   "outputs": [],
   "source": "config = cea.config.Configuration()\nconfig.scenario = os.path.join(config.project, \"..\", \"reference-case-cooling\", \"baseline\")\nlocator = cea.inputlocator.InputLocator(scenario=config.scenario)\n\n# load get_optimization_checkpoint schema\nif not schemas[\"get_optimization_checkpoint\"][\"schema\"]:\n    with open(locator.get_optimization_checkpoint(1), 'r') as fp:\n        get_optimization_checkpoint = json.load(fp)\n    schemas[\"get_optimization_checkpoint\"][\"schema\"] = {\n        str(key): {\"sample_data\": get_optimization_checkpoint[key],\n                   \"types_found\": None}\n        for key in get_optimization_checkpoint.keys()\n    }\n\n# load get_optimization_disconnected_cooling_capacity schema\nif not schemas[\"get_optimization_disconnected_cooling_capacity\"][\"schema\"]:\n    schemas[\"get_optimization_disconnected_cooling_capacity\"][\"schema\"] = get_csv_schema(\n        locator.get_optimization_disconnected_cooling_capacity(1, 1))\n    \n# load get_optimization_connected_cooling_capacity schema\nif not schemas[\"get_optimization_connected_cooling_capacity\"][\"schema\"]:\n    schemas[\"get_optimization_connected_cooling_capacity\"][\"schema\"] = get_csv_schema(\n        locator.get_optimization_disconnected_cooling_capacity(1, 1))"
  },
  {
   "cell_type": "code",
   "execution_count": 4,
   "metadata": {},
   "outputs": [],
   "source": "# each locator method needs a \"schema\" entry (this should not output anything)\nfor lm in locators:\n    if not \"schema\" in schemas[lm]:\n        print lm"
  },
  {
   "cell_type": "code",
   "execution_count": 5,
   "metadata": {},
   "outputs": [],
   "source": "# the \"schema\" entry should not be `None` (this should not output anything)\nfor lm in locators:\n    if not schemas[lm][\"schema\"]:\n        print lm"
  },
  {
   "cell_type": "markdown",
   "metadata": {},
   "source": "if any of the above produce printed output, update schemas.yml and re-run the notebook"
  },
  {
   "cell_type": "markdown",
   "metadata": {},
   "source": "### make sure the \"used-by\" and \"created-by\" lists don't contain duplicates"
  },
  {
   "cell_type": "code",
   "execution_count": 6,
   "metadata": {},
   "outputs": [],
   "source": "for lm in locators:\n    if not \"used_by\" in schemas[lm]:\n        print lm"
  },
  {
   "cell_type": "code",
   "execution_count": 7,
   "metadata": {},
   "outputs": [],
   "source": "for lm in locators:\n    if not \"created_by\" in schemas[lm]:\n        print lm"
  },
  {
   "cell_type": "markdown",
   "metadata": {},
   "source": "each locator should have a \"used_by\" and a \"created_by\" - let's assume they're all lists"
  },
  {
   "cell_type": "code",
   "execution_count": 8,
   "metadata": {},
   "outputs": [],
   "source": "for lm in locators:\n    schemas[lm][\"used_by\"] = sorted(set(schemas[lm][\"used_by\"]))\n    schemas[lm][\"created_by\"] = sorted(set(schemas[lm][\"created_by\"]))"
  },
  {
   "cell_type": "code",
   "execution_count": 9,
   "metadata": {},
   "outputs": [
    {
     "name": "stdout",
     "output_type": "stream",
     "text": "saving to: c:\\users\\darthoma\\documents\\github\\cityenergyanalyst\\cea\\schemas.yml\n"
    }
   ],
   "source": "# save it back\nschemas_yml = os.path.join(os.path.dirname(cea.scripts.__file__), 'schemas.yml')\nprint \"saving to:\", schemas_yml\nwith open(schemas_yml, 'w') as fp:\n    yaml.dump(schemas, fp)\nschemas = cea.scripts.schemas()"
  },
  {
   "cell_type": "markdown",
   "metadata": {},
   "source": "### find all schema entries that are not in glossary.csv"
  },
  {
   "cell_type": "code",
   "execution_count": 10,
   "metadata": {},
   "outputs": [
    {
     "name": "stdout",
     "output_type": "stream",
     "text": "\n"
    }
   ],
   "source": "# first: what are the missing locator methods?\nglossary_lms = set(glossary_df.LOCATOR_METHOD.values)\nschemas_lms = set(schemas.keys())\nmissing_lms = sorted(schemas_lms - glossary_lms)\nprint '\\n'.join(missing_lms)"
  },
  {
   "cell_type": "markdown",
   "metadata": {},
   "source": "for each of those missing locator methods in glossary.csv, we need to append entries for each of the fields of that file. some of those files are special (the optimization checkpoints comes to mind). each glossary.csv entry has the following fields:\n\n- SCRIPT (use first \"created_by\" or \"-\", if input file)\n- LOCATOR_METHOD\n- FILE_NAME (get from schemas.yml file_path)\n- VARIABLE (this is the field name)\n- DESCRIPTION (use \"TODO\")\n- UNIT (use \"TODO\")\n- VALUES (use \"TODO\")\n- TYPE (use the first from schemas.types_found)\n- COLOR (use \"black\") - I'm not really sure we need this at all in glossary.csv?"
  },
  {
   "cell_type": "code",
   "execution_count": 11,
   "metadata": {},
   "outputs": [
    {
     "name": "stdout",
     "output_type": "stream",
     "text": "saved new glossary.csv - reloading\n"
    }
   ],
   "source": "def extract_glossary_row(script, lm, file_name, variable, variable_entry):\n    if \"types_found\" in variable_entry:\n        var_type = variable_entry[\"types_found\"][0] if variable_entry[\"types_found\"] else \"TODO\"\n    else:\n        var_type = \"TODO\"\n    return {\n        \"key\": \"{lm}!!!{variable}\".format(**locals()),\n        \"SCRIPT\": script,\n        \"LOCATOR_METHOD\": lm,\n        \"FILE_NAME\": file_name,\n        \"VARIABLE\": variable,\n        \"DESCRIPTION\": \"TODO\",\n        \"UNIT\": \"TODO\",\n        \"VALUES\": \"TODO\",\n        \"TYPE\": var_type,\n        \"COLOR\": \"black\"}\n\nfor lm in missing_lms:\n    print(\"processing lm:\", lm)\n    script = schemas[lm][\"created_by\"][0] if len(schemas[lm][\"created_by\"]) else \"-\"\n    file_name = schemas[lm][\"file_path\"]\n    file_type = schemas[lm][\"file_type\"]\n    if file_type in {\"xls\", \"xlsx\"}:\n        for worksheet in schemas[lm][\"schema\"].keys():\n            for variable in schemas[lm][\"schema\"][worksheet].keys():\n                variable_entry = schemas[lm][\"schema\"][worksheet][variable]\n                ws_file_name = \"{file_name}:{worksheet}\".format(**locals())\n                row = extract_glossary_row(script, lm, ws_file_name, variable, variable_entry)\n                glossary_df = glossary_df.append(row, ignore_index=True)\n    else:\n        for variable in schemas[lm][\"schema\"].keys():\n            row = extract_glossary_row(script, lm, file_name, variable, schemas[lm][\"schema\"][variable])\n            glossary_df = glossary_df.append(row, ignore_index=True)\n        \nglossary_df = save_glossary(glossary_df)"
  },
  {
   "cell_type": "markdown",
   "metadata": {},
   "source": "### find all glossary entries that are not in schemas.yml"
  },
  {
   "cell_type": "code",
   "execution_count": 12,
   "metadata": {},
   "outputs": [],
   "source": "# find all filenames for excel files that don't fit the convention (file_name, \":\", worksheet)\n# (clean glossary_df until this doesn't output anything)\nfor _, row in glossary_df.iterrows():\n    # we know the locator method is in here from the previous cell ;)\n    lm = row[\"LOCATOR_METHOD\"]\n    file_type = schemas[lm][\"file_type\"]\n    if file_type in {\"xls\", \"xlsx\"}:\n        if not \":\" in row[\"FILE_NAME\"]:\n            print \"BAD FILE_NAME:\", row[\"FILE_NAME\"]"
  },
  {
   "cell_type": "code",
   "execution_count": 13,
   "metadata": {},
   "outputs": [
    {
     "name": "stdout",
     "output_type": "stream",
     "text": "saved new glossary.csv - reloading\n"
    }
   ],
   "source": "# find all locator methods not present in schemas.yml\ninvalid_lms = []  # stuff left over from previous versions of cea\nfor _, row in glossary_df.iterrows():\n    lm = row[\"LOCATOR_METHOD\"]\n    if lm not in schemas:\n        invalid_lms.append(lm)\n\nfor lm in invalid_lms:\n    print \"invalid:\", lm\n    glossary_df = glossary_df[glossary_df[\"LOCATOR_METHOD\"] != lm]\n\nglossary_df = save_glossary(glossary_df)"
  },
  {
   "cell_type": "code",
   "execution_count": 14,
   "metadata": {},
   "outputs": [
    {
     "name": "stdout",
     "output_type": "stream",
     "text": "invalid VARIABLE: SC_results/SC_roofs_top_Q_kWh\ninvalid VARIABLE: SC_results/SC_roofs_top_m2\ninvalid VARIABLE: SC_results/SC_walls_east_Q_kWh\ninvalid VARIABLE: SC_results/SC_walls_east_m2\ninvalid VARIABLE: SC_results/SC_walls_north_Q_kWh\ninvalid VARIABLE: SC_results/SC_walls_north_m2\ninvalid VARIABLE: SC_results/SC_walls_south_Q_kWh\ninvalid VARIABLE: SC_results/SC_walls_south_m2\ninvalid VARIABLE: SC_results/SC_walls_west_Q_kWh\ninvalid VARIABLE: SC_results/SC_walls_west_m2\ninvalid VARIABLE: SC_total_buildings/SC_roofs_top_Q_kWh\ninvalid VARIABLE: SC_total_buildings/SC_roofs_top_m2\ninvalid VARIABLE: SC_total_buildings/SC_walls_east_Q_kWh\ninvalid VARIABLE: SC_total_buildings/SC_walls_east_m2\ninvalid VARIABLE: SC_total_buildings/SC_walls_north_Q_kWh\ninvalid VARIABLE: SC_total_buildings/SC_walls_north_m2\ninvalid VARIABLE: SC_total_buildings/SC_walls_south_Q_kWh\ninvalid VARIABLE: SC_total_buildings/SC_walls_south_m2\ninvalid VARIABLE: SC_total_buildings/SC_walls_west_Q_kWh\ninvalid VARIABLE: SC_total_buildings/SC_walls_west_m2\ninvalid VARIABLE: SC_totals/SC_roofs_top_Q_kWh\ninvalid VARIABLE: SC_totals/SC_roofs_top_m2\ninvalid VARIABLE: SC_totals/SC_walls_east_Q_kWh\ninvalid VARIABLE: SC_totals/SC_walls_east_m2\ninvalid VARIABLE: SC_totals/SC_walls_north_Q_kWh\ninvalid VARIABLE: SC_totals/SC_walls_north_m2\ninvalid VARIABLE: SC_totals/SC_walls_south_Q_kWh\ninvalid VARIABLE: SC_totals/SC_walls_south_m2\ninvalid VARIABLE: SC_totals/SC_walls_west_Q_kWh\ninvalid VARIABLE: SC_totals/SC_walls_west_m2\ninvalid VARIABLE: get_thermal_demand_csv_file/B001\ninvalid VARIABLE: get_thermal_demand_csv_file/Unnamed: 0\ninvalid VARIABLE: get_weather/EPW file variables\nsaved new glossary.csv - reloading\n"
    }
   ],
   "source": "# find all variables not present in schemas.yml\n# NOTE: treat xls & xlsx files differently\nglossary_df = cea.glossary.read_glossary_df()\ninvlaid_vars = [] # list of rows that are not valid anymore\nfor _, row in glossary_df.iterrows():\n    # we know the locator method is in here from the previous cell ;)\n    lm = row[\"LOCATOR_METHOD\"]\n    var = row[\"VARIABLE\"]\n    file_type = schemas[lm][\"file_type\"]\n    if file_type in {\"xls\", \"xlsx\"}:\n        worksheet = row[\"FILE_NAME\"].split(\":\")[1]\n        if not var in schemas[lm][\"schema\"][worksheet]:\n            print \"invalid VARIABLE: {lm}/{worksheet}/{var}\".format(**locals())\n    else:\n        if not var in schemas[lm][\"schema\"]:\n            print \"invalid VARIABLE: {lm}/{var}\".format(**locals())\n            \nglossary_df = save_glossary(glossary_df)"
  },
  {
   "cell_type": "markdown",
   "metadata": {},
   "source": "**NOTE:** for now,there are still some invalid variables in `SC_results` and `SC_total_buildings` that we'll just gloss over (pun intended). "
  },
  {
   "cell_type": "markdown",
   "metadata": {},
   "source": "### check to make sure all variables in schemas.yml are present in glossary.csv"
  },
  {
   "cell_type": "code",
   "execution_count": 15,
   "metadata": {},
   "outputs": [
    {
     "name": "stdout",
     "output_type": "stream",
     "text": "saved new glossary.csv - reloading\n"
    }
   ],
   "source": "glossary_df = cea.glossary.read_glossary_df().drop_duplicates(subset=[\"SCRIPT\", \"LOCATOR_METHOD\", \"FILE_NAME\", \"VARIABLE\"])\n\n# TODO: come up with a solution for these...\nEXCLUDE_LOCATOR_METHODS = {\"SC_totals\", \"SC_results\", \"SC_total_buildings\"}\n\nfor lm in sorted(schemas.keys()):\n    if lm in EXCLUDE_LOCATOR_METHODS:\n        continue\n    schema = schemas[lm][\"schema\"]\n    file_type = schemas[lm][\"file_type\"]\n    file_name = schemas[lm][\"file_path\"]\n    script = schemas[lm][\"created_by\"][0] if schemas[lm][\"created_by\"] else \"-\"\n    if file_type in {\"xls\", \"xlsx\"}:\n        for worksheet, schema in schemas[lm][\"schema\"].items():\n            for var in schema.keys():\n                matches = glossary_df[(glossary_df[\"LOCATOR_METHOD\"] == lm)\n                                       & (glossary_df[\"VARIABLE\"] == var)\n                                       & (glossary_df[\"FILE_NAME\"] == file_name + \":\" + worksheet)].values\n                if len(matches) != 1:\n                    glossary_df = glossary_df.append({\n                        \"SCRIPT\": script,\n                        \"LOCATOR_METHOD\": lm,\n                        \"FILE_NAME\": \"{file_name}:{worksheet}\".format(**locals()),\n                        \"VARIABLE\": var,\n                        \"DESCRIPTION\": \"TODO\",\n                        \"UNIT\": \"TODO\",\n                        \"VALUES\": \"TODO\",\n                        \"TYPE\": \"TYPE\",\n                        \"COLOR\": \"black\",\n                    }, ignore_index=True)\n                    print(\"ADDED: {lm}/{worksheet}/{var} ({matches})\".format(**locals()))\n    else:\n        for var in schema.keys():\n            # check if it exists in `glossary.csv`\n            matches = glossary_df[(glossary_df[\"LOCATOR_METHOD\"] == lm) & (glossary_df[\"VARIABLE\"] == var)][\"VARIABLE\"].values\n            if len(matches) != 1:\n                glossary_df = glossary_df.append({\n                    \"SCRIPT\": script,\n                    \"LOCATOR_METHOD\": lm,\n                    \"FILE_NAME\": file_name,\n                    \"VARIABLE\": var,\n                    \"DESCRIPTION\": \"TODO\",\n                    \"UNIT\": \"TODO\",\n                    \"VALUES\": \"TODO\",\n                    \"TYPE\": \"TYPE\",\n                    \"COLOR\": \"black\",\n                }, ignore_index=True)\n                print(\"ADDED: {lm}/{var} ({matches})\".format(**locals()))\n                \nglossary_df = save_glossary(glossary_df)"
  },
  {
   "cell_type": "markdown",
   "metadata": {},
   "source": "### find first \"TODO\" and allow entry"
  },
  {
   "cell_type": "code",
   "execution_count": 20,
   "metadata": {},
   "outputs": [
    {
     "name": "stdout",
     "output_type": "stream",
     "text": "---\nSCRIPT: photovoltaic_thermal\nLOCATOR_METHOD: PVT_metadata_results\nFILE_NAME: outputs/data/potentials/solar/B001_PVT_sensors.csv\nVARIABLE: intersection\nDESCRIPTION: TODO\nDESCRIPTION=TODO: test\n"
    },
    {
     "ename": "KeyError",
     "evalue": "'outputs/data/potentials/solar/B001_PVT_sensors.csv!!!intersection'",
     "output_type": "error",
     "traceback": [
      "\u001b[1;31m---------------------------------------------------------------------------\u001b[0m",
      "\u001b[1;31mKeyError\u001b[0m                                  Traceback (most recent call last)",
      "\u001b[1;32m<ipython-input-20-ae3fb17bd7a6>\u001b[0m in \u001b[0;36m<module>\u001b[1;34m()\u001b[0m\n\u001b[0;32m     15\u001b[0m             \u001b[0mnew_value\u001b[0m \u001b[1;33m=\u001b[0m \u001b[0mraw_input\u001b[0m\u001b[1;33m(\u001b[0m\u001b[1;34m\"{column}={value}: \"\u001b[0m\u001b[1;33m.\u001b[0m\u001b[0mformat\u001b[0m\u001b[1;33m(\u001b[0m\u001b[0mcolumn\u001b[0m\u001b[1;33m=\u001b[0m\u001b[0mcolumn\u001b[0m\u001b[1;33m,\u001b[0m \u001b[0mvalue\u001b[0m\u001b[1;33m=\u001b[0m\u001b[0mrow\u001b[0m\u001b[1;33m[\u001b[0m\u001b[0mcolumn\u001b[0m\u001b[1;33m]\u001b[0m\u001b[1;33m)\u001b[0m\u001b[1;33m)\u001b[0m\u001b[1;33m.\u001b[0m\u001b[0mstrip\u001b[0m\u001b[1;33m(\u001b[0m\u001b[1;33m)\u001b[0m\u001b[1;33m\u001b[0m\u001b[0m\n\u001b[0;32m     16\u001b[0m             \u001b[1;32mif\u001b[0m \u001b[0mnew_value\u001b[0m\u001b[1;33m:\u001b[0m\u001b[1;33m\u001b[0m\u001b[0m\n\u001b[1;32m---> 17\u001b[1;33m                 \u001b[0mglossary_df\u001b[0m\u001b[1;33m[\u001b[0m\u001b[0mindex\u001b[0m\u001b[1;33m]\u001b[0m\u001b[1;33m[\u001b[0m\u001b[0mcolumn\u001b[0m\u001b[1;33m]\u001b[0m \u001b[1;33m=\u001b[0m \u001b[0mnew_value\u001b[0m\u001b[1;33m\u001b[0m\u001b[0m\n\u001b[0m\u001b[0;32m     18\u001b[0m         \u001b[1;32mprint\u001b[0m\u001b[1;33m(\u001b[0m\u001b[1;34m\"---\"\u001b[0m\u001b[1;33m)\u001b[0m\u001b[1;33m\u001b[0m\u001b[0m\n\u001b[0;32m     19\u001b[0m         \u001b[0mexit\u001b[0m \u001b[1;33m=\u001b[0m \u001b[0mraw_input\u001b[0m\u001b[1;33m(\u001b[0m\u001b[1;34m\"Exit? (y/N)\"\u001b[0m\u001b[1;33m)\u001b[0m\u001b[1;33m.\u001b[0m\u001b[0mstrip\u001b[0m\u001b[1;33m(\u001b[0m\u001b[1;33m)\u001b[0m\u001b[1;33m\u001b[0m\u001b[0m\n",
      "\u001b[1;32mC:\\Users\\darthoma\\Documents\\CityEnergyAnalyst\\Dependencies\\Python\\lib\\site-packages\\pandas\\core\\frame.pyc\u001b[0m in \u001b[0;36m__getitem__\u001b[1;34m(self, key)\u001b[0m\n\u001b[0;32m   2686\u001b[0m             \u001b[1;32mreturn\u001b[0m \u001b[0mself\u001b[0m\u001b[1;33m.\u001b[0m\u001b[0m_getitem_multilevel\u001b[0m\u001b[1;33m(\u001b[0m\u001b[0mkey\u001b[0m\u001b[1;33m)\u001b[0m\u001b[1;33m\u001b[0m\u001b[0m\n\u001b[0;32m   2687\u001b[0m         \u001b[1;32melse\u001b[0m\u001b[1;33m:\u001b[0m\u001b[1;33m\u001b[0m\u001b[0m\n\u001b[1;32m-> 2688\u001b[1;33m             \u001b[1;32mreturn\u001b[0m \u001b[0mself\u001b[0m\u001b[1;33m.\u001b[0m\u001b[0m_getitem_column\u001b[0m\u001b[1;33m(\u001b[0m\u001b[0mkey\u001b[0m\u001b[1;33m)\u001b[0m\u001b[1;33m\u001b[0m\u001b[0m\n\u001b[0m\u001b[0;32m   2689\u001b[0m \u001b[1;33m\u001b[0m\u001b[0m\n\u001b[0;32m   2690\u001b[0m     \u001b[1;32mdef\u001b[0m \u001b[0m_getitem_column\u001b[0m\u001b[1;33m(\u001b[0m\u001b[0mself\u001b[0m\u001b[1;33m,\u001b[0m \u001b[0mkey\u001b[0m\u001b[1;33m)\u001b[0m\u001b[1;33m:\u001b[0m\u001b[1;33m\u001b[0m\u001b[0m\n",
      "\u001b[1;32mC:\\Users\\darthoma\\Documents\\CityEnergyAnalyst\\Dependencies\\Python\\lib\\site-packages\\pandas\\core\\frame.pyc\u001b[0m in \u001b[0;36m_getitem_column\u001b[1;34m(self, key)\u001b[0m\n\u001b[0;32m   2693\u001b[0m         \u001b[1;31m# get column\u001b[0m\u001b[1;33m\u001b[0m\u001b[1;33m\u001b[0m\u001b[0m\n\u001b[0;32m   2694\u001b[0m         \u001b[1;32mif\u001b[0m \u001b[0mself\u001b[0m\u001b[1;33m.\u001b[0m\u001b[0mcolumns\u001b[0m\u001b[1;33m.\u001b[0m\u001b[0mis_unique\u001b[0m\u001b[1;33m:\u001b[0m\u001b[1;33m\u001b[0m\u001b[0m\n\u001b[1;32m-> 2695\u001b[1;33m             \u001b[1;32mreturn\u001b[0m \u001b[0mself\u001b[0m\u001b[1;33m.\u001b[0m\u001b[0m_get_item_cache\u001b[0m\u001b[1;33m(\u001b[0m\u001b[0mkey\u001b[0m\u001b[1;33m)\u001b[0m\u001b[1;33m\u001b[0m\u001b[0m\n\u001b[0m\u001b[0;32m   2696\u001b[0m \u001b[1;33m\u001b[0m\u001b[0m\n\u001b[0;32m   2697\u001b[0m         \u001b[1;31m# duplicate columns & possible reduce dimensionality\u001b[0m\u001b[1;33m\u001b[0m\u001b[1;33m\u001b[0m\u001b[0m\n",
      "\u001b[1;32mC:\\Users\\darthoma\\Documents\\CityEnergyAnalyst\\Dependencies\\Python\\lib\\site-packages\\pandas\\core\\generic.pyc\u001b[0m in \u001b[0;36m_get_item_cache\u001b[1;34m(self, item)\u001b[0m\n\u001b[0;32m   2487\u001b[0m         \u001b[0mres\u001b[0m \u001b[1;33m=\u001b[0m \u001b[0mcache\u001b[0m\u001b[1;33m.\u001b[0m\u001b[0mget\u001b[0m\u001b[1;33m(\u001b[0m\u001b[0mitem\u001b[0m\u001b[1;33m)\u001b[0m\u001b[1;33m\u001b[0m\u001b[0m\n\u001b[0;32m   2488\u001b[0m         \u001b[1;32mif\u001b[0m \u001b[0mres\u001b[0m \u001b[1;32mis\u001b[0m \u001b[0mNone\u001b[0m\u001b[1;33m:\u001b[0m\u001b[1;33m\u001b[0m\u001b[0m\n\u001b[1;32m-> 2489\u001b[1;33m             \u001b[0mvalues\u001b[0m \u001b[1;33m=\u001b[0m \u001b[0mself\u001b[0m\u001b[1;33m.\u001b[0m\u001b[0m_data\u001b[0m\u001b[1;33m.\u001b[0m\u001b[0mget\u001b[0m\u001b[1;33m(\u001b[0m\u001b[0mitem\u001b[0m\u001b[1;33m)\u001b[0m\u001b[1;33m\u001b[0m\u001b[0m\n\u001b[0m\u001b[0;32m   2490\u001b[0m             \u001b[0mres\u001b[0m \u001b[1;33m=\u001b[0m \u001b[0mself\u001b[0m\u001b[1;33m.\u001b[0m\u001b[0m_box_item_values\u001b[0m\u001b[1;33m(\u001b[0m\u001b[0mitem\u001b[0m\u001b[1;33m,\u001b[0m \u001b[0mvalues\u001b[0m\u001b[1;33m)\u001b[0m\u001b[1;33m\u001b[0m\u001b[0m\n\u001b[0;32m   2491\u001b[0m             \u001b[0mcache\u001b[0m\u001b[1;33m[\u001b[0m\u001b[0mitem\u001b[0m\u001b[1;33m]\u001b[0m \u001b[1;33m=\u001b[0m \u001b[0mres\u001b[0m\u001b[1;33m\u001b[0m\u001b[0m\n",
      "\u001b[1;32mC:\\Users\\darthoma\\Documents\\CityEnergyAnalyst\\Dependencies\\Python\\lib\\site-packages\\pandas\\core\\internals.pyc\u001b[0m in \u001b[0;36mget\u001b[1;34m(self, item, fastpath)\u001b[0m\n\u001b[0;32m   4113\u001b[0m \u001b[1;33m\u001b[0m\u001b[0m\n\u001b[0;32m   4114\u001b[0m             \u001b[1;32mif\u001b[0m \u001b[1;32mnot\u001b[0m \u001b[0misna\u001b[0m\u001b[1;33m(\u001b[0m\u001b[0mitem\u001b[0m\u001b[1;33m)\u001b[0m\u001b[1;33m:\u001b[0m\u001b[1;33m\u001b[0m\u001b[0m\n\u001b[1;32m-> 4115\u001b[1;33m                 \u001b[0mloc\u001b[0m \u001b[1;33m=\u001b[0m \u001b[0mself\u001b[0m\u001b[1;33m.\u001b[0m\u001b[0mitems\u001b[0m\u001b[1;33m.\u001b[0m\u001b[0mget_loc\u001b[0m\u001b[1;33m(\u001b[0m\u001b[0mitem\u001b[0m\u001b[1;33m)\u001b[0m\u001b[1;33m\u001b[0m\u001b[0m\n\u001b[0m\u001b[0;32m   4116\u001b[0m             \u001b[1;32melse\u001b[0m\u001b[1;33m:\u001b[0m\u001b[1;33m\u001b[0m\u001b[0m\n\u001b[0;32m   4117\u001b[0m                 \u001b[0mindexer\u001b[0m \u001b[1;33m=\u001b[0m \u001b[0mnp\u001b[0m\u001b[1;33m.\u001b[0m\u001b[0marange\u001b[0m\u001b[1;33m(\u001b[0m\u001b[0mlen\u001b[0m\u001b[1;33m(\u001b[0m\u001b[0mself\u001b[0m\u001b[1;33m.\u001b[0m\u001b[0mitems\u001b[0m\u001b[1;33m)\u001b[0m\u001b[1;33m)\u001b[0m\u001b[1;33m[\u001b[0m\u001b[0misna\u001b[0m\u001b[1;33m(\u001b[0m\u001b[0mself\u001b[0m\u001b[1;33m.\u001b[0m\u001b[0mitems\u001b[0m\u001b[1;33m)\u001b[0m\u001b[1;33m]\u001b[0m\u001b[1;33m\u001b[0m\u001b[0m\n",
      "\u001b[1;32mC:\\Users\\darthoma\\Documents\\CityEnergyAnalyst\\Dependencies\\Python\\lib\\site-packages\\pandas\\core\\indexes\\base.pyc\u001b[0m in \u001b[0;36mget_loc\u001b[1;34m(self, key, method, tolerance)\u001b[0m\n\u001b[0;32m   3078\u001b[0m                 \u001b[1;32mreturn\u001b[0m \u001b[0mself\u001b[0m\u001b[1;33m.\u001b[0m\u001b[0m_engine\u001b[0m\u001b[1;33m.\u001b[0m\u001b[0mget_loc\u001b[0m\u001b[1;33m(\u001b[0m\u001b[0mkey\u001b[0m\u001b[1;33m)\u001b[0m\u001b[1;33m\u001b[0m\u001b[0m\n\u001b[0;32m   3079\u001b[0m             \u001b[1;32mexcept\u001b[0m \u001b[0mKeyError\u001b[0m\u001b[1;33m:\u001b[0m\u001b[1;33m\u001b[0m\u001b[0m\n\u001b[1;32m-> 3080\u001b[1;33m                 \u001b[1;32mreturn\u001b[0m \u001b[0mself\u001b[0m\u001b[1;33m.\u001b[0m\u001b[0m_engine\u001b[0m\u001b[1;33m.\u001b[0m\u001b[0mget_loc\u001b[0m\u001b[1;33m(\u001b[0m\u001b[0mself\u001b[0m\u001b[1;33m.\u001b[0m\u001b[0m_maybe_cast_indexer\u001b[0m\u001b[1;33m(\u001b[0m\u001b[0mkey\u001b[0m\u001b[1;33m)\u001b[0m\u001b[1;33m)\u001b[0m\u001b[1;33m\u001b[0m\u001b[0m\n\u001b[0m\u001b[0;32m   3081\u001b[0m \u001b[1;33m\u001b[0m\u001b[0m\n\u001b[0;32m   3082\u001b[0m         \u001b[0mindexer\u001b[0m \u001b[1;33m=\u001b[0m \u001b[0mself\u001b[0m\u001b[1;33m.\u001b[0m\u001b[0mget_indexer\u001b[0m\u001b[1;33m(\u001b[0m\u001b[1;33m[\u001b[0m\u001b[0mkey\u001b[0m\u001b[1;33m]\u001b[0m\u001b[1;33m,\u001b[0m \u001b[0mmethod\u001b[0m\u001b[1;33m=\u001b[0m\u001b[0mmethod\u001b[0m\u001b[1;33m,\u001b[0m \u001b[0mtolerance\u001b[0m\u001b[1;33m=\u001b[0m\u001b[0mtolerance\u001b[0m\u001b[1;33m)\u001b[0m\u001b[1;33m\u001b[0m\u001b[0m\n",
      "\u001b[1;32mpandas/_libs/index.pyx\u001b[0m in \u001b[0;36mpandas._libs.index.IndexEngine.get_loc\u001b[1;34m()\u001b[0m\n",
      "\u001b[1;32mpandas/_libs/index.pyx\u001b[0m in \u001b[0;36mpandas._libs.index.IndexEngine.get_loc\u001b[1;34m()\u001b[0m\n",
      "\u001b[1;32mpandas/_libs/hashtable_class_helper.pxi\u001b[0m in \u001b[0;36mpandas._libs.hashtable.PyObjectHashTable.get_item\u001b[1;34m()\u001b[0m\n",
      "\u001b[1;32mpandas/_libs/hashtable_class_helper.pxi\u001b[0m in \u001b[0;36mpandas._libs.hashtable.PyObjectHashTable.get_item\u001b[1;34m()\u001b[0m\n",
      "\u001b[1;31mKeyError\u001b[0m: 'outputs/data/potentials/solar/B001_PVT_sensors.csv!!!intersection'"
     ]
    }
   ],
   "source": "glossary_df = cea.glossary.read_glossary_df()\n\nnew_rows = {}  # index -> row\n\ndef has_todo(row):\n    return \"TODO\" in (row.values)\n\nfor index, row in list(glossary_df.iterrows()):\n    if has_todo(row):\n        print(\"---\")\n        print(\"SCRIPT: {SCRIPT}\".format(SCRIPT=row.SCRIPT))\n        print(\"LOCATOR_METHOD: {LOCATOR_METHOD}\".format(LOCATOR_METHOD=row.LOCATOR_METHOD))\n        print(\"FILE_NAME: {FILE_NAME}\".format(FILE_NAME=row.FILE_NAME))\n        print(\"VARIABLE: {VARIABLE}\".format(VARIABLE=row.VARIABLE))\n        print(\"DESCRIPTION: {DESCRIPTION}\".format(DESCRIPTION=row.DESCRIPTION))\n        for column in (\"DESCRIPTION\", \"UNIT\", \"VALUES\", \"TYPE\", \"COLOR\"):\n            new_value = raw_input(\"{column}={value}: \".format(column=column, value=row[column])).strip()$\n            if new_value = \"skip\":\n                continue\n            if new_value:\n                row[column] = new_value\n        print(\"---\")\n        exit = raw_input(\"Exit? (y/N)\").strip()\n        if exit == \"y\":\n            break\n        \nglossary_df = save_glossary(glossary_df)"
  },
  {
   "cell_type": "markdown",
   "metadata": {},
   "source": "### clean the sample_data in schema (make longs into ints) "
  },
  {
   "cell_type": "code",
   "execution_count": 26,
   "metadata": {},
   "outputs": [
    {
     "ename": "KeyError",
     "evalue": "u'outputs/data/potentials/solar/B001_PVT_sensors.csv!!!intersection'",
     "output_type": "error",
     "traceback": [
      "\u001b[1;31m---------------------------------------------------------------------------\u001b[0m",
      "\u001b[1;31mKeyError\u001b[0m                                  Traceback (most recent call last)",
      "\u001b[1;32m<ipython-input-26-c8d4a9e808fc>\u001b[0m in \u001b[0;36m<module>\u001b[1;34m()\u001b[0m\n\u001b[1;32m----> 1\u001b[1;33m \u001b[0mglossary_df\u001b[0m\u001b[1;33m[\u001b[0m\u001b[1;34mu'outputs/data/potentials/solar/B001_PVT_sensors.csv!!!intersection'\u001b[0m\u001b[1;33m]\u001b[0m\u001b[1;33m\u001b[0m\u001b[0m\n\u001b[0m",
      "\u001b[1;32mC:\\Users\\darthoma\\Documents\\CityEnergyAnalyst\\Dependencies\\Python\\lib\\site-packages\\pandas\\core\\frame.pyc\u001b[0m in \u001b[0;36m__getitem__\u001b[1;34m(self, key)\u001b[0m\n\u001b[0;32m   2686\u001b[0m             \u001b[1;32mreturn\u001b[0m \u001b[0mself\u001b[0m\u001b[1;33m.\u001b[0m\u001b[0m_getitem_multilevel\u001b[0m\u001b[1;33m(\u001b[0m\u001b[0mkey\u001b[0m\u001b[1;33m)\u001b[0m\u001b[1;33m\u001b[0m\u001b[0m\n\u001b[0;32m   2687\u001b[0m         \u001b[1;32melse\u001b[0m\u001b[1;33m:\u001b[0m\u001b[1;33m\u001b[0m\u001b[0m\n\u001b[1;32m-> 2688\u001b[1;33m             \u001b[1;32mreturn\u001b[0m \u001b[0mself\u001b[0m\u001b[1;33m.\u001b[0m\u001b[0m_getitem_column\u001b[0m\u001b[1;33m(\u001b[0m\u001b[0mkey\u001b[0m\u001b[1;33m)\u001b[0m\u001b[1;33m\u001b[0m\u001b[0m\n\u001b[0m\u001b[0;32m   2689\u001b[0m \u001b[1;33m\u001b[0m\u001b[0m\n\u001b[0;32m   2690\u001b[0m     \u001b[1;32mdef\u001b[0m \u001b[0m_getitem_column\u001b[0m\u001b[1;33m(\u001b[0m\u001b[0mself\u001b[0m\u001b[1;33m,\u001b[0m \u001b[0mkey\u001b[0m\u001b[1;33m)\u001b[0m\u001b[1;33m:\u001b[0m\u001b[1;33m\u001b[0m\u001b[0m\n",
      "\u001b[1;32mC:\\Users\\darthoma\\Documents\\CityEnergyAnalyst\\Dependencies\\Python\\lib\\site-packages\\pandas\\core\\frame.pyc\u001b[0m in \u001b[0;36m_getitem_column\u001b[1;34m(self, key)\u001b[0m\n\u001b[0;32m   2693\u001b[0m         \u001b[1;31m# get column\u001b[0m\u001b[1;33m\u001b[0m\u001b[1;33m\u001b[0m\u001b[0m\n\u001b[0;32m   2694\u001b[0m         \u001b[1;32mif\u001b[0m \u001b[0mself\u001b[0m\u001b[1;33m.\u001b[0m\u001b[0mcolumns\u001b[0m\u001b[1;33m.\u001b[0m\u001b[0mis_unique\u001b[0m\u001b[1;33m:\u001b[0m\u001b[1;33m\u001b[0m\u001b[0m\n\u001b[1;32m-> 2695\u001b[1;33m             \u001b[1;32mreturn\u001b[0m \u001b[0mself\u001b[0m\u001b[1;33m.\u001b[0m\u001b[0m_get_item_cache\u001b[0m\u001b[1;33m(\u001b[0m\u001b[0mkey\u001b[0m\u001b[1;33m)\u001b[0m\u001b[1;33m\u001b[0m\u001b[0m\n\u001b[0m\u001b[0;32m   2696\u001b[0m \u001b[1;33m\u001b[0m\u001b[0m\n\u001b[0;32m   2697\u001b[0m         \u001b[1;31m# duplicate columns & possible reduce dimensionality\u001b[0m\u001b[1;33m\u001b[0m\u001b[1;33m\u001b[0m\u001b[0m\n",
      "\u001b[1;32mC:\\Users\\darthoma\\Documents\\CityEnergyAnalyst\\Dependencies\\Python\\lib\\site-packages\\pandas\\core\\generic.pyc\u001b[0m in \u001b[0;36m_get_item_cache\u001b[1;34m(self, item)\u001b[0m\n\u001b[0;32m   2487\u001b[0m         \u001b[0mres\u001b[0m \u001b[1;33m=\u001b[0m \u001b[0mcache\u001b[0m\u001b[1;33m.\u001b[0m\u001b[0mget\u001b[0m\u001b[1;33m(\u001b[0m\u001b[0mitem\u001b[0m\u001b[1;33m)\u001b[0m\u001b[1;33m\u001b[0m\u001b[0m\n\u001b[0;32m   2488\u001b[0m         \u001b[1;32mif\u001b[0m \u001b[0mres\u001b[0m \u001b[1;32mis\u001b[0m \u001b[0mNone\u001b[0m\u001b[1;33m:\u001b[0m\u001b[1;33m\u001b[0m\u001b[0m\n\u001b[1;32m-> 2489\u001b[1;33m             \u001b[0mvalues\u001b[0m \u001b[1;33m=\u001b[0m \u001b[0mself\u001b[0m\u001b[1;33m.\u001b[0m\u001b[0m_data\u001b[0m\u001b[1;33m.\u001b[0m\u001b[0mget\u001b[0m\u001b[1;33m(\u001b[0m\u001b[0mitem\u001b[0m\u001b[1;33m)\u001b[0m\u001b[1;33m\u001b[0m\u001b[0m\n\u001b[0m\u001b[0;32m   2490\u001b[0m             \u001b[0mres\u001b[0m \u001b[1;33m=\u001b[0m \u001b[0mself\u001b[0m\u001b[1;33m.\u001b[0m\u001b[0m_box_item_values\u001b[0m\u001b[1;33m(\u001b[0m\u001b[0mitem\u001b[0m\u001b[1;33m,\u001b[0m \u001b[0mvalues\u001b[0m\u001b[1;33m)\u001b[0m\u001b[1;33m\u001b[0m\u001b[0m\n\u001b[0;32m   2491\u001b[0m             \u001b[0mcache\u001b[0m\u001b[1;33m[\u001b[0m\u001b[0mitem\u001b[0m\u001b[1;33m]\u001b[0m \u001b[1;33m=\u001b[0m \u001b[0mres\u001b[0m\u001b[1;33m\u001b[0m\u001b[0m\n",
      "\u001b[1;32mC:\\Users\\darthoma\\Documents\\CityEnergyAnalyst\\Dependencies\\Python\\lib\\site-packages\\pandas\\core\\internals.pyc\u001b[0m in \u001b[0;36mget\u001b[1;34m(self, item, fastpath)\u001b[0m\n\u001b[0;32m   4113\u001b[0m \u001b[1;33m\u001b[0m\u001b[0m\n\u001b[0;32m   4114\u001b[0m             \u001b[1;32mif\u001b[0m \u001b[1;32mnot\u001b[0m \u001b[0misna\u001b[0m\u001b[1;33m(\u001b[0m\u001b[0mitem\u001b[0m\u001b[1;33m)\u001b[0m\u001b[1;33m:\u001b[0m\u001b[1;33m\u001b[0m\u001b[0m\n\u001b[1;32m-> 4115\u001b[1;33m                 \u001b[0mloc\u001b[0m \u001b[1;33m=\u001b[0m \u001b[0mself\u001b[0m\u001b[1;33m.\u001b[0m\u001b[0mitems\u001b[0m\u001b[1;33m.\u001b[0m\u001b[0mget_loc\u001b[0m\u001b[1;33m(\u001b[0m\u001b[0mitem\u001b[0m\u001b[1;33m)\u001b[0m\u001b[1;33m\u001b[0m\u001b[0m\n\u001b[0m\u001b[0;32m   4116\u001b[0m             \u001b[1;32melse\u001b[0m\u001b[1;33m:\u001b[0m\u001b[1;33m\u001b[0m\u001b[0m\n\u001b[0;32m   4117\u001b[0m                 \u001b[0mindexer\u001b[0m \u001b[1;33m=\u001b[0m \u001b[0mnp\u001b[0m\u001b[1;33m.\u001b[0m\u001b[0marange\u001b[0m\u001b[1;33m(\u001b[0m\u001b[0mlen\u001b[0m\u001b[1;33m(\u001b[0m\u001b[0mself\u001b[0m\u001b[1;33m.\u001b[0m\u001b[0mitems\u001b[0m\u001b[1;33m)\u001b[0m\u001b[1;33m)\u001b[0m\u001b[1;33m[\u001b[0m\u001b[0misna\u001b[0m\u001b[1;33m(\u001b[0m\u001b[0mself\u001b[0m\u001b[1;33m.\u001b[0m\u001b[0mitems\u001b[0m\u001b[1;33m)\u001b[0m\u001b[1;33m]\u001b[0m\u001b[1;33m\u001b[0m\u001b[0m\n",
      "\u001b[1;32mC:\\Users\\darthoma\\Documents\\CityEnergyAnalyst\\Dependencies\\Python\\lib\\site-packages\\pandas\\core\\indexes\\base.pyc\u001b[0m in \u001b[0;36mget_loc\u001b[1;34m(self, key, method, tolerance)\u001b[0m\n\u001b[0;32m   3078\u001b[0m                 \u001b[1;32mreturn\u001b[0m \u001b[0mself\u001b[0m\u001b[1;33m.\u001b[0m\u001b[0m_engine\u001b[0m\u001b[1;33m.\u001b[0m\u001b[0mget_loc\u001b[0m\u001b[1;33m(\u001b[0m\u001b[0mkey\u001b[0m\u001b[1;33m)\u001b[0m\u001b[1;33m\u001b[0m\u001b[0m\n\u001b[0;32m   3079\u001b[0m             \u001b[1;32mexcept\u001b[0m \u001b[0mKeyError\u001b[0m\u001b[1;33m:\u001b[0m\u001b[1;33m\u001b[0m\u001b[0m\n\u001b[1;32m-> 3080\u001b[1;33m                 \u001b[1;32mreturn\u001b[0m \u001b[0mself\u001b[0m\u001b[1;33m.\u001b[0m\u001b[0m_engine\u001b[0m\u001b[1;33m.\u001b[0m\u001b[0mget_loc\u001b[0m\u001b[1;33m(\u001b[0m\u001b[0mself\u001b[0m\u001b[1;33m.\u001b[0m\u001b[0m_maybe_cast_indexer\u001b[0m\u001b[1;33m(\u001b[0m\u001b[0mkey\u001b[0m\u001b[1;33m)\u001b[0m\u001b[1;33m)\u001b[0m\u001b[1;33m\u001b[0m\u001b[0m\n\u001b[0m\u001b[0;32m   3081\u001b[0m \u001b[1;33m\u001b[0m\u001b[0m\n\u001b[0;32m   3082\u001b[0m         \u001b[0mindexer\u001b[0m \u001b[1;33m=\u001b[0m \u001b[0mself\u001b[0m\u001b[1;33m.\u001b[0m\u001b[0mget_indexer\u001b[0m\u001b[1;33m(\u001b[0m\u001b[1;33m[\u001b[0m\u001b[0mkey\u001b[0m\u001b[1;33m]\u001b[0m\u001b[1;33m,\u001b[0m \u001b[0mmethod\u001b[0m\u001b[1;33m=\u001b[0m\u001b[0mmethod\u001b[0m\u001b[1;33m,\u001b[0m \u001b[0mtolerance\u001b[0m\u001b[1;33m=\u001b[0m\u001b[0mtolerance\u001b[0m\u001b[1;33m)\u001b[0m\u001b[1;33m\u001b[0m\u001b[0m\n",
      "\u001b[1;32mpandas/_libs/index.pyx\u001b[0m in \u001b[0;36mpandas._libs.index.IndexEngine.get_loc\u001b[1;34m()\u001b[0m\n",
      "\u001b[1;32mpandas/_libs/index.pyx\u001b[0m in \u001b[0;36mpandas._libs.index.IndexEngine.get_loc\u001b[1;34m()\u001b[0m\n",
      "\u001b[1;32mpandas/_libs/hashtable_class_helper.pxi\u001b[0m in \u001b[0;36mpandas._libs.hashtable.PyObjectHashTable.get_item\u001b[1;34m()\u001b[0m\n",
      "\u001b[1;32mpandas/_libs/hashtable_class_helper.pxi\u001b[0m in \u001b[0;36mpandas._libs.hashtable.PyObjectHashTable.get_item\u001b[1;34m()\u001b[0m\n",
      "\u001b[1;31mKeyError\u001b[0m: u'outputs/data/potentials/solar/B001_PVT_sensors.csv!!!intersection'"
     ]
    }
   ],
   "source": "glossary_df[u'outputs/data/potentials/solar/B001_PVT_sensors.csv!!!intersection']"
  },
  {
   "cell_type": "code",
   "execution_count": null,
   "metadata": {},
   "outputs": [],
   "source": ""
  }
 ],
 "metadata": {
  "kernelspec": {
   "display_name": "Python 2",
   "language": "python",
   "name": "python2"
  },
  "language_info": {
   "codemirror_mode": {
    "name": "ipython",
    "version": 2
   },
   "file_extension": ".py",
   "mimetype": "text/x-python",
   "name": "python",
   "nbconvert_exporter": "python",
   "pygments_lexer": "ipython2",
   "version": "2.7.15"
  }
 },
 "nbformat": 4,
 "nbformat_minor": 4
}
