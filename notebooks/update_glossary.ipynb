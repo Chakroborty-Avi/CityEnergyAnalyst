{
 "cells": [
  {
   "cell_type": "markdown",
   "metadata": {},
   "source": "### Update glossary.csv file using data from schemas.yml\n\nThis script assumes you have a \"new\" schema obtained from running the `cea trace-inputlocator` script."
  },
  {
   "cell_type": "code",
   "execution_count": 405,
   "metadata": {},
   "outputs": [],
   "source": "import cea.scripts\nimport cea.inputlocator\nimport cea.config\nimport cea.glossary\nfrom cea.tests.trace_inputlocator import get_csv_schema\nimport os\nimport yaml\nimport json\nfrom itertools import repeat"
  },
  {
   "cell_type": "code",
   "execution_count": 377,
   "metadata": {},
   "outputs": [
    {
     "name": "stdout",
     "output_type": "stream",
     "text": "saved new glossary.csv - reloading\n"
    }
   ],
   "source": "schemas = cea.scripts.schemas()\nglossary_df = cea.glossary.read_glossary_df()\nlocators = schemas.keys()\n\ndef save_glossary(glossary_df):\n    glossary_df = glossary_df.sort_values([\"SCRIPT\", \"LOCATOR_METHOD\", \"FILE_NAME\", \"VARIABLE\"])\n    glossary_df.to_csv(os.path.join(os.path.dirname(cea.glossary.__file__), 'glossary.csv'),\n                  columns=[\"SCRIPT\", \"LOCATOR_METHOD\", \"FILE_NAME\", \"VARIABLE\", \"DESCRIPTION\", \"UNIT\", \"VALUES\", \"TYPE\", \"COLOR\"],\n                  index=False)\n    print(\"saved new glossary.csv - reloading\")\n    glossary_df = cea.glossary.read_glossary_df()\n    return glossary_df\nglossary_df = save_glossary(glossary_df)"
  },
  {
   "cell_type": "markdown",
   "metadata": {},
   "source": "### start by finding all entries in schemas.yml without a schema"
  },
  {
   "cell_type": "markdown",
   "metadata": {},
   "source": "the following three locator methods need \"special\" treatment:\n- get_optimization_checkpoint\n  - \"special\" schema\n- get_optimization_disconnected_cooling_capacity\n  - only present in projects with cooling network\n- get_optimization_connected_cooling_capacity\n  - only present in projects with cooling network\n  \nthis code assumes you have a \"reference-case-cooling/baseline\" in your projectroot and have run the optimization on that (e.g. run `cea workflow --workflow district-cooling-system`)"
  },
  {
   "cell_type": "code",
   "execution_count": 378,
   "metadata": {},
   "outputs": [],
   "source": "config = cea.config.Configuration()\nconfig.scenario = os.path.join(config.project, \"..\", \"reference-case-cooling\", \"baseline\")\nlocator = cea.inputlocator.InputLocator(scenario=config.scenario)\n\n# load get_optimization_checkpoint schema\nif not schemas[\"get_optimization_checkpoint\"][\"schema\"]:\n    with open(locator.get_optimization_checkpoint(1), 'r') as fp:\n        get_optimization_checkpoint = json.load(fp)\n    schemas[\"get_optimization_checkpoint\"][\"schema\"] = {\n        str(key): {\"sample_data\": get_optimization_checkpoint[key],\n                   \"types_found\": None}\n        for key in get_optimization_checkpoint.keys()\n    }\n\n# load get_optimization_disconnected_cooling_capacity schema\nif not schemas[\"get_optimization_disconnected_cooling_capacity\"][\"schema\"]:\n    schemas[\"get_optimization_disconnected_cooling_capacity\"][\"schema\"] = get_csv_schema(\n        locator.get_optimization_disconnected_cooling_capacity(1, 1))\n    \n# load get_optimization_connected_cooling_capacity schema\nif not schemas[\"get_optimization_connected_cooling_capacity\"][\"schema\"]:\n    schemas[\"get_optimization_connected_cooling_capacity\"][\"schema\"] = get_csv_schema(\n        locator.get_optimization_disconnected_cooling_capacity(1, 1))"
  },
  {
   "cell_type": "code",
   "execution_count": 379,
   "metadata": {},
   "outputs": [],
   "source": "# each locator method needs a \"schema\" entry (this should not output anything)\nfor lm in locators:\n    if not \"schema\" in schemas[lm]:\n        print lm"
  },
  {
   "cell_type": "code",
   "execution_count": 380,
   "metadata": {},
   "outputs": [],
   "source": "# the \"schema\" entry should not be `None` (this should not output anything)\nfor lm in locators:\n    if not schemas[lm][\"schema\"]:\n        print lm"
  },
  {
   "cell_type": "markdown",
   "metadata": {},
   "source": "if any of the above produce printed output, update schemas.yml and re-run the notebook"
  },
  {
   "cell_type": "markdown",
   "metadata": {},
   "source": "### make sure the \"used-by\" and \"created-by\" lists don't contain duplicates"
  },
  {
   "cell_type": "code",
   "execution_count": 381,
   "metadata": {},
   "outputs": [],
   "source": "for lm in locators:\n    if not \"used_by\" in schemas[lm]:\n        print lm"
  },
  {
   "cell_type": "code",
   "execution_count": 382,
   "metadata": {},
   "outputs": [],
   "source": "for lm in locators:\n    if not \"created_by\" in schemas[lm]:\n        print lm"
  },
  {
   "cell_type": "markdown",
   "metadata": {},
   "source": "each locator should have a \"used_by\" and a \"created_by\" - let's assume they're all lists"
  },
  {
   "cell_type": "code",
   "execution_count": 383,
   "metadata": {},
   "outputs": [],
   "source": "for lm in locators:\n    schemas[lm][\"used_by\"] = sorted(set(schemas[lm][\"used_by\"]))\n    schemas[lm][\"created_by\"] = sorted(set(schemas[lm][\"created_by\"]))"
  },
  {
   "cell_type": "code",
   "execution_count": 384,
   "metadata": {},
   "outputs": [
    {
     "name": "stdout",
     "output_type": "stream",
     "text": "saving to: c:\\users\\darthoma\\documents\\github\\cityenergyanalyst\\cea\\schemas.yml\n"
    }
   ],
   "source": "# save it back\nschemas_yml = os.path.join(os.path.dirname(cea.scripts.__file__), 'schemas.yml')\nprint \"saving to:\", schemas_yml\nwith open(schemas_yml, 'w') as fp:\n    yaml.dump(schemas, fp)\nschemas = cea.scripts.schemas()"
  },
  {
   "cell_type": "markdown",
   "metadata": {},
   "source": "### find all schema entries that are not in glossary.csv"
  },
  {
   "cell_type": "code",
   "execution_count": 385,
   "metadata": {},
   "outputs": [
    {
     "name": "stdout",
     "output_type": "stream",
     "text": "get_weather\n"
    }
   ],
   "source": "# first: what are the missing locator methods?\nglossary_lms = set(glossary_df.LOCATOR_METHOD.values)\nschemas_lms = set(schemas.keys())\nmissing_lms = sorted(schemas_lms - glossary_lms)\nprint '\\n'.join(missing_lms)"
  },
  {
   "cell_type": "markdown",
   "metadata": {},
   "source": "for each of those missing locator methods in glossary.csv, we need to append entries for each of the fields of that file. some of those files are special (the optimization checkpoints comes to mind). each glossary.csv entry has the following fields:\n\n- SCRIPT (use first \"created_by\" or \"-\", if input file)\n- LOCATOR_METHOD\n- FILE_NAME (get from schemas.yml file_path)\n- VARIABLE (this is the field name)\n- DESCRIPTION (use \"TODO\")\n- UNIT (use \"TODO\")\n- VALUES (use \"TODO\")\n- TYPE (use the first from schemas.types_found)\n- COLOR (use \"black\") - I'm not really sure we need this at all in glossary.csv?"
  },
  {
   "cell_type": "code",
   "execution_count": 386,
   "metadata": {},
   "outputs": [
    {
     "name": "stdout",
     "output_type": "stream",
     "text": "('processing lm:', 'get_weather')\nsaved new glossary.csv - reloading\n"
    }
   ],
   "source": "def extract_glossary_row(script, lm, file_name, variable, variable_entry):\n    if \"types_found\" in variable_entry:\n        var_type = variable_entry[\"types_found\"][0] if variable_entry[\"types_found\"] else \"TODO\"\n    else:\n        var_type = \"TODO\"\n    return {\n        \"key\": \"{lm}!!!{variable}\".format(**locals()),\n        \"SCRIPT\": script,\n        \"LOCATOR_METHOD\": lm,\n        \"FILE_NAME\": file_name,\n        \"VARIABLE\": variable,\n        \"DESCRIPTION\": \"TODO\",\n        \"UNIT\": \"TODO\",\n        \"VALUES\": \"TODO\",\n        \"TYPE\": var_type,\n        \"COLOR\": \"black\"}\n\nfor lm in missing_lms:\n    print(\"processing lm:\", lm)\n    script = schemas[lm][\"created_by\"][0] if len(schemas[lm][\"created_by\"]) else \"-\"\n    file_name = schemas[lm][\"file_path\"]\n    file_type = schemas[lm][\"file_type\"]\n    if file_type in {\"xls\", \"xlsx\"}:\n        for worksheet in schemas[lm][\"schema\"].keys():\n            for variable in schemas[lm][\"schema\"][worksheet].keys():\n                variable_entry = schemas[lm][\"schema\"][worksheet][variable]\n                ws_file_name = \"{file_name}:{worksheet}\".format(**locals())\n                row = extract_glossary_row(script, lm, ws_file_name, variable, variable_entry)\n                glossary_df = glossary_df.append(row, ignore_index=True)\n    else:\n        for variable in schemas[lm][\"schema\"].keys():\n            row = extract_glossary_row(script, lm, file_name, variable, schemas[lm][\"schema\"][variable])\n            glossary_df = glossary_df.append(row, ignore_index=True)\n        \nglossary_df = save_glossary(glossary_df)"
  },
  {
   "cell_type": "markdown",
   "metadata": {},
   "source": "### find all glossary entries that are not in schemas.yml"
  },
  {
   "cell_type": "code",
   "execution_count": 387,
   "metadata": {},
   "outputs": [],
   "source": "# find all filenames for excel files that don't fit the convention (file_name, \":\", worksheet)\n# (clean glossary_df until this doesn't output anything)\nfor _, row in glossary_df.iterrows():\n    # we know the locator method is in here from the previous cell ;)\n    lm = row[\"LOCATOR_METHOD\"]\n    file_type = schemas[lm][\"file_type\"]\n    if file_type in {\"xls\", \"xlsx\"}:\n        if not \":\" in row[\"FILE_NAME\"]:\n            print \"BAD FILE_NAME:\", row[\"FILE_NAME\"]"
  },
  {
   "cell_type": "code",
   "execution_count": 388,
   "metadata": {},
   "outputs": [
    {
     "name": "stdout",
     "output_type": "stream",
     "text": "saved new glossary.csv - reloading\n"
    }
   ],
   "source": "# find all locator methods not present in schemas.yml\ninvalid_lms = []  # stuff left over from previous versions of cea\nfor _, row in glossary_df.iterrows():\n    lm = row[\"LOCATOR_METHOD\"]\n    if lm not in schemas:\n        invalid_lms.append(lm)\n\nfor lm in invalid_lms:\n    print \"invalid:\", lm\n    glossary_df = glossary_df[glossary_df[\"LOCATOR_METHOD\"] != lm]\n\nglossary_df = save_glossary(glossary_df)"
  },
  {
   "cell_type": "code",
   "execution_count": 389,
   "metadata": {},
   "outputs": [
    {
     "name": "stdout",
     "output_type": "stream",
     "text": "invalid VARIABLE: SC_results/SC_roofs_top_Q_kWh\ninvalid VARIABLE: SC_results/SC_roofs_top_m2\ninvalid VARIABLE: SC_results/SC_walls_east_Q_kWh\ninvalid VARIABLE: SC_results/SC_walls_east_m2\ninvalid VARIABLE: SC_results/SC_walls_north_Q_kWh\ninvalid VARIABLE: SC_results/SC_walls_north_m2\ninvalid VARIABLE: SC_results/SC_walls_south_Q_kWh\ninvalid VARIABLE: SC_results/SC_walls_south_m2\ninvalid VARIABLE: SC_results/SC_walls_west_Q_kWh\ninvalid VARIABLE: SC_results/SC_walls_west_m2\ninvalid VARIABLE: SC_total_buildings/SC_roofs_top_Q_kWh\ninvalid VARIABLE: SC_total_buildings/SC_roofs_top_m2\ninvalid VARIABLE: SC_total_buildings/SC_walls_east_Q_kWh\ninvalid VARIABLE: SC_total_buildings/SC_walls_east_m2\ninvalid VARIABLE: SC_total_buildings/SC_walls_north_Q_kWh\ninvalid VARIABLE: SC_total_buildings/SC_walls_north_m2\ninvalid VARIABLE: SC_total_buildings/SC_walls_south_Q_kWh\ninvalid VARIABLE: SC_total_buildings/SC_walls_south_m2\ninvalid VARIABLE: SC_total_buildings/SC_walls_west_Q_kWh\ninvalid VARIABLE: SC_total_buildings/SC_walls_west_m2\ninvalid VARIABLE: SC_totals/SC_roofs_top_Q_kWh\ninvalid VARIABLE: SC_totals/SC_roofs_top_m2\ninvalid VARIABLE: SC_totals/SC_walls_east_Q_kWh\ninvalid VARIABLE: SC_totals/SC_walls_east_m2\ninvalid VARIABLE: SC_totals/SC_walls_north_Q_kWh\ninvalid VARIABLE: SC_totals/SC_walls_north_m2\ninvalid VARIABLE: SC_totals/SC_walls_south_Q_kWh\ninvalid VARIABLE: SC_totals/SC_walls_south_m2\ninvalid VARIABLE: SC_totals/SC_walls_west_Q_kWh\ninvalid VARIABLE: SC_totals/SC_walls_west_m2\nsaved new glossary.csv - reloading\n"
    }
   ],
   "source": "# find all variables not present in schemas.yml\n# NOTE: treat xls & xlsx files differently\nglossary_df = cea.glossary.read_glossary_df()\ninvlaid_vars = [] # list of rows that are not valid anymore\nfor _, row in glossary_df.iterrows():\n    # we know the locator method is in here from the previous cell ;)\n    lm = row[\"LOCATOR_METHOD\"]\n    var = row[\"VARIABLE\"]\n    file_type = schemas[lm][\"file_type\"]\n    if file_type in {\"xls\", \"xlsx\"}:\n        worksheet = row[\"FILE_NAME\"].split(\":\")[1]\n        if not var in schemas[lm][\"schema\"][worksheet]:\n            print \"invalid VARIABLE: {lm}/{worksheet}/{var}\".format(**locals())\n    else:\n        if not var in schemas[lm][\"schema\"]:\n            print \"invalid VARIABLE: {lm}/{var}\".format(**locals())\n            \nglossary_df = save_glossary(glossary_df)"
  },
  {
   "cell_type": "markdown",
   "metadata": {},
   "source": "**NOTE:** for now,there are still some invalid variables in `SC_results` and `SC_total_buildings` that we'll just gloss over (pun intended). "
  },
  {
   "cell_type": "markdown",
   "metadata": {},
   "source": "### check to make sure all variables in schemas.yml are present in glossary.csv"
  },
  {
   "cell_type": "code",
   "execution_count": 407,
   "metadata": {},
   "outputs": [
    {
     "name": "stdout",
     "output_type": "stream",
     "text": "MISSING: get_total_demand/GRID_ww_MWhyr ([])\nMISSING: get_total_demand/GRID_l0_kW ([])\nMISSING: get_total_demand/Ea_MWhyr ([])\nMISSING: get_total_demand/GRID_pro_MWhyr ([])\nMISSING: get_total_demand/GRID_cre_MWhyr ([])\nMISSING: get_total_demand/GRID_cs_MWhyr ([])\nMISSING: get_total_demand/GRID_data0_kW ([])\nMISSING: get_total_demand/GRID_hs_MWhyr ([])\nMISSING: get_total_demand/GRID_l_MWhyr ([])\nMISSING: get_total_demand/GRID_aux_MWhyr ([])\nMISSING: get_total_demand/GRID_cs0_kW ([])\nMISSING: get_total_demand/GRID_pro0_kW ([])\nMISSING: get_total_demand/El_MWhyr ([])\nMISSING: get_total_demand/GRID_cdata0_kW ([])\nMISSING: get_total_demand/GRID_a0_kW ([])\nMISSING: get_total_demand/GRID_cre0_kW ([])\nMISSING: get_total_demand/GRID_aux0_kW ([])\nMISSING: get_total_demand/GRID_cdata_MWhyr ([])\nMISSING: get_total_demand/GRID_ww0_kW ([])\nMISSING: get_total_demand/El0_kW ([])\nMISSING: get_total_demand/GRID_hs0_kW ([])\nMISSING: get_total_demand/GRID_a_MWhyr ([])\nMISSING: get_total_demand/GRID_data_MWhyr ([])\nMISSING: get_total_demand/Ea0_kW ([])\nMISSING: get_costs_operation_file/Capex_a_sys_connected_USD ([])\nMISSING: get_costs_operation_file/Opex_a_sys_connected_USD ([])\nMISSING: get_costs_operation_file/Capex_a_sys_disconnected_USD ([])\nMISSING: get_costs_operation_file/Opex_a_sys_disconnected_USD ([])\nMISSING: get_archetypes_properties/INDOOR_COMFORT/pressure_loss_total_kW ([])\nMISSING: get_archetypes_properties/INTERNAL_LOADS/pressure_loss_total_kW ([])\nMISSING: get_archetypes_properties/ARCHITECTURE/pressure_loss_total_kW ([])\nMISSING: get_archetypes_properties/HVAC/pressure_loss_total_kW ([])\nMISSING: get_archetypes_properties/SUPPLY/pressure_loss_total_kW ([])\nMISSING: get_archetypes_properties/types_found ([])\nMISSING: get_archetypes_properties/sample_data ([])\nMISSING: get_archetypes_properties/types_found ([])\nMISSING: get_archetypes_properties/sample_data ([])\nMISSING: get_archetypes_properties/types_found ([])\nMISSING: get_archetypes_properties/sample_data ([])\nMISSING: get_archetypes_properties/types_found ([])\nMISSING: get_archetypes_properties/sample_data ([])\nMISSING: get_archetypes_properties/types_found ([])\nMISSING: get_archetypes_properties/sample_data ([])\nMISSING: get_archetypes_properties/types_found ([])\nMISSING: get_archetypes_properties/sample_data ([])\nMISSING: get_archetypes_properties/types_found ([])\nMISSING: get_archetypes_properties/sample_data ([])\nMISSING: get_archetypes_properties/types_found ([])\nMISSING: get_archetypes_properties/sample_data ([])\nMISSING: get_radiation_metadata/intersection ([])\nMISSING: get_database_lca_mobility/MOBILITY/QLake_kW ([])\nMISSING: get_database_lca_mobility/types_found ([])\nMISSING: get_database_lca_mobility/sample_data ([])\nMISSING: get_database_lca_mobility/types_found ([])\nMISSING: get_database_lca_mobility/sample_data ([])\nMISSING: get_database_lca_mobility/types_found ([])\nMISSING: get_database_lca_mobility/sample_data ([])\nMISSING: get_database_lca_mobility/types_found ([])\nMISSING: get_database_lca_mobility/sample_data ([])\nMISSING: get_database_lca_mobility/types_found ([])\nMISSING: get_database_lca_mobility/sample_data ([])\nMISSING: get_database_envelope_systems/WINDOW/Opex_a_sys_USD ([])\nMISSING: get_database_envelope_systems/CONSTRUCTION/Opex_a_sys_USD ([])\nMISSING: get_database_envelope_systems/WALL/Opex_a_sys_USD ([])\nMISSING: get_database_envelope_systems/SHADING/Opex_a_sys_USD ([])\nMISSING: get_database_envelope_systems/LEAKAGE/Opex_a_sys_USD ([])\nMISSING: get_database_envelope_systems/ROOF/Opex_a_sys_USD ([])\nMISSING: get_database_envelope_systems/types_found ([])\nMISSING: get_database_envelope_systems/sample_data ([])\nMISSING: get_database_envelope_systems/types_found ([])\nMISSING: get_database_envelope_systems/sample_data ([])\nMISSING: get_database_envelope_systems/types_found ([])\nMISSING: get_database_envelope_systems/sample_data ([])\nMISSING: get_database_envelope_systems/types_found ([])\nMISSING: get_database_envelope_systems/sample_data ([])\nMISSING: get_database_envelope_systems/types_found ([])\nMISSING: get_database_envelope_systems/sample_data ([])\nMISSING: get_database_envelope_systems/types_found ([])\nMISSING: get_database_envelope_systems/sample_data ([])\nMISSING: get_database_air_conditioning_systems/dhw/extdirrad_Whm2 (index = 11) ([])\nMISSING: get_database_air_conditioning_systems/controller/extdirrad_Whm2 (index = 11) ([])\nMISSING: get_database_air_conditioning_systems/cooling/extdirrad_Whm2 (index = 11) ([])\nMISSING: get_database_air_conditioning_systems/ventilation/extdirrad_Whm2 (index = 11) ([])\nMISSING: get_database_air_conditioning_systems/heating/extdirrad_Whm2 (index = 11) ([])\nMISSING: get_database_air_conditioning_systems/types_found ([])\nMISSING: get_database_air_conditioning_systems/sample_data ([])\nMISSING: get_database_air_conditioning_systems/types_found ([])\nMISSING: get_database_air_conditioning_systems/sample_data ([])\nMISSING: get_database_air_conditioning_systems/types_found ([])\nMISSING: get_database_air_conditioning_systems/sample_data ([])\nMISSING: get_database_air_conditioning_systems/types_found ([])\nMISSING: get_database_air_conditioning_systems/sample_data ([])\nMISSING: get_database_air_conditioning_systems/types_found ([])\nMISSING: get_database_air_conditioning_systems/sample_data ([])\nMISSING: get_database_air_conditioning_systems/types_found ([])\nMISSING: get_database_air_conditioning_systems/sample_data ([])\nMISSING: get_database_air_conditioning_systems/types_found ([])\nMISSING: get_database_air_conditioning_systems/sample_data ([])\nMISSING: get_database_air_conditioning_systems/types_found ([])\nMISSING: get_database_air_conditioning_systems/sample_data ([])\nMISSING: get_database_air_conditioning_systems/types_found ([])\nMISSING: get_database_air_conditioning_systems/sample_data ([])\nMISSING: get_database_air_conditioning_systems/types_found ([])\nMISSING: get_database_air_conditioning_systems/sample_data ([])\nMISSING: get_database_air_conditioning_systems/types_found ([])\nMISSING: get_database_air_conditioning_systems/sample_data ([])\nMISSING: get_database_air_conditioning_systems/types_found ([])\nMISSING: get_database_air_conditioning_systems/sample_data ([])\nMISSING: get_network_layout_edges_shapefile/length_m ([])\nMISSING: get_database_supply_systems/HEX/Type_mat ([])\nMISSING: get_database_supply_systems/HP/Type_mat ([])\nMISSING: get_database_supply_systems/BH/Type_mat ([])\nMISSING: get_database_supply_systems/ALL_IN_ONE_SYSTEMS/Type_mat ([])\nMISSING: get_database_supply_systems/Pump/Type_mat ([])\nMISSING: get_database_supply_systems/FC/Type_mat ([])\nMISSING: get_database_supply_systems/Chiller/Type_mat ([])\nMISSING: get_database_supply_systems/Furnace/Type_mat ([])\nMISSING: get_database_supply_systems/PVT/Type_mat ([])\nMISSING: get_database_supply_systems/CCGT/Type_mat ([])\nMISSING: get_database_supply_systems/PV/Type_mat ([])\nMISSING: get_database_supply_systems/DETAILED_ELEC_PRICES/Type_mat ([])\nMISSING: get_database_supply_systems/TES/Type_mat ([])\nMISSING: get_database_supply_systems/PIPING/Type_mat ([])\nMISSING: get_database_supply_systems/CT/Type_mat ([])\nMISSING: get_database_supply_systems/Boiler/Type_mat ([])\nMISSING: get_database_supply_systems/SC/Type_mat ([])\nMISSING: get_database_supply_systems/FEEDSTOCKS/Type_mat ([])\nMISSING: get_database_supply_systems/Absorption_chiller/Type_mat ([])\nMISSING: get_database_supply_systems/types_found ([])\nMISSING: get_database_supply_systems/sample_data ([])\nMISSING: get_database_supply_systems/types_found ([])\nMISSING: get_database_supply_systems/sample_data ([])\nMISSING: get_database_supply_systems/types_found ([])\nMISSING: get_database_supply_systems/sample_data ([])\nMISSING: get_database_supply_systems/types_found ([])\nMISSING: get_database_supply_systems/sample_data ([])\nMISSING: get_database_supply_systems/types_found ([])\nMISSING: get_database_supply_systems/sample_data ([])\nMISSING: get_database_supply_systems/types_found ([])\nMISSING: get_database_supply_systems/sample_data ([])\nMISSING: get_database_supply_systems/types_found ([])\nMISSING: get_database_supply_systems/sample_data ([])\nMISSING: get_database_supply_systems/types_found ([])\nMISSING: get_database_supply_systems/sample_data ([])\nMISSING: get_database_supply_systems/types_found ([])\nMISSING: get_database_supply_systems/sample_data ([])\nMISSING: get_database_supply_systems/types_found ([])\nMISSING: get_database_supply_systems/sample_data ([])\nMISSING: get_database_supply_systems/types_found ([])\nMISSING: get_database_supply_systems/sample_data ([])\nMISSING: get_database_supply_systems/types_found ([])\nMISSING: get_database_supply_systems/sample_data ([])\nMISSING: get_database_supply_systems/types_found ([])\nMISSING: get_database_supply_systems/sample_data ([])\nMISSING: get_database_supply_systems/types_found ([])\nMISSING: get_database_supply_systems/sample_data ([])\nMISSING: get_database_supply_systems/types_found ([])\nMISSING: get_database_supply_systems/sample_data ([])\nMISSING: get_database_supply_systems/types_found ([])\nMISSING: get_database_supply_systems/sample_data ([])\nMISSING: get_database_supply_systems/types_found ([])\nMISSING: get_database_supply_systems/sample_data ([])\nMISSING: get_database_supply_systems/types_found ([])\nMISSING: get_database_supply_systems/sample_data ([])\nMISSING: get_database_supply_systems/types_found ([])\nMISSING: get_database_supply_systems/sample_data ([])\nMISSING: get_database_supply_systems/types_found ([])\nMISSING: get_database_supply_systems/sample_data ([])\nMISSING: get_database_supply_systems/types_found ([])\nMISSING: get_database_supply_systems/sample_data ([])\nMISSING: get_database_supply_systems/types_found ([])\nMISSING: get_database_supply_systems/sample_data ([])\nMISSING: get_database_supply_systems/types_found ([])\nMISSING: get_database_supply_systems/sample_data ([])\nMISSING: get_database_supply_systems/types_found ([])\nMISSING: get_database_supply_systems/sample_data ([])\nMISSING: get_database_supply_systems/types_found ([])\nMISSING: get_database_supply_systems/sample_data ([])\nMISSING: get_database_supply_systems/types_found ([])\nMISSING: get_database_supply_systems/sample_data ([])\nMISSING: PV_metadata_results/intersection ([])\n"
    },
    {
     "name": "stdout",
     "output_type": "stream",
     "text": "MISSING: SC_metadata_results/intersection ([])\nMISSING: get_database_lca_buildings/EMBODIED_EMISSIONS/PEN_MJoil ([])\nMISSING: get_database_lca_buildings/EMBODIED_ENERGY/PEN_MJoil ([])\nMISSING: get_database_lca_buildings/types_found ([])\nMISSING: get_database_lca_buildings/sample_data ([])\nMISSING: get_database_lca_buildings/types_found ([])\nMISSING: get_database_lca_buildings/sample_data ([])\nMISSING: get_database_lca_buildings/types_found ([])\nMISSING: get_database_lca_buildings/sample_data ([])\nMISSING: get_database_lca_buildings/types_found ([])\nMISSING: get_database_lca_buildings/sample_data ([])\nMISSING: get_database_lca_buildings/types_found ([])\nMISSING: get_database_lca_buildings/sample_data ([])\nMISSING: get_database_lca_buildings/types_found ([])\nMISSING: get_database_lca_buildings/sample_data ([])\nMISSING: get_database_lca_buildings/types_found ([])\nMISSING: get_database_lca_buildings/sample_data ([])\nMISSING: get_database_lca_buildings/types_found ([])\nMISSING: get_database_lca_buildings/sample_data ([])\nMISSING: get_database_lca_buildings/types_found ([])\nMISSING: get_database_lca_buildings/sample_data ([])\nMISSING: get_database_lca_buildings/types_found ([])\nMISSING: get_database_lca_buildings/sample_data ([])\nMISSING: get_database_lca_buildings/types_found ([])\nMISSING: get_database_lca_buildings/sample_data ([])\nMISSING: get_database_lca_buildings/types_found ([])\nMISSING: get_database_lca_buildings/sample_data ([])\nMISSING: get_database_lca_buildings/types_found ([])\nMISSING: get_database_lca_buildings/sample_data ([])\nMISSING: get_database_lca_buildings/types_found ([])\nMISSING: get_database_lca_buildings/sample_data ([])\nMISSING: PVT_metadata_results/intersection ([])\nMISSING: get_demand_results_file/Ea_kWh ([])\nMISSING: get_demand_results_file/El_kWh ([])\nMISSING: get_surroundings_geometry/height_bg ([])\nMISSING: get_surroundings_geometry/floors_bg ([])\nMISSING: SC_total_buildings/SC_ET_walls_east_m2 ([])\nMISSING: SC_total_buildings/SC_ET_walls_south_m2 ([])\nMISSING: SC_total_buildings/SC_ET_roofs_top_m2 ([])\nMISSING: SC_total_buildings/SC_ET_walls_west_m2 ([])\nMISSING: SC_total_buildings/SC_ET_walls_west_Q_kWh ([])\nMISSING: SC_total_buildings/SC_ET_roofs_top_Q_kWh ([])\nMISSING: SC_total_buildings/SC_ET_walls_south_Q_kWh ([])\nMISSING: SC_total_buildings/SC_ET_walls_east_Q_kWh ([])\nMISSING: SC_total_buildings/SC_ET_walls_north_m2 ([])\nMISSING: SC_total_buildings/SC_ET_walls_north_Q_kWh ([])\n"
    }
   ],
   "source": "glossary_df = cea.glossary.read_glossary_df()\n\n# TODO: come up with a solution for these...\nEXCLUDE_LOCATOR_METHODS = {\"SC_totals\", \"SC_results\"}\n\ndef get_variables(schema, file_type):\n    try:\n        if file_type in {\"xls\", \"xlsx\"}:\n            for worksheet in schema.keys():\n                for var in schema[worksheet].keys():\n                    yield var\n        else:\n            for var in schema.keys():\n                yield var\n    except:\n        print(\"ERROR: {schema} {file_type}\".format(**locals()))\n\nfor lm in schemas.keys():\n    if lm in EXCLUDE_LOCATOR_METHODS:\n        continue\n    schema = schemas[lm][\"schema\"]\n    file_type = schemas[lm][\"file_type\"]\n    if file_type in {\"xls\", \"xlsx\"}:\n        for worksheet, schema in schemas[lm][\"schema\"].items():\n            matches = glossary_df[(glossary_df[\"LOCATOR_METHOD\"] == lm)\n                                   & (glossary_df[\"VARIABLE\"] == var)\n                                   & (worksheet in glossary_df[\"FILE_NAME\"])].values\n            if len(matches) != 1:\n                print(\"MISSING: {lm}/{worksheet}/{var} ({matches})\".format(**locals()))\n    for var in get_variables(schema, file_type):\n        # check if it exists in `glossary.csv`\n        matches = glossary_df[(glossary_df[\"LOCATOR_METHOD\"] == lm) & (glossary_df[\"VARIABLE\"] == var)][\"VARIABLE\"].values\n        if len(matches) != 1:\n            print(\"MISSING: {lm}/{var} ({matches})\".format(**locals()))"
  },
  {
   "cell_type": "markdown",
   "metadata": {},
   "source": "### make sure glossary.csv (locator_method, variable) is unique"
  },
  {
   "cell_type": "markdown",
   "metadata": {},
   "source": "### clean the sample_data (make longs into ints) "
  },
  {
   "cell_type": "code",
   "execution_count": null,
   "metadata": {},
   "outputs": [],
   "source": ""
  }
 ],
 "metadata": {
  "kernelspec": {
   "display_name": "Python 2",
   "language": "python",
   "name": "python2"
  },
  "language_info": {
   "codemirror_mode": {
    "name": "ipython",
    "version": 2
   },
   "file_extension": ".py",
   "mimetype": "text/x-python",
   "name": "python",
   "nbconvert_exporter": "python",
   "pygments_lexer": "ipython2",
   "version": "2.7.15"
  }
 },
 "nbformat": 4,
 "nbformat_minor": 4
}
