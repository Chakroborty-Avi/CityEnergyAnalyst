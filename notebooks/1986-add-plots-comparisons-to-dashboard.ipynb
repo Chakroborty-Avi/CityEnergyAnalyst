{
 "cells": [
  {
   "cell_type": "markdown",
   "metadata": {},
   "source": [
    "Some notes while converting the comparison plots from the `cea plots-comparisons` to the dashboard."
   ]
  },
  {
   "cell_type": "code",
   "execution_count": 29,
   "metadata": {},
   "outputs": [],
   "source": [
    "import cea.config\n",
    "import cea.inputlocator\n",
    "reload(cea.config)\n",
    "config = cea.config.Configuration()\n",
    "locator = cea.inputlocator.InputLocator(scenario=config.scenario)"
   ]
  },
  {
   "cell_type": "code",
   "execution_count": 30,
   "metadata": {},
   "outputs": [],
   "source": [
    "import pandas as pd\n",
    "import os\n",
    "\n",
    "from cea.analysis.multicriteria.optimization_post_processing.locating_individuals_in_generation_script import \\\n",
    "    get_pointers_to_correct_individual_generation"
   ]
  },
  {
   "cell_type": "code",
   "execution_count": 31,
   "metadata": {},
   "outputs": [
    {
     "data": {
      "text/plain": [
       "('baseline', None, None)"
      ]
     },
     "execution_count": 31,
     "metadata": {},
     "output_type": "execute_result"
    }
   ],
   "source": [
    "config.plots_scenario_comparisons.base_scenario"
   ]
  },
  {
   "cell_type": "code",
   "execution_count": 32,
   "metadata": {},
   "outputs": [
    {
     "ename": "TypeError",
     "evalue": "unbound method decode() must be called with OptimizationIndividualParameter instance as first argument (got NoneType instance instead)",
     "output_type": "error",
     "traceback": [
      "\u001b[1;31m---------------------------------------------------------------------------\u001b[0m",
      "\u001b[1;31mTypeError\u001b[0m                                 Traceback (most recent call last)",
      "\u001b[1;32m<ipython-input-32-25f6a8120911>\u001b[0m in \u001b[0;36m<module>\u001b[1;34m()\u001b[0m\n\u001b[0;32m      2\u001b[0m \u001b[0mscenario_baseline\u001b[0m \u001b[1;33m=\u001b[0m \u001b[0mconfig\u001b[0m\u001b[1;33m.\u001b[0m\u001b[0mplots_scenario_comparisons\u001b[0m\u001b[1;33m.\u001b[0m\u001b[0mbase_scenario\u001b[0m\u001b[1;33m\u001b[0m\u001b[0m\n\u001b[0;32m      3\u001b[0m \u001b[1;33m\u001b[0m\u001b[0m\n\u001b[1;32m----> 4\u001b[1;33m \u001b[0mscenarios_names\u001b[0m \u001b[1;33m=\u001b[0m \u001b[1;33m[\u001b[0m\u001b[0mscenario_baseline\u001b[0m\u001b[1;33m]\u001b[0m \u001b[1;33m+\u001b[0m \u001b[0mconfig\u001b[0m\u001b[1;33m.\u001b[0m\u001b[0mplots_scenario_comparisons\u001b[0m\u001b[1;33m.\u001b[0m\u001b[0mscenarios\u001b[0m\u001b[1;33m\u001b[0m\u001b[0m\n\u001b[0m\u001b[0;32m      5\u001b[0m \u001b[0mnetwork_type\u001b[0m \u001b[1;33m=\u001b[0m \u001b[0mconfig\u001b[0m\u001b[1;33m.\u001b[0m\u001b[0mplots_scenario_comparisons\u001b[0m\u001b[1;33m.\u001b[0m\u001b[0mnetwork_type\u001b[0m\u001b[1;33m\u001b[0m\u001b[0m\n\u001b[0;32m      6\u001b[0m \u001b[1;33m\u001b[0m\u001b[0m\n",
      "\u001b[1;32mc:\\users\\darthoma\\documents\\github\\cityenergyanalyst\\cea\\config.py\u001b[0m in \u001b[0;36m__getattr__\u001b[1;34m(self, item)\u001b[0m\n\u001b[0;32m    231\u001b[0m                 raise AttributeError(\n\u001b[0;32m    232\u001b[0m                     \"Parameter not configured to work with this script: {%s}\" % self.parameters[cid].fqname)\n\u001b[1;32m--> 233\u001b[1;33m             \u001b[1;32mreturn\u001b[0m \u001b[0mself\u001b[0m\u001b[1;33m.\u001b[0m\u001b[0mparameters\u001b[0m\u001b[1;33m[\u001b[0m\u001b[0mcid\u001b[0m\u001b[1;33m]\u001b[0m\u001b[1;33m.\u001b[0m\u001b[0mget\u001b[0m\u001b[1;33m(\u001b[0m\u001b[1;33m)\u001b[0m\u001b[1;33m\u001b[0m\u001b[0m\n\u001b[0m\u001b[0;32m    234\u001b[0m         \u001b[1;32melse\u001b[0m\u001b[1;33m:\u001b[0m\u001b[1;33m\u001b[0m\u001b[0m\n\u001b[0;32m    235\u001b[0m             \u001b[1;32mraise\u001b[0m \u001b[0mAttributeError\u001b[0m\u001b[1;33m(\u001b[0m\u001b[1;34m\"Parameter not found: %s\"\u001b[0m \u001b[1;33m%\u001b[0m \u001b[0mitem\u001b[0m\u001b[1;33m)\u001b[0m\u001b[1;33m\u001b[0m\u001b[0m\n",
      "\u001b[1;32mc:\\users\\darthoma\\documents\\github\\cityenergyanalyst\\cea\\config.py\u001b[0m in \u001b[0;36mget\u001b[1;34m(self)\u001b[0m\n\u001b[0;32m    331\u001b[0m         \u001b[0mencoded_value\u001b[0m \u001b[1;33m=\u001b[0m \u001b[0mself\u001b[0m\u001b[1;33m.\u001b[0m\u001b[0mreplace_references\u001b[0m\u001b[1;33m(\u001b[0m\u001b[0mencoded_value\u001b[0m\u001b[1;33m)\u001b[0m\u001b[1;33m\u001b[0m\u001b[0m\n\u001b[0;32m    332\u001b[0m         \u001b[1;32mtry\u001b[0m\u001b[1;33m:\u001b[0m\u001b[1;33m\u001b[0m\u001b[0m\n\u001b[1;32m--> 333\u001b[1;33m             \u001b[1;32mreturn\u001b[0m \u001b[0mself\u001b[0m\u001b[1;33m.\u001b[0m\u001b[0mdecode\u001b[0m\u001b[1;33m(\u001b[0m\u001b[0mencoded_value\u001b[0m\u001b[1;33m)\u001b[0m\u001b[1;33m\u001b[0m\u001b[0m\n\u001b[0m\u001b[0;32m    334\u001b[0m         \u001b[1;32mexcept\u001b[0m \u001b[0mValueError\u001b[0m \u001b[1;32mas\u001b[0m \u001b[0mex\u001b[0m\u001b[1;33m:\u001b[0m\u001b[1;33m\u001b[0m\u001b[0m\n\u001b[0;32m    335\u001b[0m             \u001b[1;32mraise\u001b[0m \u001b[0mValueError\u001b[0m\u001b[1;33m(\u001b[0m\u001b[1;34m'%s:%s - %s'\u001b[0m \u001b[1;33m%\u001b[0m \u001b[1;33m(\u001b[0m\u001b[0mself\u001b[0m\u001b[1;33m.\u001b[0m\u001b[0msection\u001b[0m\u001b[1;33m.\u001b[0m\u001b[0mname\u001b[0m\u001b[1;33m,\u001b[0m \u001b[0mself\u001b[0m\u001b[1;33m.\u001b[0m\u001b[0mname\u001b[0m\u001b[1;33m,\u001b[0m \u001b[0mex\u001b[0m\u001b[1;33m.\u001b[0m\u001b[0mmessage\u001b[0m\u001b[1;33m)\u001b[0m\u001b[1;33m)\u001b[0m\u001b[1;33m\u001b[0m\u001b[0m\n",
      "\u001b[1;32mc:\\users\\darthoma\\documents\\github\\cityenergyanalyst\\cea\\config.py\u001b[0m in \u001b[0;36mdecode\u001b[1;34m(self, value)\u001b[0m\n\u001b[0;32m    621\u001b[0m     \u001b[1;32mdef\u001b[0m \u001b[0mdecode\u001b[0m\u001b[1;33m(\u001b[0m\u001b[0mself\u001b[0m\u001b[1;33m,\u001b[0m \u001b[0mvalue\u001b[0m\u001b[1;33m)\u001b[0m\u001b[1;33m:\u001b[0m\u001b[1;33m\u001b[0m\u001b[0m\n\u001b[0;32m    622\u001b[0m         \u001b[0mvalue\u001b[0m \u001b[1;33m=\u001b[0m \u001b[0msuper\u001b[0m\u001b[1;33m(\u001b[0m\u001b[0mOptimizationIndividualListParameter\u001b[0m\u001b[1;33m,\u001b[0m \u001b[0mself\u001b[0m\u001b[1;33m)\u001b[0m\u001b[1;33m.\u001b[0m\u001b[0mdecode\u001b[0m\u001b[1;33m(\u001b[0m\u001b[0mvalue\u001b[0m\u001b[1;33m)\u001b[0m\u001b[1;33m\u001b[0m\u001b[0m\n\u001b[1;32m--> 623\u001b[1;33m         \u001b[1;32mreturn\u001b[0m \u001b[1;33m[\u001b[0m\u001b[0mOptimizationIndividualParameter\u001b[0m\u001b[1;33m.\u001b[0m\u001b[0mdecode\u001b[0m\u001b[1;33m(\u001b[0m\u001b[0mNone\u001b[0m\u001b[1;33m,\u001b[0m \u001b[0mv\u001b[0m\u001b[1;33m)\u001b[0m \u001b[1;32mfor\u001b[0m \u001b[0mv\u001b[0m \u001b[1;32min\u001b[0m \u001b[0mvalue\u001b[0m\u001b[1;33m]\u001b[0m\u001b[1;33m\u001b[0m\u001b[0m\n\u001b[0m\u001b[0;32m    624\u001b[0m \u001b[1;33m\u001b[0m\u001b[0m\n\u001b[0;32m    625\u001b[0m \u001b[1;33m\u001b[0m\u001b[0m\n",
      "\u001b[1;31mTypeError\u001b[0m: unbound method decode() must be called with OptimizationIndividualParameter instance as first argument (got NoneType instance instead)"
     ]
    }
   ],
   "source": [
    "project = config.plots_scenario_comparisons.project\n",
    "scenario_baseline = config.plots_scenario_comparisons.base_scenario\n",
    "\n",
    "scenarios_names = [scenario_baseline] + config.plots_scenario_comparisons.scenarios\n",
    "network_type = config.plots_scenario_comparisons.network_type\n",
    "\n",
    "generation_base = scenario_baseline[1]\n",
    "individual_base = scenario_baseline[2]\n",
    "\n",
    "scenario_base_path = os.path.join(project, scenario_baseline[0])\n",
    "scenarios_path = [os.path.join(project, scenario[0]) for scenario in\n",
    "                  config.plots_scenario_comparisons.scenarios]\n"
   ]
  },
  {
   "cell_type": "code",
   "execution_count": 28,
   "metadata": {},
   "outputs": [
    {
     "data": {
      "text/plain": [
       "['baseline|1|ind1', 'baseline|1|ind2']"
      ]
     },
     "execution_count": 28,
     "metadata": {},
     "output_type": "execute_result"
    }
   ],
   "source": [
    "config.plots_scenario_comparisons.scenarios"
   ]
  },
  {
   "cell_type": "code",
   "execution_count": 26,
   "metadata": {},
   "outputs": [
    {
     "ename": "IOError",
     "evalue": "[Errno 2] No such file or directory: 'C:\\\\reference-case-cooling\\\\b\\\\outputs\\\\data\\\\optimization\\\\master\\\\CheckPoint_a'",
     "output_type": "error",
     "traceback": [
      "\u001b[1;31m---------------------------------------------------------------------------\u001b[0m",
      "\u001b[1;31mIOError\u001b[0m                                   Traceback (most recent call last)",
      "\u001b[1;32m<ipython-input-26-dbc6e5c7fdc8>\u001b[0m in \u001b[0;36m<module>\u001b[1;34m()\u001b[0m\n\u001b[0;32m      7\u001b[0m \u001b[1;33m\u001b[0m\u001b[0m\n\u001b[0;32m      8\u001b[0m generation_pointers, individual_pointers = pointers_all_scenarios(generations, individuals, [\n\u001b[1;32m----> 9\u001b[1;33m     scenario_base_path] + scenarios_path)  # initialize class\n\u001b[0m\u001b[0;32m     10\u001b[0m \u001b[0mcategory\u001b[0m \u001b[1;33m=\u001b[0m \u001b[1;34m\"comparisons\"\u001b[0m\u001b[1;33m\u001b[0m\u001b[0m\n",
      "\u001b[1;32m<ipython-input-21-0094ef3e2f23>\u001b[0m in \u001b[0;36mpointers_all_scenarios\u001b[1;34m(generations, individuals, scenarios_path)\u001b[0m\n\u001b[0;32m     25\u001b[0m             \u001b[0mlocator\u001b[0m \u001b[1;33m=\u001b[0m \u001b[0mcea\u001b[0m\u001b[1;33m.\u001b[0m\u001b[0minputlocator\u001b[0m\u001b[1;33m.\u001b[0m\u001b[0mInputLocator\u001b[0m\u001b[1;33m(\u001b[0m\u001b[0mscenario_path\u001b[0m\u001b[1;33m)\u001b[0m\u001b[1;33m\u001b[0m\u001b[0m\n\u001b[0;32m     26\u001b[0m             pointer_gen, pointer_ind = get_pointers_to_correct_individual_generation(generation,\n\u001b[1;32m---> 27\u001b[1;33m                                                                                      individual, locator)\n\u001b[0m\u001b[0;32m     28\u001b[0m         \u001b[0mgeneration_pointers\u001b[0m\u001b[1;33m.\u001b[0m\u001b[0mappend\u001b[0m\u001b[1;33m(\u001b[0m\u001b[0mpointer_gen\u001b[0m\u001b[1;33m)\u001b[0m\u001b[1;33m\u001b[0m\u001b[0m\n\u001b[0;32m     29\u001b[0m         \u001b[0mindividual_pointers\u001b[0m\u001b[1;33m.\u001b[0m\u001b[0mappend\u001b[0m\u001b[1;33m(\u001b[0m\u001b[0mpointer_ind\u001b[0m\u001b[1;33m)\u001b[0m\u001b[1;33m\u001b[0m\u001b[0m\n",
      "\u001b[1;32mc:\\users\\darthoma\\documents\\github\\cityenergyanalyst\\cea\\analysis\\multicriteria\\optimization_post_processing\\locating_individuals_in_generation_script.pyc\u001b[0m in \u001b[0;36mget_pointers_to_correct_individual_generation\u001b[1;34m(generation, individual, locator)\u001b[0m\n\u001b[0;32m     43\u001b[0m     \"\"\"\n\u001b[0;32m     44\u001b[0m     \u001b[1;32mif\u001b[0m \u001b[1;32mnot\u001b[0m \u001b[0mos\u001b[0m\u001b[1;33m.\u001b[0m\u001b[0mpath\u001b[0m\u001b[1;33m.\u001b[0m\u001b[0mexists\u001b[0m\u001b[1;33m(\u001b[0m\u001b[0mlocator\u001b[0m\u001b[1;33m.\u001b[0m\u001b[0mget_address_of_individuals_of_a_generation\u001b[0m\u001b[1;33m(\u001b[0m\u001b[0mgeneration\u001b[0m\u001b[1;33m)\u001b[0m\u001b[1;33m)\u001b[0m\u001b[1;33m:\u001b[0m\u001b[1;33m\u001b[0m\u001b[0m\n\u001b[1;32m---> 45\u001b[1;33m         \u001b[0mdata_address\u001b[0m \u001b[1;33m=\u001b[0m \u001b[0mlocating_individuals_in_generation_script\u001b[0m\u001b[1;33m(\u001b[0m\u001b[0mgeneration\u001b[0m\u001b[1;33m,\u001b[0m \u001b[0mlocator\u001b[0m\u001b[1;33m)\u001b[0m\u001b[1;33m\u001b[0m\u001b[0m\n\u001b[0m\u001b[0;32m     46\u001b[0m     \u001b[1;32melse\u001b[0m\u001b[1;33m:\u001b[0m\u001b[1;33m\u001b[0m\u001b[0m\n\u001b[0;32m     47\u001b[0m         \u001b[0mdata_address\u001b[0m \u001b[1;33m=\u001b[0m \u001b[0mpd\u001b[0m\u001b[1;33m.\u001b[0m\u001b[0mread_csv\u001b[0m\u001b[1;33m(\u001b[0m\u001b[0mlocator\u001b[0m\u001b[1;33m.\u001b[0m\u001b[0mget_address_of_individuals_of_a_generation\u001b[0m\u001b[1;33m(\u001b[0m\u001b[0mgeneration\u001b[0m\u001b[1;33m)\u001b[0m\u001b[1;33m)\u001b[0m\u001b[1;33m\u001b[0m\u001b[0m\n",
      "\u001b[1;32mc:\\users\\darthoma\\documents\\github\\cityenergyanalyst\\cea\\analysis\\multicriteria\\optimization_post_processing\\locating_individuals_in_generation_script.pyc\u001b[0m in \u001b[0;36mlocating_individuals_in_generation_script\u001b[1;34m(generation, locator)\u001b[0m\n\u001b[0;32m     56\u001b[0m \u001b[1;33m\u001b[0m\u001b[0m\n\u001b[0;32m     57\u001b[0m \u001b[1;32mdef\u001b[0m \u001b[0mlocating_individuals_in_generation_script\u001b[0m\u001b[1;33m(\u001b[0m\u001b[0mgeneration\u001b[0m\u001b[1;33m,\u001b[0m \u001b[0mlocator\u001b[0m\u001b[1;33m)\u001b[0m\u001b[1;33m:\u001b[0m\u001b[1;33m\u001b[0m\u001b[0m\n\u001b[1;32m---> 58\u001b[1;33m     \u001b[0mdata_generation\u001b[0m \u001b[1;33m=\u001b[0m \u001b[0mpreprocessing_generations_data\u001b[0m\u001b[1;33m(\u001b[0m\u001b[0mlocator\u001b[0m\u001b[1;33m,\u001b[0m \u001b[0mgeneration\u001b[0m\u001b[1;33m)\u001b[0m\u001b[1;33m\u001b[0m\u001b[0m\n\u001b[0m\u001b[0;32m     59\u001b[0m \u001b[1;33m\u001b[0m\u001b[0m\n\u001b[0;32m     60\u001b[0m     \u001b[0mindividual_list\u001b[0m \u001b[1;33m=\u001b[0m \u001b[0mdata_generation\u001b[0m\u001b[1;33m[\u001b[0m\u001b[1;34m'final_generation'\u001b[0m\u001b[1;33m]\u001b[0m\u001b[1;33m[\u001b[0m\u001b[1;34m'individual_barcode'\u001b[0m\u001b[1;33m]\u001b[0m\u001b[1;33m.\u001b[0m\u001b[0maxes\u001b[0m\u001b[1;33m[\u001b[0m\u001b[1;36m0\u001b[0m\u001b[1;33m]\u001b[0m\u001b[1;33m\u001b[0m\u001b[0m\n",
      "\u001b[1;32mc:\\users\\darthoma\\documents\\github\\cityenergyanalyst\\cea\\analysis\\multicriteria\\optimization_post_processing\\locating_individuals_in_generation_script.pyc\u001b[0m in \u001b[0;36mpreprocessing_generations_data\u001b[1;34m(locator, generations)\u001b[0m\n\u001b[0;32m    133\u001b[0m \u001b[1;33m\u001b[0m\u001b[0m\n\u001b[0;32m    134\u001b[0m     \u001b[0mdata_processed\u001b[0m \u001b[1;33m=\u001b[0m \u001b[1;33m[\u001b[0m\u001b[1;33m]\u001b[0m\u001b[1;33m\u001b[0m\u001b[0m\n\u001b[1;32m--> 135\u001b[1;33m     \u001b[1;32mwith\u001b[0m \u001b[0mopen\u001b[0m\u001b[1;33m(\u001b[0m\u001b[0mlocator\u001b[0m\u001b[1;33m.\u001b[0m\u001b[0mget_optimization_checkpoint\u001b[0m\u001b[1;33m(\u001b[0m\u001b[0mgenerations\u001b[0m\u001b[1;33m)\u001b[0m\u001b[1;33m,\u001b[0m \u001b[1;34m\"rb\"\u001b[0m\u001b[1;33m)\u001b[0m \u001b[1;32mas\u001b[0m \u001b[0mfp\u001b[0m\u001b[1;33m:\u001b[0m\u001b[1;33m\u001b[0m\u001b[0m\n\u001b[0m\u001b[0;32m    136\u001b[0m         \u001b[0mdata\u001b[0m \u001b[1;33m=\u001b[0m \u001b[0mjson\u001b[0m\u001b[1;33m.\u001b[0m\u001b[0mload\u001b[0m\u001b[1;33m(\u001b[0m\u001b[0mfp\u001b[0m\u001b[1;33m)\u001b[0m\u001b[1;33m\u001b[0m\u001b[0m\n\u001b[0;32m    137\u001b[0m     \u001b[1;31m# get lists of data for performance values of the population\u001b[0m\u001b[1;33m\u001b[0m\u001b[1;33m\u001b[0m\u001b[0m\n",
      "\u001b[1;31mIOError\u001b[0m: [Errno 2] No such file or directory: 'C:\\\\reference-case-cooling\\\\b\\\\outputs\\\\data\\\\optimization\\\\master\\\\CheckPoint_a'"
     ]
    }
   ],
   "source": [
    "# scenarios = [[scenario_baseline]+ config.plots_scenario_comparisons.scenarios]\n",
    "generations = [generation_base] + [scenario[1]\n",
    "                                   for scenario in config.plots_scenario_comparisons.scenarios]\n",
    "individuals = [individual_base] + [scenario[2]\n",
    "                                   for scenario in config.plots_scenario_comparisons.scenarios]\n",
    "categories = config.plots_scenario_comparisons.categories\n",
    "\n",
    "generation_pointers, individual_pointers = pointers_all_scenarios(generations, individuals, [\n",
    "    scenario_base_path] + scenarios_path)  # initialize class\n",
    "category = \"comparisons\""
   ]
  },
  {
   "cell_type": "code",
   "execution_count": 21,
   "metadata": {},
   "outputs": [],
   "source": [
    "# adaptation of the function `cea.plots.comparisons.main.Plots#preprocessing_demand_scenarios`\n",
    "def preprocessing_demand_scenarios(self):\n",
    "    data_processed = pd.DataFrame()\n",
    "    scenarios_clean = []\n",
    "    for i, scenario_name in enumerate(self.scenarios_names):\n",
    "        if scenario_name in scenarios_clean:\n",
    "            scenario_name = scenario_name + \"_duplicated_\" + str(i)\n",
    "        scenarios_clean.append(scenario_name)\n",
    "\n",
    "    for scenario, scenario_name in zip(self.scenarios, scenarios_clean):\n",
    "        locator = cea.inputlocator.InputLocator(scenario)\n",
    "        data_raw = (pd.read_csv(locator.get_total_demand())[self.analysis_fields_demand + [\"GFA_m2\"]]).sum(axis=0)\n",
    "        data_raw_df = pd.DataFrame({scenario_name: data_raw}, index=data_raw.index).T\n",
    "        data_processed = data_processed.append(data_raw_df)\n",
    "    return data_processed\n",
    "\n",
    "def pointers_all_scenarios(generations, individuals, scenarios_path):\n",
    "    generation_pointers = []\n",
    "    individual_pointers = []\n",
    "    for scenario_path, generation, individual in zip(scenarios_path, generations, individuals):\n",
    "        if generation is None or individual is None:\n",
    "            pointer_gen = \"none\"\n",
    "            pointer_ind = \"none\"\n",
    "        else:\n",
    "            locator = cea.inputlocator.InputLocator(scenario_path)\n",
    "            pointer_gen, pointer_ind = get_pointers_to_correct_individual_generation(generation,\n",
    "                                                                                     individual, locator)\n",
    "        generation_pointers.append(pointer_gen)\n",
    "        individual_pointers.append(pointer_ind)\n",
    "    return generation_pointers, individual_pointers"
   ]
  },
  {
   "cell_type": "code",
   "execution_count": 6,
   "metadata": {},
   "outputs": [
    {
     "ename": "AttributeError",
     "evalue": "'NoneType' object has no attribute 'scenarios_names'",
     "output_type": "error",
     "traceback": [
      "\u001b[1;31m---------------------------------------------------------------------------\u001b[0m",
      "\u001b[1;31mAttributeError\u001b[0m                            Traceback (most recent call last)",
      "\u001b[1;32m<ipython-input-6-f7992403b384>\u001b[0m in \u001b[0;36m<module>\u001b[1;34m()\u001b[0m\n\u001b[1;32m----> 1\u001b[1;33m \u001b[0mpreprocessing_demand_scenarios\u001b[0m\u001b[1;33m(\u001b[0m\u001b[0mNone\u001b[0m\u001b[1;33m)\u001b[0m\u001b[1;33m\u001b[0m\u001b[0m\n\u001b[0m",
      "\u001b[1;32m<ipython-input-5-bf1859ed559c>\u001b[0m in \u001b[0;36mpreprocessing_demand_scenarios\u001b[1;34m(self)\u001b[0m\n\u001b[0;32m      3\u001b[0m     \u001b[0mdata_processed\u001b[0m \u001b[1;33m=\u001b[0m \u001b[0mpd\u001b[0m\u001b[1;33m.\u001b[0m\u001b[0mDataFrame\u001b[0m\u001b[1;33m(\u001b[0m\u001b[1;33m)\u001b[0m\u001b[1;33m\u001b[0m\u001b[0m\n\u001b[0;32m      4\u001b[0m     \u001b[0mscenarios_clean\u001b[0m \u001b[1;33m=\u001b[0m \u001b[1;33m[\u001b[0m\u001b[1;33m]\u001b[0m\u001b[1;33m\u001b[0m\u001b[0m\n\u001b[1;32m----> 5\u001b[1;33m     \u001b[1;32mfor\u001b[0m \u001b[0mi\u001b[0m\u001b[1;33m,\u001b[0m \u001b[0mscenario_name\u001b[0m \u001b[1;32min\u001b[0m \u001b[0menumerate\u001b[0m\u001b[1;33m(\u001b[0m\u001b[0mself\u001b[0m\u001b[1;33m.\u001b[0m\u001b[0mscenarios_names\u001b[0m\u001b[1;33m)\u001b[0m\u001b[1;33m:\u001b[0m\u001b[1;33m\u001b[0m\u001b[0m\n\u001b[0m\u001b[0;32m      6\u001b[0m         \u001b[1;32mif\u001b[0m \u001b[0mscenario_name\u001b[0m \u001b[1;32min\u001b[0m \u001b[0mscenarios_clean\u001b[0m\u001b[1;33m:\u001b[0m\u001b[1;33m\u001b[0m\u001b[0m\n\u001b[0;32m      7\u001b[0m             \u001b[0mscenario_name\u001b[0m \u001b[1;33m=\u001b[0m \u001b[0mscenario_name\u001b[0m \u001b[1;33m+\u001b[0m \u001b[1;34m\"_duplicated_\"\u001b[0m \u001b[1;33m+\u001b[0m \u001b[0mstr\u001b[0m\u001b[1;33m(\u001b[0m\u001b[0mi\u001b[0m\u001b[1;33m)\u001b[0m\u001b[1;33m\u001b[0m\u001b[0m\n",
      "\u001b[1;31mAttributeError\u001b[0m: 'NoneType' object has no attribute 'scenarios_names'"
     ]
    }
   ],
   "source": [
    "preprocessing_demand_scenarios(None)"
   ]
  },
  {
   "cell_type": "code",
   "execution_count": 12,
   "metadata": {},
   "outputs": [
    {
     "data": {
      "text/plain": [
       "['C:\\\\reference-case-cooling\\\\baseline/1/ind1',\n",
       " 'C:\\\\reference-case-cooling\\\\baseline/1/ind2']"
      ]
     },
     "execution_count": 12,
     "metadata": {},
     "output_type": "execute_result"
    }
   ],
   "source": [
    "config.plots_scenario_comparisons.scenarios"
   ]
  },
  {
   "cell_type": "code",
   "execution_count": 9,
   "metadata": {},
   "outputs": [
    {
     "data": {
      "text/plain": [
       "'C:\\\\reference-case-cooling\\\\baseline'"
      ]
     },
     "execution_count": 9,
     "metadata": {},
     "output_type": "execute_result"
    }
   ],
   "source": [
    "config.plots_scenario_comparisons.base_scenario"
   ]
  },
  {
   "cell_type": "code",
   "execution_count": null,
   "metadata": {},
   "outputs": [],
   "source": []
  }
 ],
 "metadata": {
  "kernelspec": {
   "display_name": "Python 2",
   "language": "python",
   "name": "python2"
  },
  "language_info": {
   "codemirror_mode": {
    "name": "ipython",
    "version": 2
   },
   "file_extension": ".py",
   "mimetype": "text/x-python",
   "name": "python",
   "nbconvert_exporter": "python",
   "pygments_lexer": "ipython2",
   "version": "2.7.15"
  }
 },
 "nbformat": 4,
 "nbformat_minor": 2
}
