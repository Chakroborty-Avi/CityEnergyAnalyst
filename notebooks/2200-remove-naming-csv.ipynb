{
 "cells": [
  {
   "cell_type": "markdown",
   "metadata": {},
   "source": [
    "# 2200 - remove naming.csv\n",
    "\n",
    "This notebook compares the `naming.csv` file and the `glossary.csv` file to make sure no changes in `naming.csv` are forgotton when switching to `glossary.csv`.\n",
    "\n",
    "Each of the code blocks below is supposed to be silent or produce the information to fix the error."
   ]
  },
  {
   "cell_type": "code",
   "execution_count": 16,
   "metadata": {},
   "outputs": [],
   "source": [
    "import cea\n",
    "import csv\n",
    "import os\n",
    "from collections import Counter, defaultdict\n",
    "\n",
    "CEA_SOURCE = os.path.dirname(cea.__file__)\n",
    "GLOSSARY_CSV = os.path.join(CEA_SOURCE, \"glossary.csv\")\n",
    "NAMING_CSV = os.path.join(CEA_SOURCE, \"plots\", \"naming.csv\")\n",
    "\n",
    "assert os.path.exists(GLOSSARY_CSV), \"Could not find glossary.csv\"\n",
    "assert os.path.exists(NAMING_CSV), \"Could not find naming.csv\""
   ]
  },
  {
   "cell_type": "markdown",
   "metadata": {},
   "source": [
    "## Make sure variable names are unique"
   ]
  },
  {
   "cell_type": "code",
   "execution_count": 17,
   "metadata": {},
   "outputs": [],
   "source": [
    "# first check naming.csv\n",
    "with open(NAMING_CSV) as naming_csv:\n",
    "    naming_variables = Counter([row[\"VARIABLE\"] for row in csv.DictReader(naming_csv)])\n",
    "    \n",
    "for variable, count in naming_variables.items():\n",
    "    assert count == 1, \"Multiple definitions of variable {variable} in naming.csv\".format(variable=variable)"
   ]
  },
  {
   "cell_type": "code",
   "execution_count": 18,
   "metadata": {},
   "outputs": [],
   "source": [
    "# next check glossary.csv - NOTE: we allow multiple definitions here, but they must aggree in these fields:\n",
    "#    [DESCRIPTION, UNIT, VALUES, TYPE, COLOR]\n",
    "# and must be unique per (FILE_NAME, VARIABLE)\n",
    "with open(GLOSSARY_CSV) as glossary_csv:\n",
    "    glossary_variables = Counter([(row[\"FILE_NAME\"], row[\"VARIABLE\"]) for row in csv.DictReader(glossary_csv)])\n",
    "    \n",
    "for variable, count in glossary_variables.items():\n",
    "    assert count == 1, \"Multiple definitions of variable {variable} in glossary.csv\".format(variable=variable)"
   ]
  },
  {
   "cell_type": "code",
   "execution_count": 19,
   "metadata": {},
   "outputs": [],
   "source": [
    "# actually, the description etc. only needs to agree if the variable is currently part of the NAMING_CSV (plots)\n",
    "with open(GLOSSARY_CSV) as glossary_csv:\n",
    "    reader = csv.DictReader(glossary_csv)\n",
    "    \n",
    "    glossary_variables = {}  # variable -> {DESCRIPTION, UNIT, VALUES, TYPE, COLOR}\n",
    "    for row in reader:\n",
    "        if row[\"VARIABLE\"] in glossary_variables:\n",
    "            prev = glossary_variables[row[\"VARIABLE\"]]\n",
    "            for field in [\"DESCRIPTION\", \"UNIT\", \"VALUES\", \"TYPE\", \"COLOR\"]:\n",
    "                if not row[\"VARIABLE\"] in naming_variables:\n",
    "                    # skip variables not used by plots\n",
    "                    continue                \n",
    "                assert row[field] == prev[field], \"{variable} differs in field {field}:  {prev} -- {row}\".format(\n",
    "                    variable=row[\"VARIABLE\"], field=field, row=row[field], prev=prev[field])\n",
    "        glossary_variables[row[\"VARIABLE\"]] = row"
   ]
  },
  {
   "cell_type": "markdown",
   "metadata": {},
   "source": [
    "## Make sure file names in glossary.csv are the same for each locator method\n",
    "\n",
    "(take into account that the FILE_NAME column also indicates Excel worksheet names)"
   ]
  },
  {
   "cell_type": "code",
   "execution_count": 20,
   "metadata": {},
   "outputs": [],
   "source": [
    "locator_files = defaultdict(set)\n",
    "with open(GLOSSARY_CSV) as glossary_csv:\n",
    "    reader = csv.DictReader(glossary_csv)\n",
    "    for row in reader:\n",
    "        file_name = row[\"FILE_NAME\"].split(\":\")[0]\n",
    "        locator_files[row[\"LOCATOR_METHOD\"]].add(file_name)\n",
    "for locator_method in locator_files.keys():\n",
    "    assert len(locator_files[locator_method]) == 1, \"{}: {}\".format(locator_method, locator_files[locator_method])"
   ]
  },
  {
   "cell_type": "markdown",
   "metadata": {},
   "source": [
    "## Make sure description for variables are the same"
   ]
  },
  {
   "cell_type": "code",
   "execution_count": 9,
   "metadata": {},
   "outputs": [
    {
     "ename": "AssertionError",
     "evalue": "Could not find variable in glossary.csv: E_cs_cre_cdata_req_connected_W",
     "output_type": "error",
     "traceback": [
      "\u001b[1;31m---------------------------------------------------------------------------\u001b[0m",
      "\u001b[1;31mAssertionError\u001b[0m                            Traceback (most recent call last)",
      "\u001b[1;32m<ipython-input-9-f6bd8b03f572>\u001b[0m in \u001b[0;36m<module>\u001b[1;34m()\u001b[0m\n\u001b[0;32m      6\u001b[0m \u001b[1;33m\u001b[0m\u001b[0m\n\u001b[0;32m      7\u001b[0m \u001b[1;32mfor\u001b[0m \u001b[0mvariable\u001b[0m \u001b[1;32min\u001b[0m \u001b[0mnaming\u001b[0m\u001b[1;33m.\u001b[0m\u001b[0mkeys\u001b[0m\u001b[1;33m(\u001b[0m\u001b[1;33m)\u001b[0m\u001b[1;33m:\u001b[0m\u001b[1;33m\u001b[0m\u001b[0m\n\u001b[1;32m----> 8\u001b[1;33m     \u001b[1;32massert\u001b[0m \u001b[0mvariable\u001b[0m \u001b[1;32min\u001b[0m \u001b[0mglossary\u001b[0m\u001b[1;33m,\u001b[0m \u001b[1;34m\"Could not find variable in glossary.csv: {}\"\u001b[0m\u001b[1;33m.\u001b[0m\u001b[0mformat\u001b[0m\u001b[1;33m(\u001b[0m\u001b[0mvariable\u001b[0m\u001b[1;33m)\u001b[0m\u001b[1;33m\u001b[0m\u001b[0m\n\u001b[0m\u001b[0;32m      9\u001b[0m     assert glossary[variable] == naming[variable], \"Definitions don't match: {variable}, {naming} != {glossary}\".format(\n\u001b[0;32m     10\u001b[0m         variable=variable, naming=naming[variable], glossary=glossary[variable])\n",
      "\u001b[1;31mAssertionError\u001b[0m: Could not find variable in glossary.csv: E_cs_cre_cdata_req_connected_W"
     ]
    }
   ],
   "source": [
    "with open(NAMING_CSV) as naming_csv:\n",
    "    naming = {row['VARIABLE']: row['SHORT_DESCRIPTION'] for row in csv.DictReader(naming_csv)}\n",
    "    \n",
    "with open(GLOSSARY_CSV) as glossary_csv:\n",
    "    glossary = {row[\"VARIABLE\"]: row[\"DESCRIPTION\"] for row in csv.DictReader(glossary_csv)}\n",
    "    \n",
    "for variable in naming.keys():\n",
    "    assert variable in glossary, \"Could not find variable in glossary.csv: {}\".format(variable)\n",
    "    assert glossary[variable] == naming[variable], \"Definitions don't match: {variable}, {naming} != {glossary}\".format(\n",
    "        variable=variable, naming=naming[variable], glossary=glossary[variable])"
   ]
  },
  {
   "cell_type": "code",
   "execution_count": null,
   "metadata": {},
   "outputs": [],
   "source": [
    "# NOTE: I'm stuck, because I don't have trace-inputlocator data for the optimization..."
   ]
  }
 ],
 "metadata": {
  "kernelspec": {
   "display_name": "Python 2",
   "language": "python",
   "name": "python2"
  },
  "language_info": {
   "codemirror_mode": {
    "name": "ipython",
    "version": 2
   },
   "file_extension": ".py",
   "mimetype": "text/x-python",
   "name": "python",
   "nbconvert_exporter": "python",
   "pygments_lexer": "ipython2",
   "version": "2.7.15"
  }
 },
 "nbformat": 4,
 "nbformat_minor": 2
}
