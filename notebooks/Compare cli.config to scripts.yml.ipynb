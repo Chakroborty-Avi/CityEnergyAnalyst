{
 "cells": [
  {
   "cell_type": "code",
   "execution_count": 23,
   "metadata": {},
   "outputs": [],
   "source": [
    "import ConfigParser\n",
    "import cea.scripts"
   ]
  },
  {
   "cell_type": "code",
   "execution_count": 24,
   "metadata": {},
   "outputs": [],
   "source": [
    "CLI_CONFIG = r\"C:\\Users\\darthoma\\Documents\\GitHub\\CityEnergyAnalyst\\cea\\interfaces\\cli\\cli.config\""
   ]
  },
  {
   "cell_type": "code",
   "execution_count": 32,
   "metadata": {},
   "outputs": [
    {
     "data": {
      "text/plain": [
       "['C:\\\\Users\\\\darthoma\\\\Documents\\\\GitHub\\\\CityEnergyAnalyst\\\\cea\\\\interfaces\\\\cli\\\\cli.config']"
      ]
     },
     "execution_count": 32,
     "metadata": {},
     "output_type": "execute_result"
    }
   ],
   "source": [
    "cli_config = ConfigParser.ConfigParser()\n",
    "cli_config.read(CLI_CONFIG)"
   ]
  },
  {
   "cell_type": "code",
   "execution_count": 30,
   "metadata": {},
   "outputs": [],
   "source": [
    "# make sure each script in cli.config is in the scripts.yml\n",
    "reload(cea.scripts)\n",
    "for script, module_path in cli_config.items('scripts'):\n",
    "    cea_script = cea.scripts.by_name(script)    \n",
    "    assert cea_script.module == module_path, 'Module paths differ: %s != %s' % (module_path, cea_script.module)"
   ]
  },
  {
   "cell_type": "code",
   "execution_count": 37,
   "metadata": {},
   "outputs": [],
   "source": [
    "# make sure each script in cli.config has the same parameters as in scripts.yml\n",
    "reload(cea.scripts)\n",
    "for script, parameters in cli_config.items('config'):\n",
    "    cea_script = cea.scripts.by_name(script)\n",
    "    old_parameters = set(parameters.split())\n",
    "    new_parameters = set(cea_script.parameters)\n",
    "    assert old_parameters == new_parameters, 'Parameters for %s differ: %s != %s' % (script, old_parameters, new_parameters)"
   ]
  },
  {
   "cell_type": "code",
   "execution_count": null,
   "metadata": {},
   "outputs": [],
   "source": []
  }
 ],
 "metadata": {
  "kernelspec": {
   "display_name": "Python 2",
   "language": "python",
   "name": "python2"
  },
  "language_info": {
   "codemirror_mode": {
    "name": "ipython",
    "version": 2
   },
   "file_extension": ".py",
   "mimetype": "text/x-python",
   "name": "python",
   "nbconvert_exporter": "python",
   "pygments_lexer": "ipython2",
   "version": "2.7.13"
  }
 },
 "nbformat": 4,
 "nbformat_minor": 2
}
