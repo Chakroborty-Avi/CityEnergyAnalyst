{
 "cells": [
  {
   "cell_type": "markdown",
   "metadata": {},
   "source": "# Migration script\n\nMigrate the input databases from the 2.29 format to the 2.31.1 format.\n\nThis notebook assumes `SCENARIO_TO_MIGRATE` points to a scenario of Kleinalbis (which buildings?) in v2.29.0 format and `EXAMPLE_SCENARIO` to a scenario in v2.31.1 format. \n\nThese are the v2.29.0 format files to migrate:\n\n- shapefiles \n  - inputs/building-geometry/zone.shp... checked. no changes!\n  - inputs/building-geometry/site.shp... checked. no changes!\n  - inputs/building-geometry/surroundings.shp... checked. no changes!\n- inputs to archetypes-mapper\n  - inputs/building-properties/age.dbf\n  - inputs/building-properties/occupancy.dbf\n- outputs of archety\n- inputs/building-properties/air_conditioning_systems.dbf\n- inputs/building-properties/architecture.dbf\n- inputs/building-properties/indoor_comfort.dbf\n- inputs/building-properties/internal_loads.dbf\n- inputs/building-properties/supply_systems.dbf\n- inputs/building-properties/schedules/B*.csv\n\nAlso, remember, the inputs/technology folder also changed and the v2.31.1 format references these possibly differently."
  },
  {
   "cell_type": "code",
   "execution_count": 5,
   "metadata": {},
   "outputs": [],
   "source": "# Constants\nSCENARIO_TO_MIGRATE = r\"c:\\Users\\darthoma\\Documents\\CityEnergyAnalyst\\projects\\2.29.0\\kleinalbis\"\nEXAMPLE_SCENARIO = r\"c:\\Users\\darthoma\\Documents\\CityEnergyAnalyst\\projects\\working-with-databases\\kleinalbis\""
  },
  {
   "cell_type": "code",
   "execution_count": 22,
   "metadata": {},
   "outputs": [],
   "source": "import os\nimport cea\nimport geopandas\n\nimport cea.inputlocator\nfrom cea.utilities.dbf import dbf_to_dataframe"
  },
  {
   "cell_type": "code",
   "execution_count": 11,
   "metadata": {},
   "outputs": [],
   "source": "# we can't use the input locator for the v2.29.0 scenario, but we _can_ (and should) use it for v2.31.1.\nlocator = cea.inputlocator.InputLocator(scenario=EXAMPLE_SCENARIO)"
  },
  {
   "cell_type": "markdown",
   "metadata": {},
   "source": "## Migrate building-geometry files"
  },
  {
   "cell_type": "code",
   "execution_count": 13,
   "metadata": {},
   "outputs": [
    {
     "data": {
      "text/html": "<div>\n<style scoped>\n    .dataframe tbody tr th:only-of-type {\n        vertical-align: middle;\n    }\n\n    .dataframe tbody tr th {\n        vertical-align: top;\n    }\n\n    .dataframe thead th {\n        text-align: right;\n    }\n</style>\n<table border=\"1\" class=\"dataframe\">\n  <thead>\n    <tr style=\"text-align: right;\">\n      <th></th>\n      <th>Name</th>\n      <th>height_ag</th>\n      <th>floors_ag</th>\n      <th>height_bg</th>\n      <th>floors_bg</th>\n      <th>descriptio</th>\n      <th>category</th>\n      <th>REFERENCE</th>\n      <th>geometry</th>\n    </tr>\n  </thead>\n  <tbody>\n    <tr>\n      <th>0</th>\n      <td>B1000</td>\n      <td>9.0</td>\n      <td>3</td>\n      <td>3.0</td>\n      <td>1</td>\n      <td>FGZ-Siedlung 12: Kleinalbis II</td>\n      <td>house</td>\n      <td>OSM - as it is</td>\n      <td>POLYGON ((462732.2208216225 15245068.84431113,...</td>\n    </tr>\n    <tr>\n      <th>1</th>\n      <td>B1001</td>\n      <td>9.0</td>\n      <td>3</td>\n      <td>3.0</td>\n      <td>1</td>\n      <td>FGZ-Siedlung 12: Kleinalbis II</td>\n      <td>house</td>\n      <td>OSM - as it is</td>\n      <td>POLYGON ((462736.5184668251 15245045.1003448, ...</td>\n    </tr>\n    <tr>\n      <th>2</th>\n      <td>B1002</td>\n      <td>9.0</td>\n      <td>3</td>\n      <td>3.0</td>\n      <td>1</td>\n      <td>FGZ-Siedlung 12: Kleinalbis II</td>\n      <td>house</td>\n      <td>OSM - as it is</td>\n      <td>POLYGON ((462730.7804993654 15245054.87234257,...</td>\n    </tr>\n    <tr>\n      <th>3</th>\n      <td>B1003</td>\n      <td>9.0</td>\n      <td>3</td>\n      <td>3.0</td>\n      <td>1</td>\n      <td>FGZ-Siedlung 12: Kleinalbis II</td>\n      <td>house</td>\n      <td>OSM - as it is</td>\n      <td>POLYGON ((462743.7118557409 15245049.30022802,...</td>\n    </tr>\n    <tr>\n      <th>4</th>\n      <td>B1004</td>\n      <td>9.0</td>\n      <td>3</td>\n      <td>3.0</td>\n      <td>1</td>\n      <td>FGZ-Siedlung 12: Kleinalbis II</td>\n      <td>house</td>\n      <td>OSM - as it is</td>\n      <td>POLYGON ((462737.9663290229 15245059.07226665,...</td>\n    </tr>\n    <tr>\n      <th>5</th>\n      <td>B1005</td>\n      <td>9.0</td>\n      <td>3</td>\n      <td>3.0</td>\n      <td>1</td>\n      <td>FGZ-Siedlung 12: Kleinalbis II</td>\n      <td>house</td>\n      <td>OSM - as it is</td>\n      <td>POLYGON ((462732.2208216225 15245068.84431113,...</td>\n    </tr>\n  </tbody>\n</table>\n</div>",
      "text/plain": "    Name  height_ag  floors_ag  height_bg  floors_bg  \\\n0  B1000        9.0          3        3.0          1   \n1  B1001        9.0          3        3.0          1   \n2  B1002        9.0          3        3.0          1   \n3  B1003        9.0          3        3.0          1   \n4  B1004        9.0          3        3.0          1   \n5  B1005        9.0          3        3.0          1   \n\n                       descriptio category       REFERENCE  \\\n0  FGZ-Siedlung 12: Kleinalbis II    house  OSM - as it is   \n1  FGZ-Siedlung 12: Kleinalbis II    house  OSM - as it is   \n2  FGZ-Siedlung 12: Kleinalbis II    house  OSM - as it is   \n3  FGZ-Siedlung 12: Kleinalbis II    house  OSM - as it is   \n4  FGZ-Siedlung 12: Kleinalbis II    house  OSM - as it is   \n5  FGZ-Siedlung 12: Kleinalbis II    house  OSM - as it is   \n\n                                            geometry  \n0  POLYGON ((462732.2208216225 15245068.84431113,...  \n1  POLYGON ((462736.5184668251 15245045.1003448, ...  \n2  POLYGON ((462730.7804993654 15245054.87234257,...  \n3  POLYGON ((462743.7118557409 15245049.30022802,...  \n4  POLYGON ((462737.9663290229 15245059.07226665,...  \n5  POLYGON ((462732.2208216225 15245068.84431113,...  "
     },
     "execution_count": 13,
     "metadata": {},
     "output_type": "execute_result"
    }
   ],
   "source": "# let's first compare the two files (and practice reading/writing shape files)\nold_zone_shp = geopandas.GeoDataFrame.from_file(\n    os.path.join(SCENARIO_TO_MIGRATE, \"inputs\", \"building-geometry\", \"zone.shp\"))\nold_zone_shp"
  },
  {
   "cell_type": "code",
   "execution_count": 14,
   "metadata": {},
   "outputs": [
    {
     "data": {
      "text/html": "<div>\n<style scoped>\n    .dataframe tbody tr th:only-of-type {\n        vertical-align: middle;\n    }\n\n    .dataframe tbody tr th {\n        vertical-align: top;\n    }\n\n    .dataframe thead th {\n        text-align: right;\n    }\n</style>\n<table border=\"1\" class=\"dataframe\">\n  <thead>\n    <tr style=\"text-align: right;\">\n      <th></th>\n      <th>Name</th>\n      <th>height_ag</th>\n      <th>floors_ag</th>\n      <th>height_bg</th>\n      <th>floors_bg</th>\n      <th>descriptio</th>\n      <th>category</th>\n      <th>REFERENCE</th>\n      <th>geometry</th>\n    </tr>\n  </thead>\n  <tbody>\n    <tr>\n      <th>0</th>\n      <td>B1000</td>\n      <td>9.0</td>\n      <td>3</td>\n      <td>3.0</td>\n      <td>1</td>\n      <td>FGZ-Siedlung 12: Kleinalbis II</td>\n      <td>house</td>\n      <td>OSM - as it is</td>\n      <td>POLYGON ((462732.2208216225 15245068.84431113,...</td>\n    </tr>\n    <tr>\n      <th>1</th>\n      <td>B1001</td>\n      <td>9.0</td>\n      <td>3</td>\n      <td>3.0</td>\n      <td>1</td>\n      <td>FGZ-Siedlung 12: Kleinalbis II</td>\n      <td>house</td>\n      <td>OSM - as it is</td>\n      <td>POLYGON ((462736.5184668251 15245045.1003448, ...</td>\n    </tr>\n    <tr>\n      <th>2</th>\n      <td>B1002</td>\n      <td>9.0</td>\n      <td>3</td>\n      <td>3.0</td>\n      <td>1</td>\n      <td>FGZ-Siedlung 12: Kleinalbis II</td>\n      <td>house</td>\n      <td>OSM - as it is</td>\n      <td>POLYGON ((462730.7804993654 15245054.87234257,...</td>\n    </tr>\n    <tr>\n      <th>3</th>\n      <td>B1003</td>\n      <td>9.0</td>\n      <td>3</td>\n      <td>3.0</td>\n      <td>1</td>\n      <td>FGZ-Siedlung 12: Kleinalbis II</td>\n      <td>house</td>\n      <td>OSM - as it is</td>\n      <td>POLYGON ((462743.7118557409 15245049.30022802,...</td>\n    </tr>\n    <tr>\n      <th>4</th>\n      <td>B1004</td>\n      <td>9.0</td>\n      <td>3</td>\n      <td>3.0</td>\n      <td>1</td>\n      <td>FGZ-Siedlung 12: Kleinalbis II</td>\n      <td>house</td>\n      <td>OSM - as it is</td>\n      <td>POLYGON ((462737.9663290229 15245059.07226665,...</td>\n    </tr>\n    <tr>\n      <th>5</th>\n      <td>B1005</td>\n      <td>9.0</td>\n      <td>3</td>\n      <td>3.0</td>\n      <td>1</td>\n      <td>FGZ-Siedlung 12: Kleinalbis II</td>\n      <td>house</td>\n      <td>OSM - as it is</td>\n      <td>POLYGON ((462732.2208216225 15245068.84431113,...</td>\n    </tr>\n  </tbody>\n</table>\n</div>",
      "text/plain": "    Name  height_ag  floors_ag  height_bg  floors_bg  \\\n0  B1000        9.0          3        3.0          1   \n1  B1001        9.0          3        3.0          1   \n2  B1002        9.0          3        3.0          1   \n3  B1003        9.0          3        3.0          1   \n4  B1004        9.0          3        3.0          1   \n5  B1005        9.0          3        3.0          1   \n\n                       descriptio category       REFERENCE  \\\n0  FGZ-Siedlung 12: Kleinalbis II    house  OSM - as it is   \n1  FGZ-Siedlung 12: Kleinalbis II    house  OSM - as it is   \n2  FGZ-Siedlung 12: Kleinalbis II    house  OSM - as it is   \n3  FGZ-Siedlung 12: Kleinalbis II    house  OSM - as it is   \n4  FGZ-Siedlung 12: Kleinalbis II    house  OSM - as it is   \n5  FGZ-Siedlung 12: Kleinalbis II    house  OSM - as it is   \n\n                                            geometry  \n0  POLYGON ((462732.2208216225 15245068.84431113,...  \n1  POLYGON ((462736.5184668251 15245045.1003448, ...  \n2  POLYGON ((462730.7804993654 15245054.87234257,...  \n3  POLYGON ((462743.7118557409 15245049.30022802,...  \n4  POLYGON ((462737.9663290229 15245059.07226665,...  \n5  POLYGON ((462732.2208216225 15245068.84431113,...  "
     },
     "execution_count": 14,
     "metadata": {},
     "output_type": "execute_result"
    }
   ],
   "source": "new_zone_shp = geopandas.GeoDataFrame.from_file(locator.get_zone_geometry())\nnew_zone_shp"
  },
  {
   "cell_type": "markdown",
   "metadata": {},
   "source": "The zone.shp file is the the same! (repeated this procedure with site.shp and surroundings.shp)"
  },
  {
   "cell_type": "markdown",
   "metadata": {},
   "source": "## Migrate age.dbf file"
  },
  {
   "cell_type": "code",
   "execution_count": 23,
   "metadata": {},
   "outputs": [
    {
     "data": {
      "text/html": "<div>\n<style scoped>\n    .dataframe tbody tr th:only-of-type {\n        vertical-align: middle;\n    }\n\n    .dataframe tbody tr th {\n        vertical-align: top;\n    }\n\n    .dataframe thead th {\n        text-align: right;\n    }\n</style>\n<table border=\"1\" class=\"dataframe\">\n  <thead>\n    <tr style=\"text-align: right;\">\n      <th></th>\n      <th>HVAC</th>\n      <th>Name</th>\n      <th>REFERENCE</th>\n      <th>basement</th>\n      <th>built</th>\n      <th>envelope</th>\n      <th>partitions</th>\n      <th>roof</th>\n      <th>windows</th>\n    </tr>\n  </thead>\n  <tbody>\n    <tr>\n      <th>0</th>\n      <td>0</td>\n      <td>B1000</td>\n      <td>OSM - as it is</td>\n      <td>0</td>\n      <td>1943</td>\n      <td>0</td>\n      <td>0</td>\n      <td>0</td>\n      <td>0</td>\n    </tr>\n    <tr>\n      <th>1</th>\n      <td>0</td>\n      <td>B1001</td>\n      <td>OSM - as it is</td>\n      <td>0</td>\n      <td>1943</td>\n      <td>0</td>\n      <td>0</td>\n      <td>0</td>\n      <td>0</td>\n    </tr>\n    <tr>\n      <th>2</th>\n      <td>0</td>\n      <td>B1002</td>\n      <td>OSM - as it is</td>\n      <td>0</td>\n      <td>1943</td>\n      <td>0</td>\n      <td>0</td>\n      <td>0</td>\n      <td>0</td>\n    </tr>\n    <tr>\n      <th>3</th>\n      <td>0</td>\n      <td>B1003</td>\n      <td>OSM - as it is</td>\n      <td>0</td>\n      <td>1943</td>\n      <td>0</td>\n      <td>0</td>\n      <td>0</td>\n      <td>0</td>\n    </tr>\n    <tr>\n      <th>4</th>\n      <td>0</td>\n      <td>B1004</td>\n      <td>OSM - as it is</td>\n      <td>0</td>\n      <td>1943</td>\n      <td>0</td>\n      <td>0</td>\n      <td>0</td>\n      <td>0</td>\n    </tr>\n    <tr>\n      <th>5</th>\n      <td>0</td>\n      <td>B1005</td>\n      <td>OSM - as it is</td>\n      <td>0</td>\n      <td>1943</td>\n      <td>0</td>\n      <td>0</td>\n      <td>0</td>\n      <td>0</td>\n    </tr>\n  </tbody>\n</table>\n</div>",
      "text/plain": "   HVAC   Name       REFERENCE  basement  built  envelope  partitions  roof  \\\n0     0  B1000  OSM - as it is         0   1943         0           0     0   \n1     0  B1001  OSM - as it is         0   1943         0           0     0   \n2     0  B1002  OSM - as it is         0   1943         0           0     0   \n3     0  B1003  OSM - as it is         0   1943         0           0     0   \n4     0  B1004  OSM - as it is         0   1943         0           0     0   \n5     0  B1005  OSM - as it is         0   1943         0           0     0   \n\n   windows  \n0        0  \n1        0  \n2        0  \n3        0  \n4        0  \n5        0  "
     },
     "execution_count": 23,
     "metadata": {},
     "output_type": "execute_result"
    }
   ],
   "source": "old_age_dbf = dbf_to_dataframe(os.path.join(SCENARIO_TO_MIGRATE, \"inputs\", \"building-properties\", \"age.dbf\"))\nold_age_dbf"
  },
  {
   "cell_type": "code",
   "execution_count": 26,
   "metadata": {},
   "outputs": [
    {
     "data": {
      "text/html": "<div>\n<style scoped>\n    .dataframe tbody tr th:only-of-type {\n        vertical-align: middle;\n    }\n\n    .dataframe tbody tr th {\n        vertical-align: top;\n    }\n\n    .dataframe thead th {\n        text-align: right;\n    }\n</style>\n<table border=\"1\" class=\"dataframe\">\n  <thead>\n    <tr style=\"text-align: right;\">\n      <th></th>\n      <th>1ST_USE</th>\n      <th>1ST_USE_R</th>\n      <th>2ND_USE</th>\n      <th>2ND_USE_R</th>\n      <th>3RD_USE</th>\n      <th>3RD_USE_R</th>\n      <th>Name</th>\n      <th>REFERENCE</th>\n      <th>STANDARD</th>\n      <th>YEAR</th>\n    </tr>\n  </thead>\n  <tbody>\n    <tr>\n      <th>0</th>\n      <td>MULTI_RES</td>\n      <td>1.0</td>\n      <td>NONE</td>\n      <td>0.0</td>\n      <td>NONE</td>\n      <td>0.0</td>\n      <td>B1000</td>\n      <td>OSM - as it is</td>\n      <td>STANDARD2</td>\n      <td>1943</td>\n    </tr>\n    <tr>\n      <th>1</th>\n      <td>MULTI_RES</td>\n      <td>1.0</td>\n      <td>NONE</td>\n      <td>0.0</td>\n      <td>NONE</td>\n      <td>0.0</td>\n      <td>B1001</td>\n      <td>OSM - as it is</td>\n      <td>STANDARD2</td>\n      <td>1943</td>\n    </tr>\n    <tr>\n      <th>2</th>\n      <td>MULTI_RES</td>\n      <td>1.0</td>\n      <td>NONE</td>\n      <td>0.0</td>\n      <td>NONE</td>\n      <td>0.0</td>\n      <td>B1002</td>\n      <td>OSM - as it is</td>\n      <td>STANDARD2</td>\n      <td>1943</td>\n    </tr>\n    <tr>\n      <th>3</th>\n      <td>MULTI_RES</td>\n      <td>1.0</td>\n      <td>NONE</td>\n      <td>0.0</td>\n      <td>NONE</td>\n      <td>0.0</td>\n      <td>B1003</td>\n      <td>OSM - as it is</td>\n      <td>STANDARD2</td>\n      <td>1943</td>\n    </tr>\n    <tr>\n      <th>4</th>\n      <td>MULTI_RES</td>\n      <td>1.0</td>\n      <td>NONE</td>\n      <td>0.0</td>\n      <td>NONE</td>\n      <td>0.0</td>\n      <td>B1004</td>\n      <td>OSM - as it is</td>\n      <td>STANDARD2</td>\n      <td>1943</td>\n    </tr>\n    <tr>\n      <th>5</th>\n      <td>MULTI_RES</td>\n      <td>1.0</td>\n      <td>NONE</td>\n      <td>0.0</td>\n      <td>NONE</td>\n      <td>0.0</td>\n      <td>B1005</td>\n      <td>OSM - as it is</td>\n      <td>STANDARD2</td>\n      <td>1943</td>\n    </tr>\n  </tbody>\n</table>\n</div>",
      "text/plain": "     1ST_USE  1ST_USE_R 2ND_USE  2ND_USE_R 3RD_USE  3RD_USE_R   Name  \\\n0  MULTI_RES        1.0    NONE        0.0    NONE        0.0  B1000   \n1  MULTI_RES        1.0    NONE        0.0    NONE        0.0  B1001   \n2  MULTI_RES        1.0    NONE        0.0    NONE        0.0  B1002   \n3  MULTI_RES        1.0    NONE        0.0    NONE        0.0  B1003   \n4  MULTI_RES        1.0    NONE        0.0    NONE        0.0  B1004   \n5  MULTI_RES        1.0    NONE        0.0    NONE        0.0  B1005   \n\n        REFERENCE   STANDARD  YEAR  \n0  OSM - as it is  STANDARD2  1943  \n1  OSM - as it is  STANDARD2  1943  \n2  OSM - as it is  STANDARD2  1943  \n3  OSM - as it is  STANDARD2  1943  \n4  OSM - as it is  STANDARD2  1943  \n5  OSM - as it is  STANDARD2  1943  "
     },
     "execution_count": 26,
     "metadata": {},
     "output_type": "execute_result"
    }
   ],
   "source": "# i think that should be migrated to typology.dbf\nnew_typology_dbf = dbf_to_dataframe(locator.get_building_typology())\nnew_typology_dbf"
  },
  {
   "cell_type": "markdown",
   "metadata": {},
   "source": "OK. So. This is going to be interesting.\n\n- old_age_dbf.Name --> new_typology_dbf.Name\n- old_age_dbf.built --> new_typology_dbf.YEAR\n\n(I'm assuming we just forget the other stuff for now - maybe when we look into the old technologies folder, we'll figure out a way to translate the HVAC, basement, envelope, partitions, roof and windows fields. Maybe.)"
  },
  {
   "cell_type": "code",
   "execution_count": null,
   "metadata": {},
   "outputs": [],
   "source": " ## Migrate occupancy.dbf file"
  }
 ],
 "metadata": {
  "kernelspec": {
   "display_name": "Python 2",
   "language": "python",
   "name": "python2"
  },
  "language_info": {
   "codemirror_mode": {
    "name": "ipython",
    "version": 2
   },
   "file_extension": ".py",
   "mimetype": "text/x-python",
   "name": "python",
   "nbconvert_exporter": "python",
   "pygments_lexer": "ipython2",
   "version": "2.7.15"
  }
 },
 "nbformat": 4,
 "nbformat_minor": 4
}
