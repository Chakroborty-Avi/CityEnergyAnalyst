{
 "cells": [
  {
   "cell_type": "markdown",
   "metadata": {},
   "source": "# Migration script\n\nMigrate the input databases from the 2.29 format to the 2.31.1 format.\n\nThis notebook assumes `SCENARIO_TO_MIGRATE` points to a scenario of Kleinalbis (which buildings?) in v2.29.0 format and `EXAMPLE_SCENARIO` to a scenario in v2.31.1 format. \n\nThese are the v2.29.0 format files to migrate:\n\n- inputs/building-geometry/zone.shp\n- inputs/building-geometry/site.shp\n- inputs/building-geometry/surroundings.shp\n\n- inputs/building-properties/age.dbf\n- inputs/building-properties/air_conditioning_systems.dbf\n- inputs/building-properties/architecture.dbf\n- inputs/building-properties/indoor_comfort.dbf\n- inputs/building-properties/internal_loads.dbf\n- inputs/building-properties/occupancy.dbf\n- inputs/building-properties/supply_systems.dbf\n- inputs/building-properties/schedules/B*.csv\n\nAlso, remember, the inputs/technology folder also changed and the v2.31.1 format references these possibly differently."
  },
  {
   "cell_type": "code",
   "execution_count": 3,
   "metadata": {},
   "outputs": [],
   "source": "# Constants\nSCENARIO_TO_MIGRATE = r\"c:\\Users\\darthoma\\Documents\\CityEnergyAnalyst\\projects\\2.29.0\\kleinalbis\"\nEXAMPLE_SCENARIO = r\"c:\\Users\\darthoma\\Documents\\CityEnergyAnalyst\\projects\\working-with-databases\\kleinalbis\""
  },
  {
   "cell_type": "code",
   "execution_count": 4,
   "metadata": {},
   "outputs": [],
   "source": "import os\nimport cea"
  },
  {
   "cell_type": "markdown",
   "metadata": {},
   "source": "## Migrate building-geometry files"
  },
  {
   "cell_type": "code",
   "execution_count": null,
   "metadata": {},
   "outputs": [],
   "source": "# let's first compare the two files (and practice reading/writing shape files)"
  }
 ],
 "metadata": {
  "kernelspec": {
   "display_name": "Python 2",
   "language": "python",
   "name": "python2"
  },
  "language_info": {
   "codemirror_mode": {
    "name": "ipython",
    "version": 2
   },
   "file_extension": ".py",
   "mimetype": "text/x-python",
   "name": "python",
   "nbconvert_exporter": "python",
   "pygments_lexer": "ipython2",
   "version": "2.7.15"
  }
 },
 "nbformat": 4,
 "nbformat_minor": 4
}
