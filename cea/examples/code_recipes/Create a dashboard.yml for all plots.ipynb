{
 "cells": [
  {
   "cell_type": "markdown",
   "metadata": {},
   "source": [
    "# Create a dashboard.yml file for all plots for the current project/scenario\n",
    "\n",
    "The purpose of this notebook is to create a `dashboard.yml` file in the `{general:project}` folder that has a dashboard for each category of plots and inside that dashboard, one plot for each plot in that category. We use the row-layout for the dashboards."
   ]
  },
  {
   "cell_type": "markdown",
   "metadata": {},
   "source": [
    "## Imports"
   ]
  },
  {
   "cell_type": "code",
   "execution_count": 5,
   "metadata": {},
   "outputs": [],
   "source": [
    "from __future__ import division, print_function\n",
    "\n",
    "import yaml\n",
    "import cea.config\n",
    "import cea.plots\n",
    "import cea.plots.cache\n",
    "import cea.plots.categories"
   ]
  },
  {
   "cell_type": "markdown",
   "metadata": {},
   "source": [
    "## main variables"
   ]
  },
  {
   "cell_type": "code",
   "execution_count": 8,
   "metadata": {},
   "outputs": [],
   "source": [
    "config = cea.config.Configuration()\n",
    "plot_cache = cea.plots.cache.NullPlotCache()"
   ]
  },
  {
   "cell_type": "code",
   "execution_count": 10,
   "metadata": {},
   "outputs": [],
   "source": [
    "for category in cea.plots.categories.list_categories():\n",
    "    # create the new dashboard\n",
    "    dashboard_index = cea.plots.new_dashboard(config, plot_cache, category.label, \"row\")\n",
    "    dashboards = cea.plots.read_dashboards(config, plot_cache)\n",
    "    dashboard = dashboards[dashboard_index]\n",
    "    \n",
    "    for plot_class in category.plots:        \n",
    "        dashboard.add_plot(category.name, plot_class.id())        \n",
    "    cea.plots.write_dashboards(config, dashboards)"
   ]
  }
 ],
 "metadata": {
  "kernelspec": {
   "display_name": "Python 2",
   "language": "python",
   "name": "python2"
  },
  "language_info": {
   "codemirror_mode": {
    "name": "ipython",
    "version": 2
   },
   "file_extension": ".py",
   "mimetype": "text/x-python",
   "name": "python",
   "nbconvert_exporter": "python",
   "pygments_lexer": "ipython2",
   "version": "2.7.15"
  }
 },
 "nbformat": 4,
 "nbformat_minor": 2
}
