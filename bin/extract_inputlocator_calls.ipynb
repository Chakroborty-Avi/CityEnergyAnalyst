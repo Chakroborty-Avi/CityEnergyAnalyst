{
 "cells": [
  {
   "cell_type": "markdown",
   "metadata": {
    "collapsed": true
   },
   "source": [
    "# Extract InputLocator calls"
   ]
  },
  {
   "cell_type": "markdown",
   "metadata": {},
   "source": [
    "#### Author : Daren Thomas\n",
    "#### Intent : To figure out the input/output files used by each module in CEA\n",
    "#### Date : January 2017"
   ]
  },
  {
   "cell_type": "markdown",
   "metadata": {},
   "source": [
    "## Operation emissions"
   ]
  },
  {
   "cell_type": "code",
   "execution_count": 1,
   "metadata": {
    "collapsed": false
   },
   "outputs": [
    {
     "name": "stderr",
     "output_type": "stream",
     "text": [
      "ERROR:root:File `u'bin/create_function_graph.py'` not found.\n"
     ]
    }
   ],
   "source": [
    "run bin/create_function_graph.py -f emissions -s docs/scenario_folder/emissions.trace.pickle"
   ]
  },
  {
   "cell_type": "code",
   "execution_count": 2,
   "metadata": {
    "collapsed": false
   },
   "outputs": [
    {
     "ename": "ImportError",
     "evalue": "No module named cea.inputlocator",
     "output_type": "error",
     "traceback": [
      "\u001b[0;31m---------------------------------------------------------------------------\u001b[0m",
      "\u001b[0;31mImportError\u001b[0m                               Traceback (most recent call last)",
      "\u001b[0;32m<ipython-input-2-4c5a32aa9fb7>\u001b[0m in \u001b[0;36m<module>\u001b[0;34m()\u001b[0m\n\u001b[1;32m      1\u001b[0m \u001b[1;32mimport\u001b[0m \u001b[0mpickle\u001b[0m\u001b[1;33m\u001b[0m\u001b[0m\n\u001b[0;32m----> 2\u001b[0;31m \u001b[1;32mimport\u001b[0m \u001b[0mcea\u001b[0m\u001b[1;33m.\u001b[0m\u001b[0minputlocator\u001b[0m\u001b[1;33m\u001b[0m\u001b[0m\n\u001b[0m\u001b[1;32m      3\u001b[0m \u001b[1;32mimport\u001b[0m \u001b[0mpandas\u001b[0m \u001b[1;32mas\u001b[0m \u001b[0mpd\u001b[0m\u001b[1;33m\u001b[0m\u001b[0m\n\u001b[1;32m      4\u001b[0m \u001b[1;33m\u001b[0m\u001b[0m\n\u001b[1;32m      5\u001b[0m \u001b[0mtrace_data\u001b[0m \u001b[1;33m=\u001b[0m \u001b[0mpickle\u001b[0m\u001b[1;33m.\u001b[0m\u001b[0mload\u001b[0m\u001b[1;33m(\u001b[0m\u001b[0mfile\u001b[0m\u001b[1;33m=\u001b[0m\u001b[0mopen\u001b[0m\u001b[1;33m(\u001b[0m\u001b[1;34m'docs/scenario_folder/emissions.trace.pickle'\u001b[0m\u001b[1;33m,\u001b[0m \u001b[1;34m'r'\u001b[0m\u001b[1;33m)\u001b[0m\u001b[1;33m)\u001b[0m\u001b[1;33m\u001b[0m\u001b[0m\n",
      "\u001b[0;31mImportError\u001b[0m: No module named cea.inputlocator"
     ]
    }
   ],
   "source": [
    "import pickle\n",
    "import cea.inputlocator\n",
    "import pandas as pd\n",
    "\n",
    "trace_data = pickle.load(file=open('docs/scenario_folder/emissions.trace.pickle', 'r'))\n",
    "all_nodes = set(td[1].fqname for td in trace_data if not td[0].fqname.startswith('cea.inputlocator.InputLocator'))\n",
    "locator_funcs = [n for n in all_nodes if n.startswith('cea.inputlocator.InputLocator')]\n",
    "file_names = [eval(f).__doc__ for f in locator_funcs]"
   ]
  },
  {
   "cell_type": "code",
   "execution_count": null,
   "metadata": {
    "collapsed": false
   },
   "outputs": [],
   "source": [
    "file_names"
   ]
  },
  {
   "cell_type": "code",
   "execution_count": null,
   "metadata": {
    "collapsed": false
   },
   "outputs": [],
   "source": [
    "locator_funcs"
   ]
  },
  {
   "cell_type": "markdown",
   "metadata": {},
   "source": [
    "## Embodied energy"
   ]
  },
  {
   "cell_type": "code",
   "execution_count": null,
   "metadata": {
    "collapsed": false
   },
   "outputs": [],
   "source": [
    "run bin/create_function_graph.py -f embodied_energy -s docs/scenario_folder/embodied_energy.trace.pickle"
   ]
  },
  {
   "cell_type": "code",
   "execution_count": null,
   "metadata": {
    "collapsed": false
   },
   "outputs": [],
   "source": [
    "trace_data = pickle.load(file=open('docs/scenario_folder/embodied_energy.trace.pickle', 'r'))\n",
    "all_nodes = set(td[1].fqname for td in trace_data if not td[0].fqname.startswith('cea.inputlocator.InputLocator'))\n",
    "locator_funcs = [n for n in all_nodes if n.startswith('cea.inputlocator.InputLocator')]\n",
    "file_names = [eval(f).__doc__ for f in locator_funcs]\n",
    "file_names"
   ]
  },
  {
   "cell_type": "code",
   "execution_count": null,
   "metadata": {
    "collapsed": false
   },
   "outputs": [],
   "source": [
    "print '\\n'.join('* `%s` -> `%s`' % (f, l)  for f, l in zip(file_names, locator_funcs))"
   ]
  },
  {
   "cell_type": "heading",
   "level": 2,
   "metadata": {},
   "source": []
  },
  {
   "cell_type": "markdown",
   "metadata": {},
   "source": [
    "## Benchmark graphs"
   ]
  },
  {
   "cell_type": "code",
   "execution_count": null,
   "metadata": {
    "collapsed": false
   },
   "outputs": [],
   "source": [
    "run bin/create_function_graph.py -f benchmark_graphs -s docs/scenario_folder/benchmark_graphs.trace.pickle"
   ]
  },
  {
   "cell_type": "code",
   "execution_count": null,
   "metadata": {
    "collapsed": false
   },
   "outputs": [],
   "source": [
    "trace_data = pickle.load(file=open('docs/scenario_folder/benchmark_graphs.trace.pickle', 'r'))\n",
    "all_nodes = set(td[1].fqname for td in trace_data if not td[0].fqname.startswith('cea.inputlocator.InputLocator'))\n",
    "locator_funcs = [n for n in all_nodes if n.startswith('cea.inputlocator.InputLocator')]\n",
    "file_names = [eval(f).__doc__ for f in locator_funcs]\n",
    "print '\\n'.join('* `%s` -> `%s`' % (f, l) for f, l in zip(file_names, locator_funcs))"
   ]
  },
  {
   "cell_type": "markdown",
   "metadata": {},
   "source": [
    "## Data helper"
   ]
  },
  {
   "cell_type": "code",
   "execution_count": null,
   "metadata": {
    "collapsed": false
   },
   "outputs": [],
   "source": [
    "run bin/create_function_graph.py -f data_helper -s docs/scenario_folder/data_helper.trace.pickle"
   ]
  },
  {
   "cell_type": "code",
   "execution_count": null,
   "metadata": {
    "collapsed": false
   },
   "outputs": [],
   "source": [
    "trace_data = pickle.load(file=open('docs/scenario_folder/data_helper.trace.pickle', 'r'))\n",
    "all_nodes = set(td[1].fqname for td in trace_data if not td[0].fqname.startswith('cea.inputlocator.InputLocator'))\n",
    "locator_funcs = [n for n in all_nodes if n.startswith('cea.inputlocator.InputLocator')]\n",
    "file_names = [eval(f).__doc__ for f in locator_funcs]\n",
    "print '\\n'.join('* `%s` -> `%s`' % (f, l) for f, l in zip(file_names, locator_funcs))"
   ]
  },
  {
   "cell_type": "markdown",
   "metadata": {},
   "source": [
    "## Demand graphs"
   ]
  },
  {
   "cell_type": "code",
   "execution_count": null,
   "metadata": {
    "collapsed": false
   },
   "outputs": [],
   "source": [
    "run bin/create_function_graph.py -f demand_graphs -s docs/scenario_folder/demand_graphs.trace.pickle"
   ]
  },
  {
   "cell_type": "code",
   "execution_count": null,
   "metadata": {
    "collapsed": false
   },
   "outputs": [],
   "source": [
    "trace_data = pickle.load(file=open('docs/scenario_folder/demand_graphs.trace.pickle', 'r'))\n",
    "all_nodes = set(td[1].fqname for td in trace_data if not td[0].fqname.startswith('cea.inputlocator.InputLocator'))\n",
    "locator_funcs = [n for n in all_nodes if n.startswith('cea.inputlocator.InputLocator')]\n",
    "file_names = [eval(f).__doc__ for f in locator_funcs]\n",
    "print '\\n'.join('* `%s` -> `%s`' % (f, l) for f, l in zip(file_names, locator_funcs))"
   ]
  },
  {
   "cell_type": "markdown",
   "metadata": {},
   "source": [
    "## Demand"
   ]
  },
  {
   "cell_type": "code",
   "execution_count": null,
   "metadata": {
    "collapsed": false
   },
   "outputs": [],
   "source": [
    "run bin/create_function_graph.py -f demand -s docs/scenario_folder/demand.trace.pickle"
   ]
  },
  {
   "cell_type": "code",
   "execution_count": null,
   "metadata": {
    "collapsed": false
   },
   "outputs": [],
   "source": [
    "trace_data = pickle.load(file=open('docs/scenario_folder/demand.trace.pickle', 'r'))\n",
    "all_nodes = set(td[1].fqname for td in trace_data if not td[0].fqname.startswith('cea.inputlocator.InputLocator'))\n",
    "locator_funcs = [n for n in all_nodes if n.startswith('cea.inputlocator.InputLocator')]\n",
    "file_names = [eval(f).__doc__ for f in locator_funcs]\n",
    "print '\\n'.join('* `%s` -> `%s`' % (f, l) for f, l in zip(file_names, locator_funcs))"
   ]
  },
  {
   "cell_type": "markdown",
   "metadata": {},
   "source": [
    "## Mobility"
   ]
  },
  {
   "cell_type": "code",
   "execution_count": null,
   "metadata": {
    "collapsed": false
   },
   "outputs": [],
   "source": [
    "run bin/create_function_graph.py -f mobility -s docs/scenario_folder/mobility.trace.pickle"
   ]
  },
  {
   "cell_type": "code",
   "execution_count": null,
   "metadata": {
    "collapsed": false
   },
   "outputs": [],
   "source": [
    "trace_data = pickle.load(file=open('docs/scenario_folder/mobility.trace.pickle', 'r'))\n",
    "all_nodes = set(td[1].fqname for td in trace_data if not td[0].fqname.startswith('cea.inputlocator.InputLocator'))\n",
    "locator_funcs = [n for n in all_nodes if n.startswith('cea.inputlocator.InputLocator')]\n",
    "file_names = [eval(f).__doc__ for f in locator_funcs]\n",
    "print '\\n'.join('* `%s` -> `%s`' % (f, l) for f, l in zip(file_names, locator_funcs))"
   ]
  },
  {
   "cell_type": "markdown",
   "metadata": {},
   "source": [
    "## Heatmaps"
   ]
  },
  {
   "cell_type": "code",
   "execution_count": null,
   "metadata": {
    "collapsed": false
   },
   "outputs": [],
   "source": [
    "run bin/create_function_graph.py -f heatmaps -s docs/scenario_folder/heatmaps.trace.pickle"
   ]
  },
  {
   "cell_type": "code",
   "execution_count": null,
   "metadata": {
    "collapsed": false
   },
   "outputs": [],
   "source": [
    "trace_data = pickle.load(file=open('docs/scenario_folder/heatmaps.trace.pickle', 'r'))\n",
    "all_nodes = set(td[1].fqname for td in trace_data if not td[0].fqname.startswith('cea.inputlocator.InputLocator'))\n",
    "locator_funcs = [n for n in all_nodes if n.startswith('cea.inputlocator.InputLocator')]\n",
    "file_names = [eval(f).__doc__ for f in locator_funcs]\n",
    "print '\\n'.join('* `%s` -> `%s`' % (f, l) for f, l in zip(file_names, locator_funcs))"
   ]
  },
  {
   "cell_type": "code",
   "execution_count": null,
   "metadata": {
    "collapsed": true
   },
   "outputs": [],
   "source": []
  }
 ],
 "metadata": {
  "anaconda-cloud": {},
  "kernelspec": {
   "display_name": "Python [default]",
   "language": "python",
   "name": "python2"
  },
  "language_info": {
   "codemirror_mode": {
    "name": "ipython",
    "version": 2
   },
   "file_extension": ".py",
   "mimetype": "text/x-python",
   "name": "python",
   "nbconvert_exporter": "python",
   "pygments_lexer": "ipython2",
   "version": "2.7.12"
  }
 },
 "nbformat": 4,
 "nbformat_minor": 0
}
