{
 "cells": [
  {
   "cell_type": "markdown",
   "metadata": {
    "collapsed": true
   },
   "source": [
    "# Extract InputLocator calls\n",
    "\n",
    "Why? Because we can use this information to figure out what input/output files are used by each module."
   ]
  },
  {
   "cell_type": "markdown",
   "metadata": {},
   "source": [
    "## Operation emissions"
   ]
  },
  {
   "cell_type": "code",
   "execution_count": 4,
   "metadata": {},
   "outputs": [
    {
     "name": "stdout",
     "output_type": "stream",
     "text": [
      "(cea.analysis.operation.lca_operation, cea.inputlocator.InputLocator.get_total_demand)\n(cea.inputlocator.InputLocator.get_total_demand, cea.inputlocator.InputLocator.get_demand_results_folder)\n(cea.inputlocator.InputLocator.get_demand_results_folder, cea.inputlocator._ensure_folder)\n(cea.analysis.operation.lca_operation, cea.inputlocator.InputLocator.get_building_supply)\n(cea.analysis.operation.lca_operation, cea.inputlocator.InputLocator.get_life_cycle_inventory_supply_systems)\n"
     ]
    },
    {
     "name": "stdout",
     "output_type": "stream",
     "text": [
      "(cea.analysis.operation.lca_operation, cea.inputlocator.InputLocator.get_lca_emissions_results_folder)\n"
     ]
    },
    {
     "name": "stdout",
     "output_type": "stream",
     "text": [
      "(cea.analysis.operation.lca_operation, cea.inputlocator.InputLocator.get_lca_operation)\n(cea.inputlocator.InputLocator.get_lca_operation, cea.inputlocator.InputLocator.get_lca_emissions_results_folder)\n"
     ]
    }
   ],
   "source": [
    "run bin/create_function_graph.py -f emissions -s docs/scenario_folder/emissions.trace.pickle"
   ]
  },
  {
   "cell_type": "code",
   "execution_count": 5,
   "metadata": {},
   "outputs": [],
   "source": [
    "import pickle\n",
    "import cea.inputlocator\n",
    "import pandas as pd\n",
    "\n",
    "trace_data = pickle.load(file=open('docs/scenario_folder/emissions.trace.pickle', 'r'))\n",
    "all_nodes = set(td[1].fqname for td in trace_data if not td[0].fqname.startswith('cea.inputlocator.InputLocator'))\n",
    "locator_funcs = [n for n in all_nodes if n.startswith('cea.inputlocator.InputLocator')]\n",
    "file_names = [eval(f).__doc__ for f in locator_funcs]"
   ]
  },
  {
   "cell_type": "code",
   "execution_count": 6,
   "metadata": {
    "collapsed": false
   },
   "outputs": [
    {
     "data": {
      "text/plain": [
       "['scenario/outputs/data/emissions',\n 'scenario/outputs/data/emissions/Total_LCA_operation.csv',\n 'scenario/outputs/data/demand/Total_demand.csv',\n 'scenario/inputs/building-properties/building_supply.shp',\n 'db/Systems/supply_systems.csv']"
      ]
     },
     "execution_count": 6,
     "metadata": {},
     "output_type": "execute_result"
    }
   ],
   "source": [
    "file_names"
   ]
  },
  {
   "cell_type": "code",
   "execution_count": 7,
   "metadata": {
    "collapsed": false
   },
   "outputs": [
    {
     "data": {
      "text/plain": [
       "['cea.inputlocator.InputLocator.get_lca_emissions_results_folder',\n 'cea.inputlocator.InputLocator.get_lca_operation',\n 'cea.inputlocator.InputLocator.get_total_demand',\n 'cea.inputlocator.InputLocator.get_building_supply',\n 'cea.inputlocator.InputLocator.get_life_cycle_inventory_supply_systems']"
      ]
     },
     "execution_count": 7,
     "metadata": {},
     "output_type": "execute_result"
    }
   ],
   "source": [
    "locator_funcs"
   ]
  },
  {
   "cell_type": "markdown",
   "metadata": {},
   "source": [
    "## Embodied energy"
   ]
  },
  {
   "cell_type": "code",
   "execution_count": 11,
   "metadata": {},
   "outputs": [
    {
     "name": "stdout",
     "output_type": "stream",
     "text": [
      "(cea.analysis.embodied.lca_embodied, cea.inputlocator.InputLocator.get_building_architecture)\n(cea.analysis.embodied.lca_embodied, cea.inputlocator.InputLocator.get_building_occupancy)\n(cea.analysis.embodied.lca_embodied, cea.inputlocator.InputLocator.get_building_age)\n"
     ]
    },
    {
     "name": "stdout",
     "output_type": "stream",
     "text": [
      "(cea.analysis.embodied.lca_embodied, cea.inputlocator.InputLocator.get_building_geometry)\n(cea.analysis.embodied.lca_embodied, cea.analysis.embodied.calc_mainuse)\n"
     ]
    },
    {
     "name": "stdout",
     "output_type": "stream",
     "text": [
      "(cea.analysis.embodied.calc_mainuse, cea.analysis.embodied.calc_comparison)\n"
     ]
    },
    {
     "name": "stdout",
     "output_type": "stream",
     "text": [
      "(cea.analysis.embodied.lca_embodied, cea.analysis.embodied.<lambda>)\n(cea.analysis.embodied.<lambda>, cea.analysis.embodied.calc_category_construction)\n(cea.analysis.embodied.<lambda>, cea.analysis.embodied.calc_category_retrofit)\n"
     ]
    },
    {
     "name": "stdout",
     "output_type": "stream",
     "text": [
      "(cea.analysis.embodied.lca_embodied, cea.analysis.embodied.calculate_contributions)\n(cea.analysis.embodied.calculate_contributions, cea.inputlocator.InputLocator.get_archetypes_properties)\n"
     ]
    },
    {
     "name": "stdout",
     "output_type": "stream",
     "text": [
      "(cea.analysis.embodied.calculate_contributions, cea.analysis.embodied.<lambda>)\n(cea.analysis.embodied.<lambda>, cea.analysis.embodied.calc_if_existing)\n"
     ]
    },
    {
     "name": "stdout",
     "output_type": "stream",
     "text": [
      "(cea.analysis.embodied.lca_embodied, cea.inputlocator.InputLocator.get_lca_embodied)\n(cea.inputlocator.InputLocator.get_lca_embodied, cea.inputlocator.InputLocator.get_lca_emissions_results_folder)\ndone!\n"
     ]
    }
   ],
   "source": [
    "run bin/create_function_graph.py -f embodied_energy -s docs/scenario_folder/embodied_energy.trace.pickle"
   ]
  },
  {
   "cell_type": "code",
   "execution_count": 14,
   "metadata": {},
   "outputs": [
    {
     "data": {
      "text/plain": [
       "['scenario/inputs/building-properties/building_occupancy.shp',\n 'scenario/inputs/building-properties/architecture.shp\\n        This file is generated by the properties script.\\n        This file is used in the embodied energy script (cea/embodied.py)\\n        and the demand script (cea/demand_main.py)',\n 'scenario/inputs/building-properties/age.shp',\n 'scenario/inputs/building-geometry/zone.shp',\n 'db/Archetypes/Archetypes_properties.xlsx\\n        path to database of archetypes file Archetypes_properties.xlsx',\n 'scenario/outputs/data/emissions/Total_LCA_embodied.csv']"
      ]
     },
     "execution_count": 14,
     "metadata": {},
     "output_type": "execute_result"
    }
   ],
   "source": [
    "trace_data = pickle.load(file=open('docs/scenario_folder/embodied_energy.trace.pickle', 'r'))\n",
    "all_nodes = set(td[1].fqname for td in trace_data if not td[0].fqname.startswith('cea.inputlocator.InputLocator'))\n",
    "locator_funcs = [n for n in all_nodes if n.startswith('cea.inputlocator.InputLocator')]\n",
    "file_names = [eval(f).__doc__ for f in locator_funcs]\n",
    "file_names"
   ]
  },
  {
   "cell_type": "code",
   "execution_count": 25,
   "metadata": {
    "collapsed": false
   },
   "outputs": [
    {
     "name": "stdout",
     "output_type": "stream",
     "text": [
      "* `scenario/inputs/building-properties/building_occupancy.shp` -> `cea.inputlocator.InputLocator.get_building_occupancy`\n* `scenario/inputs/building-properties/architecture.shp\n        This file is generated by the properties script.\n        This file is used in the embodied energy script (cea/embodied.py)\n        and the demand script (cea/demand_main.py)` -> `cea.inputlocator.InputLocator.get_building_architecture`\n* `scenario/inputs/building-properties/age.shp` -> `cea.inputlocator.InputLocator.get_building_age`\n* `scenario/inputs/building-geometry/zone.shp` -> `cea.inputlocator.InputLocator.get_building_geometry`\n* `db/Archetypes/Archetypes_properties.xlsx\n        path to database of archetypes file Archetypes_properties.xlsx` -> `cea.inputlocator.InputLocator.get_archetypes_properties`\n* `scenario/outputs/data/emissions/Total_LCA_embodied.csv` -> `cea.inputlocator.InputLocator.get_lca_embodied`\n"
     ]
    }
   ],
   "source": [
    "print '\\n'.join('* `%s` -> `%s`' % (f, l)  for f, l in zip(file_names, locator_funcs))"
   ]
  },
  {
   "cell_type": "heading",
   "metadata": {},
   "level": 2,
   "source": [
    ""
   ]
  },
  {
   "cell_type": "markdown",
   "metadata": {},
   "source": [
    "## Benchmark graphs"
   ]
  },
  {
   "cell_type": "code",
   "execution_count": 27,
   "metadata": {},
   "outputs": [
    {
     "name": "stdout",
     "output_type": "stream",
     "text": [
      "(cea.analysis.benchmark.benchmark, cea.analysis.benchmark.calc_benchmark_targets)\n(cea.analysis.benchmark.calc_benchmark_targets, cea.inputlocator.InputLocator.get_total_demand)\n(cea.inputlocator.InputLocator.get_total_demand, cea.inputlocator.InputLocator.get_demand_results_folder)\n(cea.inputlocator.InputLocator.get_demand_results_folder, cea.inputlocator._ensure_folder)\n(cea.analysis.benchmark.calc_benchmark_targets, cea.inputlocator.InputLocator.get_building_occupancy)\n(cea.analysis.benchmark.calc_benchmark_targets, cea.inputlocator.InputLocator.get_data_benchmark)\n"
     ]
    },
    {
     "name": "stdout",
     "output_type": "stream",
     "text": [
      "(cea.analysis.benchmark.benchmark, cea.analysis.benchmark.calc_benchmark_today)\n(cea.analysis.benchmark.calc_benchmark_today, cea.inputlocator.InputLocator.get_total_demand)\n(cea.analysis.benchmark.calc_benchmark_today, cea.inputlocator.InputLocator.get_building_occupancy)\n(cea.analysis.benchmark.calc_benchmark_today, cea.inputlocator.InputLocator.get_data_benchmark_today)\n"
     ]
    },
    {
     "name": "stdout",
     "output_type": "stream",
     "text": [
      "(cea.analysis.benchmark.benchmark, cea.inputlocator.InputLocator.get_total_demand)\n(cea.analysis.benchmark.benchmark, cea.inputlocator.InputLocator.get_lca_embodied)\n(cea.inputlocator.InputLocator.get_lca_embodied, cea.inputlocator.InputLocator.get_lca_emissions_results_folder)\n(cea.analysis.benchmark.benchmark, cea.inputlocator.InputLocator.get_lca_operation)\n(cea.inputlocator.InputLocator.get_lca_operation, cea.inputlocator.InputLocator.get_lca_emissions_results_folder)\n(cea.analysis.benchmark.benchmark, cea.inputlocator.InputLocator.get_lca_mobility)\n(cea.inputlocator.InputLocator.get_lca_mobility, cea.inputlocator.InputLocator.get_lca_emissions_results_folder)\n"
     ]
    }
   ],
   "source": [
    "run bin/create_function_graph.py -f benchmark_graphs -s docs/scenario_folder/benchmark_graphs.trace.pickle"
   ]
  },
  {
   "cell_type": "code",
   "execution_count": 33,
   "metadata": {},
   "outputs": [
    {
     "name": "stdout",
     "output_type": "stream",
     "text": [
      "* `scenario/outputs/data/emissions/Total_LCA_mobility.csv` -> `cea.inputlocator.InputLocator.get_lca_mobility`\n* `db/Benchmarks/benchmark_targets.xls` -> `cea.inputlocator.InputLocator.get_data_benchmark`\n* `scenario/outputs/data/demand/Total_demand.csv` -> `cea.inputlocator.InputLocator.get_total_demand`\n* `scenario/inputs/building-properties/building_occupancy.shp` -> `cea.inputlocator.InputLocator.get_building_occupancy`\n* `db/Benchmarks/benchmark_today.xls` -> `cea.inputlocator.InputLocator.get_data_benchmark_today`\n* `scenario/outputs/data/emissions/Total_LCA_operation.csv` -> `cea.inputlocator.InputLocator.get_lca_operation`\n* `scenario/outputs/data/emissions/Total_LCA_embodied.csv` -> `cea.inputlocator.InputLocator.get_lca_embodied`\n"
     ]
    }
   ],
   "source": [
    "trace_data = pickle.load(file=open('docs/scenario_folder/benchmark_graphs.trace.pickle', 'r'))\n",
    "all_nodes = set(td[1].fqname for td in trace_data if not td[0].fqname.startswith('cea.inputlocator.InputLocator'))\n",
    "locator_funcs = [n for n in all_nodes if n.startswith('cea.inputlocator.InputLocator')]\n",
    "file_names = [eval(f).__doc__ for f in locator_funcs]\n",
    "print '\\n'.join('* `%s` -> `%s`' % (f, l) for f, l in zip(file_names, locator_funcs))"
   ]
  },
  {
   "cell_type": "markdown",
   "metadata": {},
   "source": [
    "## Data helper"
   ]
  },
  {
   "cell_type": "code",
   "execution_count": 29,
   "metadata": {},
   "outputs": [
    {
     "name": "stdout",
     "output_type": "stream",
     "text": [
      "(cea.demand.preprocessing.properties.properties, cea.inputlocator.InputLocator.get_building_occupancy)\n(cea.demand.preprocessing.properties.properties, cea.inputlocator.InputLocator.get_building_age)\n(cea.demand.preprocessing.properties.properties, cea.demand.preprocessing.properties.calc_mainuse)\n"
     ]
    },
    {
     "name": "stdout",
     "output_type": "stream",
     "text": [
      "(cea.demand.preprocessing.properties.calc_mainuse, cea.demand.preprocessing.properties.calc_comparison)\n(cea.demand.preprocessing.properties.properties, cea.inputlocator.InputLocator.get_archetypes_properties)\n(cea.demand.preprocessing.properties.properties, cea.demand.preprocessing.properties.get_database)\n"
     ]
    },
    {
     "name": "stdout",
     "output_type": "stream",
     "text": [
      "(cea.demand.preprocessing.properties.properties, cea.demand.preprocessing.properties.<lambda>)\n(cea.demand.preprocessing.properties.<lambda>, cea.demand.preprocessing.properties.calc_category)\n"
     ]
    },
    {
     "name": "stdout",
     "output_type": "stream",
     "text": [
      "(cea.demand.preprocessing.properties.properties, cea.inputlocator.InputLocator.get_building_thermal)\n"
     ]
    },
    {
     "name": "stdout",
     "output_type": "stream",
     "text": [
      "(cea.demand.preprocessing.properties.properties, cea.inputlocator.InputLocator.get_building_architecture)\n"
     ]
    },
    {
     "name": "stdout",
     "output_type": "stream",
     "text": [
      "(cea.demand.preprocessing.properties.properties, cea.inputlocator.InputLocator.get_building_hvac)\n"
     ]
    },
    {
     "name": "stdout",
     "output_type": "stream",
     "text": [
      "(cea.demand.preprocessing.properties.properties, cea.inputlocator.InputLocator.get_building_comfort)\n"
     ]
    },
    {
     "name": "stdout",
     "output_type": "stream",
     "text": [
      "(cea.demand.preprocessing.properties.properties, cea.inputlocator.InputLocator.get_building_internal)\n"
     ]
    }
   ],
   "source": [
    "run bin/create_function_graph.py -f data_helper -s docs/scenario_folder/data_helper.trace.pickle"
   ]
  },
  {
   "cell_type": "code",
   "execution_count": 34,
   "metadata": {},
   "outputs": [
    {
     "name": "stdout",
     "output_type": "stream",
     "text": [
      "* `scenario/inputs/building-properties/internal_loads.shp` -> `cea.inputlocator.InputLocator.get_building_internal`\n* `scenario/inputs/building-properties/architecture.shp\n        This file is generated by the properties script.\n        This file is used in the embodied energy script (cea/embodied.py)\n        and the demand script (cea/demand_main.py)` -> `cea.inputlocator.InputLocator.get_building_architecture`\n* `scenario/inputs/building-properties/building_occupancy.shp` -> `cea.inputlocator.InputLocator.get_building_occupancy`\n* `scenario/inputs/building-properties/age.shp` -> `cea.inputlocator.InputLocator.get_building_age`\n* `db/Archetypes/Archetypes_properties.xlsx\n        path to database of archetypes file Archetypes_properties.xlsx` -> `cea.inputlocator.InputLocator.get_archetypes_properties`\n* `scenario/inputs/building-properties/thermal_properties.shp` -> `cea.inputlocator.InputLocator.get_building_thermal`\n* `scenario/inputs/building-properties/technical_systems.shp` -> `cea.inputlocator.InputLocator.get_building_hvac`\n* `scenario/inputs/building-properties/indoor_comfort.shp'` -> `cea.inputlocator.InputLocator.get_building_comfort`\n"
     ]
    }
   ],
   "source": [
    "trace_data = pickle.load(file=open('docs/scenario_folder/data_helper.trace.pickle', 'r'))\n",
    "all_nodes = set(td[1].fqname for td in trace_data if not td[0].fqname.startswith('cea.inputlocator.InputLocator'))\n",
    "locator_funcs = [n for n in all_nodes if n.startswith('cea.inputlocator.InputLocator')]\n",
    "file_names = [eval(f).__doc__ for f in locator_funcs]\n",
    "print '\\n'.join('* `%s` -> `%s`' % (f, l) for f, l in zip(file_names, locator_funcs))"
   ]
  },
  {
   "cell_type": "markdown",
   "metadata": {},
   "source": [
    "## Demand graphs"
   ]
  },
  {
   "cell_type": "code",
   "execution_count": 37,
   "metadata": {},
   "outputs": [
    {
     "name": "stdout",
     "output_type": "stream",
     "text": [
      "(cea.plots.graphs_demand.graphs_demand, cea.inputlocator.InputLocator.get_total_demand)\n(cea.inputlocator.InputLocator.get_total_demand, cea.inputlocator.InputLocator.get_demand_results_folder)\n(cea.inputlocator.InputLocator.get_demand_results_folder, cea.inputlocator._ensure_folder)\n(cea.plots.graphs_demand.graphs_demand, cea.plots.graphs_demand.create_demand_graph_for_building)\n(cea.plots.graphs_demand.create_demand_graph_for_building, cea.inputlocator.InputLocator.get_demand_plots_file)\n(cea.inputlocator.InputLocator.get_demand_plots_file, cea.inputlocator.InputLocator.get_demand_plots_folder)\n(cea.inputlocator.InputLocator.get_demand_plots_folder, cea.inputlocator._ensure_folder)\n(cea.plots.graphs_demand.create_demand_graph_for_building, cea.inputlocator.InputLocator.get_demand_results_file)\n(cea.inputlocator.InputLocator.get_demand_results_file, cea.inputlocator.InputLocator.get_demand_results_folder)\n"
     ]
    },
    {
     "name": "stdout",
     "output_type": "stream",
     "text": [
      "(cea.plots.graphs_demand.graphs_demand, cea.globalvar.GlobalVariables.log)\nBuilding No. 1 completed out of 9\n"
     ]
    },
    {
     "name": "stdout",
     "output_type": "stream",
     "text": [
      "Building No. 2 completed out of 9\n"
     ]
    },
    {
     "name": "stdout",
     "output_type": "stream",
     "text": [
      "Building No. 3 completed out of 9\n"
     ]
    },
    {
     "name": "stdout",
     "output_type": "stream",
     "text": [
      "Building No. 4 completed out of 9\n"
     ]
    },
    {
     "name": "stdout",
     "output_type": "stream",
     "text": [
      "Building No. 5 completed out of 9\n"
     ]
    },
    {
     "name": "stdout",
     "output_type": "stream",
     "text": [
      "Building No. 6 completed out of 9\n"
     ]
    },
    {
     "name": "stdout",
     "output_type": "stream",
     "text": [
      "Building No. 7 completed out of 9\n"
     ]
    },
    {
     "name": "stdout",
     "output_type": "stream",
     "text": [
      "Building No. 8 completed out of 9\n"
     ]
    },
    {
     "name": "stdout",
     "output_type": "stream",
     "text": [
      "Building No. 9 completed out of 9\n"
     ]
    }
   ],
   "source": [
    "run bin/create_function_graph.py -f demand_graphs -s docs/scenario_folder/demand_graphs.trace.pickle"
   ]
  },
  {
   "cell_type": "code",
   "execution_count": 38,
   "metadata": {},
   "outputs": [
    {
     "name": "stdout",
     "output_type": "stream",
     "text": [
      "* `scenario/outputs/data/demand/{building_name}.csv` -> `cea.inputlocator.InputLocator.get_demand_results_file`\n* `scenario/outputs/plots/timeseries/{building_name}.pdf` -> `cea.inputlocator.InputLocator.get_demand_plots_file`\n* `scenario/outputs/data/demand/Total_demand.csv` -> `cea.inputlocator.InputLocator.get_total_demand`\n"
     ]
    }
   ],
   "source": [
    "trace_data = pickle.load(file=open('docs/scenario_folder/demand_graphs.trace.pickle', 'r'))\n",
    "all_nodes = set(td[1].fqname for td in trace_data if not td[0].fqname.startswith('cea.inputlocator.InputLocator'))\n",
    "locator_funcs = [n for n in all_nodes if n.startswith('cea.inputlocator.InputLocator')]\n",
    "file_names = [eval(f).__doc__ for f in locator_funcs]\n",
    "print '\\n'.join('* `%s` -> `%s`' % (f, l) for f, l in zip(file_names, locator_funcs))"
   ]
  },
  {
   "cell_type": "code",
   "execution_count": null,
   "metadata": {},
   "outputs": [],
   "source": [
    ""
   ]
  }
 ],
 "metadata": {
  "kernelspec": {
   "display_name": "Python 2",
   "language": "python",
   "name": "python2"
  },
  "language_info": {
   "codemirror_mode": {
    "name": "ipython",
    "version": 2.0
   },
   "file_extension": ".py",
   "mimetype": "text/x-python",
   "name": "python",
   "nbconvert_exporter": "python",
   "pygments_lexer": "ipython2",
   "version": "2.7.6"
  }
 },
 "nbformat": 4,
 "nbformat_minor": 0
}