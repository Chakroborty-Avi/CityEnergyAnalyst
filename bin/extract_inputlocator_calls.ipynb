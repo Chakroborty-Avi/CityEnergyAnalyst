{
 "cells": [
  {
   "cell_type": "markdown",
   "metadata": {
    "collapsed": true
   },
   "source": [
    "# Extract InputLocator calls\n",
    "\n",
    "Why? Because we can use this information to figure out what input/output files are used by each module."
   ]
  },
  {
   "cell_type": "code",
   "execution_count": 5,
   "metadata": {},
   "outputs": [
    {
     "name": "stdout",
     "output_type": "stream",
     "text": [
      "(cea.analysis.operation.lca_operation, cea.inputlocator.InputLocator.get_total_demand)\n(cea.inputlocator.InputLocator.get_total_demand, cea.inputlocator.InputLocator.get_demand_results_folder)\n(cea.inputlocator.InputLocator.get_demand_results_folder, cea.inputlocator._ensure_folder)\n(cea.analysis.operation.lca_operation, cea.inputlocator.InputLocator.get_building_supply)\n(cea.analysis.operation.lca_operation, cea.inputlocator.InputLocator.get_life_cycle_inventory_supply_systems)\n"
     ]
    },
    {
     "name": "stdout",
     "output_type": "stream",
     "text": [
      "(cea.analysis.operation.lca_operation, cea.inputlocator.InputLocator.get_lca_emissions_results_folder)\n"
     ]
    },
    {
     "name": "stdout",
     "output_type": "stream",
     "text": [
      "(cea.analysis.operation.lca_operation, cea.inputlocator.InputLocator.get_lca_operation)\n(cea.inputlocator.InputLocator.get_lca_operation, cea.inputlocator.InputLocator.get_lca_emissions_results_folder)\n"
     ]
    }
   ],
   "source": [
    "run bin/create_function_graph.py -f emissions -s docs/scenario_folder/emissions.trace.pickle"
   ]
  },
  {
   "cell_type": "code",
   "execution_count": 15,
   "metadata": {},
   "outputs": [],
   "source": [
    "import pickle\n",
    "import cea.inputlocator\n",
    "\n",
    "trace_data = pickle.load(file=open('docs/scenario_folder/emissions.trace.pickle', 'r'))\n",
    "all_nodes = set(td[1].fqname for td in trace_data if not td[0].fqname.startswith('cea.inputlocator.InputLocator'))\n",
    "locator_funcs = [n for n in all_nodes if n.startswith('cea.inputlocator.InputLocator')]\n",
    "file_names = [eval(f).__doc__ for f in locator_funcs]"
   ]
  },
  {
   "cell_type": "code",
   "execution_count": 16,
   "metadata": {
    "collapsed": true
   },
   "outputs": [
    {
     "data": {
      "text/plain": [
       "['scenario/outputs/data/emissions',\n 'cenario/outputs/data/emissions/Total_LCA_operation.csv',\n 'scenario/outputs/data/demand/Total_demand.csv',\n 'scenario/inputs/building-properties/building_supply.shp',\n 'db/Systems/supply_systems.csv']"
      ]
     },
     "execution_count": 16,
     "metadata": {},
     "output_type": "execute_result"
    }
   ],
   "source": [
    "file_names"
   ]
  },
  {
   "cell_type": "code",
   "execution_count": 17,
   "metadata": {
    "collapsed": true
   },
   "outputs": [
    {
     "data": {
      "text/plain": [
       "['cea.inputlocator.InputLocator.get_lca_emissions_results_folder',\n 'cea.inputlocator.InputLocator.get_lca_operation',\n 'cea.inputlocator.InputLocator.get_total_demand',\n 'cea.inputlocator.InputLocator.get_building_supply',\n 'cea.inputlocator.InputLocator.get_life_cycle_inventory_supply_systems']"
      ]
     },
     "execution_count": 17,
     "metadata": {},
     "output_type": "execute_result"
    }
   ],
   "source": [
    "locator_funcs"
   ]
  },
  {
   "cell_type": "code",
   "execution_count": null,
   "metadata": {},
   "outputs": [],
   "source": [
    ""
   ]
  }
 ],
 "metadata": {
  "kernelspec": {
   "display_name": "Python 2",
   "language": "python",
   "name": "python2"
  },
  "language_info": {
   "codemirror_mode": {
    "name": "ipython",
    "version": 2.0
   },
   "file_extension": ".py",
   "mimetype": "text/x-python",
   "name": "python",
   "nbconvert_exporter": "python",
   "pygments_lexer": "ipython2",
   "version": "2.7.6"
  }
 },
 "nbformat": 4,
 "nbformat_minor": 0
}