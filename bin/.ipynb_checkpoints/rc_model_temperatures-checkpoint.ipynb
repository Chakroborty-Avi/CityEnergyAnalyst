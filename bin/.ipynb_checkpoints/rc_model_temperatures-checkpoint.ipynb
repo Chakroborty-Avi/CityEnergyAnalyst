{
 "cells": [
  {
   "cell_type": "markdown",
   "metadata": {
    "collapsed": true
   },
   "source": [
    "# create a graph of just the calc_rc_model_temperatures sub-graph\n",
    "\n",
    "Why? Because we can use this information to figure out how to optimize `calc_rc_model_temperatures`"
   ]
  },
  {
   "cell_type": "markdown",
   "metadata": {},
   "source": [
    "## Read in pre-computed data\n",
    "\n",
    "requires a full run of the `demand_main` to be pickled to `docs/demand/demand_main.trace.pickle` first using the `create_function_graph.py` script."
   ]
  },
  {
   "cell_type": "code",
   "execution_count": 6,
   "metadata": {
    "collapsed": true
   },
   "outputs": [],
   "source": [
    "from bin.create_function_graph import TraceDataInfo, print_digraph\n",
    "import pickle\n",
    "trace_data = pickle.load(open(r'../docs/demand/demand_main.trace.pickle', 'r'))"
   ]
  },
  {
   "cell_type": "markdown",
   "metadata": {},
   "source": [
    "## Prune the tree to anything not called by `calc_rc_model_temperatures`\n",
    "\n",
    "This assumes the ordering of `trace_data` follows the invocation ordering..."
   ]
  },
  {
   "cell_type": "code",
   "execution_count": 11,
   "metadata": {
    "collapsed": false
   },
   "outputs": [],
   "source": [
    "keep_fqnames = set()\n",
    "keep_fqnames.add('cea.demand.rc_model_SIA.calc_rc_model_temperatures')\n",
    "result = []\n",
    "for src, dst in trace_data:\n",
    "    if src.fqname in keep_fqnames:\n",
    "        keep_fqnames.add(dst.fqname)\n",
    "        result.append((src, dst))"
   ]
  },
  {
   "cell_type": "code",
   "execution_count": 12,
   "metadata": {
    "collapsed": false
   },
   "outputs": [
    {
     "data": {
      "text/plain": [
       "{'cea.demand.rc_model_SIA.calc_f_ic',\n",
       " 'cea.demand.rc_model_SIA.calc_f_im',\n",
       " 'cea.demand.rc_model_SIA.calc_f_sc',\n",
       " 'cea.demand.rc_model_SIA.calc_f_sm',\n",
       " 'cea.demand.rc_model_SIA.calc_h_1',\n",
       " 'cea.demand.rc_model_SIA.calc_h_2',\n",
       " 'cea.demand.rc_model_SIA.calc_h_3',\n",
       " 'cea.demand.rc_model_SIA.calc_h_ac',\n",
       " 'cea.demand.rc_model_SIA.calc_h_ea',\n",
       " 'cea.demand.rc_model_SIA.calc_h_ec',\n",
       " 'cea.demand.rc_model_SIA.calc_h_em',\n",
       " 'cea.demand.rc_model_SIA.calc_h_mc',\n",
       " 'cea.demand.rc_model_SIA.calc_h_op_m',\n",
       " 'cea.demand.rc_model_SIA.calc_phi_a',\n",
       " 'cea.demand.rc_model_SIA.calc_phi_c',\n",
       " 'cea.demand.rc_model_SIA.calc_phi_m',\n",
       " 'cea.demand.rc_model_SIA.calc_phi_m_tot',\n",
       " 'cea.demand.rc_model_SIA.calc_rc_model_temperatures',\n",
       " 'cea.demand.rc_model_SIA.calc_theta_a',\n",
       " 'cea.demand.rc_model_SIA.calc_theta_c',\n",
       " 'cea.demand.rc_model_SIA.calc_theta_ea',\n",
       " 'cea.demand.rc_model_SIA.calc_theta_ec',\n",
       " 'cea.demand.rc_model_SIA.calc_theta_em',\n",
       " 'cea.demand.rc_model_SIA.calc_theta_m',\n",
       " 'cea.demand.rc_model_SIA.calc_theta_m_t',\n",
       " 'cea.demand.rc_model_SIA.calc_theta_o'}"
      ]
     },
     "execution_count": 12,
     "metadata": {},
     "output_type": "execute_result"
    }
   ],
   "source": [
    "keep_fqnames"
   ]
  },
  {
   "cell_type": "code",
   "execution_count": null,
   "metadata": {
    "collapsed": true
   },
   "outputs": [],
   "source": []
  }
 ],
 "metadata": {
  "kernelspec": {
   "display_name": "Python 2",
   "language": "python",
   "name": "python2"
  },
  "language_info": {
   "codemirror_mode": {
    "name": "ipython",
    "version": 2
   },
   "file_extension": ".py",
   "mimetype": "text/x-python",
   "name": "python",
   "nbconvert_exporter": "python",
   "pygments_lexer": "ipython2",
   "version": "2.7.12"
  }
 },
 "nbformat": 4,
 "nbformat_minor": 0
}
