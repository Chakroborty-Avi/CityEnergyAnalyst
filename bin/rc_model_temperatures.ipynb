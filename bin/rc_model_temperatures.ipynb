{
 "cells": [
  {
   "cell_type": "markdown",
   "metadata": {
    "collapsed": true
   },
   "source": [
    "# Create a graph of just the calc_rc_model_temperatures sub-graph"
   ]
  },
  {
   "cell_type": "markdown",
   "metadata": {},
   "source": [
    "#### Author : Daren Thomas\n",
    "#### Intent : To use this information to figure out how to optimize `rc_model_temperatures`\n",
    "#### Date : January 2017"
   ]
  },
  {
   "cell_type": "markdown",
   "metadata": {},
   "source": [
    "## Read in pre-computed data\n",
    "\n",
    "requires a full run of the `demand_main` to be pickled to `docs/demand/demand_main.trace.pickle` first using the `create_function_graph.py` script."
   ]
  },
  {
   "cell_type": "code",
   "execution_count": 1,
   "metadata": {
    "collapsed": false
   },
   "outputs": [
    {
     "ename": "ImportError",
     "evalue": "No module named bin.create_function_graph",
     "output_type": "error",
     "traceback": [
      "\u001b[0;31m---------------------------------------------------------------------------\u001b[0m",
      "\u001b[0;31mImportError\u001b[0m                               Traceback (most recent call last)",
      "\u001b[0;32m<ipython-input-1-762a0e1b5d23>\u001b[0m in \u001b[0;36m<module>\u001b[0;34m()\u001b[0m\n\u001b[0;32m----> 1\u001b[0;31m \u001b[1;32mfrom\u001b[0m \u001b[0mbin\u001b[0m\u001b[1;33m.\u001b[0m\u001b[0mcreate_function_graph\u001b[0m \u001b[1;32mimport\u001b[0m \u001b[0mTraceDataInfo\u001b[0m\u001b[1;33m,\u001b[0m \u001b[0mprint_digraph\u001b[0m\u001b[1;33m\u001b[0m\u001b[0m\n\u001b[0m\u001b[1;32m      2\u001b[0m \u001b[1;32mimport\u001b[0m \u001b[0mpickle\u001b[0m\u001b[1;33m\u001b[0m\u001b[0m\n\u001b[1;32m      3\u001b[0m \u001b[0mtrace_data\u001b[0m \u001b[1;33m=\u001b[0m \u001b[0mpickle\u001b[0m\u001b[1;33m.\u001b[0m\u001b[0mload\u001b[0m\u001b[1;33m(\u001b[0m\u001b[0mopen\u001b[0m\u001b[1;33m(\u001b[0m\u001b[1;34mr'docs/demand/demand_main.trace.pickle'\u001b[0m\u001b[1;33m,\u001b[0m \u001b[1;34m'r'\u001b[0m\u001b[1;33m)\u001b[0m\u001b[1;33m)\u001b[0m\u001b[1;33m\u001b[0m\u001b[0m\n",
      "\u001b[0;31mImportError\u001b[0m: No module named bin.create_function_graph"
     ]
    }
   ],
   "source": [
    "from bin.create_function_graph import TraceDataInfo, print_digraph\n",
    "import pickle\n",
    "trace_data = pickle.load(open(r'docs/demand/demand_main.trace.pickle', 'r'))"
   ]
  },
  {
   "cell_type": "markdown",
   "metadata": {},
   "source": [
    "## Prune the tree to anything not called by `calc_rc_model_temperatures`\n",
    "\n",
    "This assumes the ordering of `trace_data` follows the invocation ordering..."
   ]
  },
  {
   "cell_type": "code",
   "execution_count": null,
   "metadata": {
    "collapsed": false
   },
   "outputs": [],
   "source": [
    "keep_fqnames = set()\n",
    "keep_fqnames.add('cea.demand.rc_model_SIA.calc_rc_model_temperatures')\n",
    "result = []\n",
    "for src, dst in trace_data:\n",
    "    if src.fqname in keep_fqnames:\n",
    "        keep_fqnames.add(dst.fqname)\n",
    "        result.append((src, dst))"
   ]
  },
  {
   "cell_type": "code",
   "execution_count": null,
   "metadata": {
    "collapsed": false
   },
   "outputs": [],
   "source": [
    "print_digraph(result, open(r'docs/demand/rc_model_temperatures.gv', 'w'))"
   ]
  },
  {
   "cell_type": "code",
   "execution_count": null,
   "metadata": {
    "collapsed": true
   },
   "outputs": [],
   "source": [
    "! dot -Tpdf -O docs\\demand\\demand-function-graph.gv"
   ]
  },
  {
   "cell_type": "code",
   "execution_count": null,
   "metadata": {
    "collapsed": true
   },
   "outputs": [],
   "source": []
  }
 ],
 "metadata": {
  "kernelspec": {
   "display_name": "Python [default]",
   "language": "python",
   "name": "python2"
  },
  "language_info": {
   "codemirror_mode": {
    "name": "ipython",
    "version": 2
   },
   "file_extension": ".py",
   "mimetype": "text/x-python",
   "name": "python",
   "nbconvert_exporter": "python",
   "pygments_lexer": "ipython2",
   "version": "2.7.12"
  }
 },
 "nbformat": 4,
 "nbformat_minor": 0
}
